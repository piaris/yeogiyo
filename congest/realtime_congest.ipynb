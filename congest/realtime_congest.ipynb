{
 "cells": [
  {
   "cell_type": "code",
   "execution_count": 3,
   "metadata": {},
   "outputs": [],
   "source": [
    "from io import StringIO\n",
    "import json\n",
    "import requests\n",
    "from statistics import mean\n",
    "from realtime_congest import *"
   ]
  },
  {
   "cell_type": "markdown",
   "metadata": {},
   "source": [
    "- '붐빔'지역 정보 가져오기"
   ]
  },
  {
   "cell_type": "code",
   "execution_count": 2,
   "metadata": {},
   "outputs": [],
   "source": [
    "url = \"https://data.seoul.go.kr/SeoulRtd/getCategoryList?page=1&category=%EC%A0%84%EC%B2%B4%EB%B3%B4%EA%B8%B0&count=15&sort=true\"\n",
    "header = {\n",
    "  \"User-Agent\" : \"Mozilla/5.0 (Windows NT 10.0; Win64; x64) AppleWebKit/537.36 (KHTML, like Gecko) Chrome/125.0.0.0 Safari/537.36\",\n",
    "  \"referer\" : \"https://data.seoul.go.kr/SeoulRtd/list\"\n",
    "}"
   ]
  },
  {
   "cell_type": "code",
   "execution_count": 20,
   "metadata": {},
   "outputs": [
    {
     "data": {
      "text/plain": [
       "[{'area_nm': '역삼역',\n",
       "  'congestion_color': '#DD1F3D',\n",
       "  'area_congest_lvl': '붐빔',\n",
       "  'area_congest_num': 4,\n",
       "  'category': '인구밀집지역',\n",
       "  'x': '역삼역',\n",
       "  'y': '127.0383883'},\n",
       " {'area_nm': '충정로역',\n",
       "  'congestion_color': '#DD1F3D',\n",
       "  'area_congest_lvl': '붐빔',\n",
       "  'area_congest_num': 4,\n",
       "  'category': '인구밀집지역',\n",
       "  'x': '충정로역',\n",
       "  'y': '126.96369152122713'},\n",
       " {'area_nm': '선릉역',\n",
       "  'congestion_color': '#DD1F3D',\n",
       "  'area_congest_lvl': '붐빔',\n",
       "  'area_congest_num': 4,\n",
       "  'category': '인구밀집지역',\n",
       "  'x': '선릉역',\n",
       "  'y': '127.0504475'},\n",
       " {'area_nm': '서울역',\n",
       "  'congestion_color': '#DD1F3D',\n",
       "  'area_congest_lvl': '붐빔',\n",
       "  'area_congest_num': 4,\n",
       "  'category': '인구밀집지역',\n",
       "  'x': '서울역',\n",
       "  'y': '126.9728994'},\n",
       " {'area_nm': '서리풀공원·몽마르뜨공원',\n",
       "  'congestion_color': '#DD1F3D',\n",
       "  'area_congest_lvl': '붐빔',\n",
       "  'area_congest_num': 4,\n",
       "  'category': '공원',\n",
       "  'x': '서리풀공원·몽마르뜨공원',\n",
       "  'y': '127.0026831794888'}]"
      ]
     },
     "execution_count": 20,
     "metadata": {},
     "output_type": "execute_result"
    }
   ],
   "source": [
    "response = requests.get(url, headers=header)\n",
    "response.raise_for_status()\n",
    "response_data = json.loads(response.text)\n",
    "congest_data=response_data['row'][:5]\n",
    "congest_data"
   ]
  },
  {
   "cell_type": "code",
   "execution_count": 23,
   "metadata": {},
   "outputs": [
    {
     "name": "stdout",
     "output_type": "stream",
     "text": [
      "역삼역\n",
      "충정로역\n",
      "선릉역\n",
      "서울역\n",
      "서리풀공원·몽마르뜨공원\n"
     ]
    }
   ],
   "source": [
    "for data in congest_data:\n",
    "  area = data['area_nm']\n",
    "  print(area)"
   ]
  },
  {
   "cell_type": "code",
   "execution_count": 4,
   "metadata": {},
   "outputs": [
    {
     "data": {
      "text/plain": [
       "['서리풀공원·몽마르뜨공원', '충정로역', '역삼역', '서울역', '선릉역']"
      ]
     },
     "execution_count": 4,
     "metadata": {},
     "output_type": "execute_result"
    }
   ],
   "source": [
    "# module test\n",
    "get_congestArea_data()"
   ]
  },
  {
   "cell_type": "code",
   "execution_count": null,
   "metadata": {},
   "outputs": [],
   "source": []
  },
  {
   "cell_type": "code",
   "execution_count": null,
   "metadata": {},
   "outputs": [],
   "source": []
  },
  {
   "cell_type": "markdown",
   "metadata": {},
   "source": [
    "- '붐빔' 지역의 교통정보 가져오기"
   ]
  },
  {
   "cell_type": "code",
   "execution_count": 78,
   "metadata": {},
   "outputs": [],
   "source": [
    "area_nm = get_congestArea_data()\n",
    "area_nm = '서울역'\n",
    "de_area_nm = quote(area_nm)\n",
    "road_url = f\"https://data.seoul.go.kr/SeoulRtd/road?hotspotNm={area_nm}\"\n",
    "header = {\n",
    "  \"User-Agent\" : \"Mozilla/5.0 (Windows NT 10.0; Win64; x64) AppleWebKit/537.36 (KHTML, like Gecko) Chrome/125.0.0.0 Safari/537.36\"\n",
    "}"
   ]
  },
  {
   "cell_type": "code",
   "execution_count": 79,
   "metadata": {},
   "outputs": [],
   "source": [
    "response = requests.get(road_url, headers=header)\n",
    "response_data = json.loads(response.text)\n",
    "road_data = response_data['row']"
   ]
  },
  {
   "cell_type": "code",
   "execution_count": 4,
   "metadata": {},
   "outputs": [],
   "source": [
    "from statistics import mean"
   ]
  },
  {
   "cell_type": "code",
   "execution_count": 91,
   "metadata": {},
   "outputs": [
    {
     "name": "stdout",
     "output_type": "stream",
     "text": [
      "서리풀공원·몽마르뜨공원 22.4\n",
      "충정로역 23.7\n",
      "역삼역 17.1\n",
      "서울역 19.2\n",
      "선릉역 17.3\n"
     ]
    }
   ],
   "source": [
    "area_list = get_congestArea_data()\n",
    "header = {\n",
    "    \"User-Agent\" : \"Mozilla/5.0 (Windows NT 10.0; Win64; x64) AppleWebKit/537.36 (KHTML, like Gecko) Chrome/125.0.0.0 Safari/537.36\"\n",
    "    }\n",
    "\n",
    "\n",
    "for area_nm in area_list :\n",
    "    road_url = f\"https://data.seoul.go.kr/SeoulRtd/road?hotspotNm={area_nm}\"\n",
    "    response = requests.get(road_url, headers=header)\n",
    "    response_data = json.loads(response.text)\n",
    "    road_data = response_data['row']\n",
    "    spd_values = [float(item['SPD']) for item in road_data if 'SPD' in item]\n",
    "    avg_spd = round(mean(spd_values),1)\n",
    "    print(area_nm, avg_spd)"
   ]
  },
  {
   "cell_type": "code",
   "execution_count": 5,
   "metadata": {},
   "outputs": [
    {
     "data": {
      "text/plain": [
       "[{'서리풀공원·몽마르뜨공원': 21.3},\n",
       " {'충정로역': 23.5},\n",
       " {'역삼역': 16.5},\n",
       " {'서울역': 17.6},\n",
       " {'선릉역': 16.8}]"
      ]
     },
     "execution_count": 5,
     "metadata": {},
     "output_type": "execute_result"
    }
   ],
   "source": [
    "# module test\n",
    "get_congestRoad_data()"
   ]
  }
 ],
 "metadata": {
  "kernelspec": {
   "display_name": "Python 3",
   "language": "python",
   "name": "python3"
  },
  "language_info": {
   "codemirror_mode": {
    "name": "ipython",
    "version": 3
   },
   "file_extension": ".py",
   "mimetype": "text/x-python",
   "name": "python",
   "nbconvert_exporter": "python",
   "pygments_lexer": "ipython3",
   "version": "3.12.3"
  }
 },
 "nbformat": 4,
 "nbformat_minor": 2
}
