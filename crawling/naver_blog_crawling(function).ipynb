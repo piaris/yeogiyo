{
 "cells": [
  {
   "cell_type": "markdown",
   "metadata": {},
   "source": [
    "# 수정중"
   ]
  },
  {
   "cell_type": "code",
   "execution_count": 1,
   "metadata": {},
   "outputs": [],
   "source": [
    "import os\n",
    "import sys\n",
    "import pandas as pd\n",
    "import time\n",
    "from datetime import datetime, date, timedelta\n",
    "from bs4 import BeautifulSoup\n",
    "\n",
    "from webdriver_manager.chrome import ChromeDriverManager\n",
    "from selenium.webdriver.chrome.service import Service\n",
    "from selenium import webdriver\n",
    "\n",
    "from selenium.webdriver.common.by import By\n",
    "from selenium.webdriver.common.keys import Keys\n",
    "from selenium.webdriver.support.ui import Select\n",
    "\n",
    "from selenium.webdriver.support.ui import WebDriverWait\n",
    "from selenium.webdriver.support import expected_conditions as EC"
   ]
  },
  {
   "cell_type": "markdown",
   "metadata": {},
   "source": [
    "naver blog 검색"
   ]
  },
  {
   "cell_type": "code",
   "execution_count": 19,
   "metadata": {},
   "outputs": [],
   "source": [
    "def blog_finder(keyword) :\n",
    "    # 조회 기간 설정 : 7일(days에서 수정 가능)\n",
    "    # startDate=7일전 날짜, endDate=오늘 날짜\n",
    "    date = datetime.now()\n",
    "    startDate= (date+timedelta(days=-7)).strftime('%Y-%m-%d')\n",
    "    endDate = (datetime.now()).strftime('%Y-%m-%d')\n",
    "\n",
    "    # Chrome driver 환경설정 및 실행\n",
    "    options = webdriver.ChromeOptions()\n",
    "    options.add_experimental_option(\"excludeSwitches\", [\"enable-automation\"])\n",
    "    options.add_argument('headless')\n",
    "    driver = webdriver.Chrome(options = options)\n",
    "    base_url = f\"https://section.blog.naver.com/Search/Post.naver?pageNo=1&rangeType=WEEK&orderBy=sim&startDate={startDate}&endDate={endDate}&keyword={keyword}\"\n",
    "    driver.get(base_url)\n",
    "    time.sleep(1)\n",
    "    \n",
    "    # 총 검색 결과\n",
    "    html = driver.page_source\n",
    "    soup = BeautifulSoup(html, \"html.parser\")\n",
    "    search_number = soup.find(class_=\"search_number\")\n",
    "    print(\"총 블로그글 개수 : \", search_number.text)\n",
    "    return driver, html, soup"
   ]
  },
  {
   "cell_type": "markdown",
   "metadata": {},
   "source": [
    "연관 검색어 가져오기"
   ]
  },
  {
   "cell_type": "code",
   "execution_count": 7,
   "metadata": {},
   "outputs": [],
   "source": [
    "def getSubKeyword(keyword) : \n",
    "    # Chrome driver 환경설정 및 실행\n",
    "    options = webdriver.ChromeOptions()\n",
    "    options.add_experimental_option(\"excludeSwitches\", [\"enable-automation\"])\n",
    "    options.add_argument('headless')\n",
    "    driver = webdriver.Chrome(options = options)\n",
    "    base_url = f\"https://section.blog.naver.com/Search/Post.naver?pageNo=1&rangeType=WEEK&orderBy=sim&startDate={startDate}&endDate={endDate}&keyword={keyword}\"\n",
    "    driver.get(base_url)\n",
    "    time.sleep(1)\n",
    "\n",
    "    # 전체 html 가져오기\n",
    "    html = driver.page_source\n",
    "    soup = BeautifulSoup(html, \"html.parser\")\n",
    "    \n",
    "    \n",
    "    # 연관 검색어 태그 가져오기 \n",
    "    sub_keywords_data = soup.select('div.related_srch > ul > li')\n",
    "    sub_keywords = []\n",
    "    for i in sub_keywords_data: \n",
    "        sub_keywords.append(i.get_text())\n",
    "\n",
    "    print(sub_keywords)\n",
    "    driver.close()\n"
   ]
  },
  {
   "cell_type": "markdown",
   "metadata": {},
   "source": [
    "title/url 가져오기"
   ]
  },
  {
   "cell_type": "code",
   "execution_count": 21,
   "metadata": {},
   "outputs": [],
   "source": [
    "def getBlogInfo(keyword) : \n",
    "    blog_finder(keyword)\n",
    "    \n",
    "    # blog url/title 가져오기\n",
    "    # html = driver.page_source\n",
    "    # soup = BeautifulSoup(html, \"html.parser\")\n",
    "    \n",
    "    search_number = soup.find(class_=\"search_number\")\n",
    "    total_num = search_number.text.replace(\"건\",'').replace(\",\",'')\n",
    "    total_num = int(total_num)\n",
    "    page_num = 1\n",
    "    end_page=total_num//7+1\n",
    "    end_page\n",
    "    contents_num = 7\n",
    "\n",
    "    blog_title_lst = []\n",
    "    blog_url_lst = []\n",
    "\n",
    "    while contents_num == 7 : \n",
    "        search_url = f\"https://section.blog.naver.com/Search/Post.naver?pageNo={page_num}&rangeType=WEEK&orderBy=sim&startDate={startDate}&endDate={endDate}&keyword={query}\"\n",
    "        driver.get(search_url)\n",
    "        time.sleep(0.5)\n",
    "        \n",
    "        html = driver.page_source\n",
    "        soup = BeautifulSoup(html, \"html.parser\")\n",
    "        \n",
    "        posts_data = soup.select('div.info_post > div.desc > a.desc_inner')\n",
    "        \n",
    "        # 블로그 제목, url 가져오기\n",
    "        posts_data = soup.select('div.info_post > div.desc > a.desc_inner')\n",
    "\n",
    "        for post in posts_data :\n",
    "            title=post.get_text().replace('\\n','').strip()\n",
    "            href=post.attrs['href']\n",
    "            blog_title_lst.append(title)\n",
    "            blog_url_lst.append(href)\n",
    "        \n",
    "        page_num +=1\n",
    "        contents_num = len(posts_data)\n",
    "\n",
    "    print(blog_title_lst)\n",
    "    print(blog_url_lst)"
   ]
  },
  {
   "cell_type": "code",
   "execution_count": 22,
   "metadata": {},
   "outputs": [
    {
     "name": "stdout",
     "output_type": "stream",
     "text": [
      "총 블로그글 개수 :  10,612건\n"
     ]
    },
    {
     "ename": "UnboundLocalError",
     "evalue": "local variable 'soup' referenced before assignment",
     "output_type": "error",
     "traceback": [
      "\u001b[1;31m---------------------------------------------------------------------------\u001b[0m",
      "\u001b[1;31mUnboundLocalError\u001b[0m                         Traceback (most recent call last)",
      "Cell \u001b[1;32mIn[22], line 1\u001b[0m\n\u001b[1;32m----> 1\u001b[0m \u001b[43mgetBlogInfo\u001b[49m\u001b[43m(\u001b[49m\u001b[38;5;124;43m\"\u001b[39;49m\u001b[38;5;124;43m강남역\u001b[39;49m\u001b[38;5;124;43m\"\u001b[39;49m\u001b[43m)\u001b[49m\n",
      "Cell \u001b[1;32mIn[21], line 8\u001b[0m, in \u001b[0;36mgetBlogInfo\u001b[1;34m(keyword)\u001b[0m\n\u001b[0;32m      2\u001b[0m blog_finder(keyword)\n\u001b[0;32m      4\u001b[0m \u001b[38;5;66;03m# blog url/title 가져오기\u001b[39;00m\n\u001b[0;32m      5\u001b[0m \u001b[38;5;66;03m# html = driver.page_source\u001b[39;00m\n\u001b[0;32m      6\u001b[0m \u001b[38;5;66;03m# soup = BeautifulSoup(html, \"html.parser\")\u001b[39;00m\n\u001b[1;32m----> 8\u001b[0m search_number \u001b[38;5;241m=\u001b[39m \u001b[43msoup\u001b[49m\u001b[38;5;241m.\u001b[39mfind(class_\u001b[38;5;241m=\u001b[39m\u001b[38;5;124m\"\u001b[39m\u001b[38;5;124msearch_number\u001b[39m\u001b[38;5;124m\"\u001b[39m)\n\u001b[0;32m      9\u001b[0m total_num \u001b[38;5;241m=\u001b[39m search_number\u001b[38;5;241m.\u001b[39mtext\u001b[38;5;241m.\u001b[39mreplace(\u001b[38;5;124m\"\u001b[39m\u001b[38;5;124m건\u001b[39m\u001b[38;5;124m\"\u001b[39m,\u001b[38;5;124m'\u001b[39m\u001b[38;5;124m'\u001b[39m)\u001b[38;5;241m.\u001b[39mreplace(\u001b[38;5;124m\"\u001b[39m\u001b[38;5;124m,\u001b[39m\u001b[38;5;124m\"\u001b[39m,\u001b[38;5;124m'\u001b[39m\u001b[38;5;124m'\u001b[39m)\n\u001b[0;32m     10\u001b[0m total_num \u001b[38;5;241m=\u001b[39m \u001b[38;5;28mint\u001b[39m(total_num)\n",
      "\u001b[1;31mUnboundLocalError\u001b[0m: local variable 'soup' referenced before assignment"
     ]
    }
   ],
   "source": [
    "getBlogInfo(\"강남역\")"
   ]
  },
  {
   "cell_type": "markdown",
   "metadata": {},
   "source": []
  }
 ],
 "metadata": {
  "kernelspec": {
   "display_name": "Python 3",
   "language": "python",
   "name": "python3"
  },
  "language_info": {
   "codemirror_mode": {
    "name": "ipython",
    "version": 3
   },
   "file_extension": ".py",
   "mimetype": "text/x-python",
   "name": "python",
   "nbconvert_exporter": "python",
   "pygments_lexer": "ipython3",
   "version": "3.8.10"
  }
 },
 "nbformat": 4,
 "nbformat_minor": 2
}
