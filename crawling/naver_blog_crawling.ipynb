{
 "cells": [
  {
   "cell_type": "code",
   "execution_count": 1,
   "metadata": {},
   "outputs": [],
   "source": [
    "import os\n",
    "import sys\n",
    "import pandas as pd\n",
    "import time\n",
    "from datetime import datetime, date, timedelta\n",
    "from bs4 import BeautifulSoup\n",
    "\n",
    "from webdriver_manager.chrome import ChromeDriverManager\n",
    "from selenium.webdriver.chrome.service import Service\n",
    "from selenium import webdriver\n",
    "from selenium.webdriver.chrome.options import Options\n",
    "\n",
    "\n",
    "from selenium.webdriver.common.by import By\n",
    "from selenium.webdriver.common.keys import Keys\n",
    "from selenium.webdriver.support.ui import Select\n",
    "\n",
    "from selenium.webdriver.support.ui import WebDriverWait\n",
    "from selenium.webdriver.support import expected_conditions as EC"
   ]
  },
  {
   "cell_type": "markdown",
   "metadata": {},
   "source": [
    "# NAVER BLOG Crawling\n",
    "- title/url "
   ]
  },
  {
   "cell_type": "code",
   "execution_count": 71,
   "metadata": {},
   "outputs": [
    {
     "name": "stdout",
     "output_type": "stream",
     "text": [
      "2024-05-03 2024-05-10\n",
      "총 블로그글 개수 :  335건\n",
      "연관검색어: \n",
      "회기역 맛집회기역 경의중앙선회기역 1호선회기역 경의중앙선 시간표회기역 카페회기역 시간표회기역 술집회기역 미용실회기역 경춘선회기역 1호선 시간표회기역 미래사주회기역 오피스텔회기역 파전골목회기역 놀거리회기역 파전회기역 아파트회기역 꽃집회기역 대학교청량리역상봉역\n",
      "\n",
      "\n",
      "['회기왕갈비탕, 혼밥 하기 좋은 회기역 맛집', '또 갈수밖에 없는 회기역 술집 와레와레 또 갔다왔지요.', '회기역 맛집 또와 양꼬치에서 무한리필 즐기기 회기 양꼬치', '회기역 조용한 카페 / 비건디저트 벨리스 후기', \"회기역 삼겹살 맛집 '고깃집도훈' 냉삼 1인분에 9,000원 가성비 최고!\", '1년 만에 재방문한 회기역 홍익돈까스 내돈내산 찐 후기', '회기역 점심맛집 외대 맛집 추천 회기왕갈비탕', '회기역 외대 맛집 회기왕갈비탕', '[회기] 동대문구 회기역 맛집 신쭈 회기점 - 회기역쭈꾸미와 철판 쭈꾸미삼겹살 추천', '휘경동 회기역 근처 맛집 고기가 푸짐한 회기왕갈비탕', '회기역 술집 네 가지 소스 독특한 양고기집 양마담', '경희대 데이트 팔각도 경희대점 회기역 회식', '회기역 스캔 추천 [스캔데이] 시립대 경희대 책스캔', '회기역 맛집 [인생 소곱창] 인생맛집 회기역 데이트맛집', \"비올때 생각나는 회기역 파전골목의 대표맛집 '이모네 왕파전'\", '회기역 맛집 데이트 매스 플레이트 파스타 목살스테이크 샐러드', '[회기역맛집 | 경희대맛집 | 회기역쭈꾸미] 파전골목만 유명한게 아닙니다. 엄청난...', '경희대 회기역 맛집 내돈내산 규범 곱창 찐 맛집 인정~!', '새로 생긴 회기역 디저트카페 \"벨리스\" / 비건디저트', '회기역 개인회생 개인파산 신용회복, 법무사 빚탈출을 꿈꾸는 분들을 위해', '휘경동 맛집 회기역 밥집 회기왕갈비탕', '교대근무 직장인 5월 대회 준비 / 회기pt, 회기헬스, 회기역pt 애프터짐', '회기역에서 놀았어요. 인기있는 맛집 코타와 카페 오후 한시 십일분', '[회기/경희대 맛집] 만두주는 가성비 냉면, 회기역 경희대 정문 서종냉면', '<회기역 헬스장/ pt 추천> 101퍼센트 짐 3주차 pt 수강 후기☁️', '[동대문구] 또띠아에 싸먹는 닭갈비 회기역 2번출구 맛집 닭갈비도시', '회기역 점심맛집 회기왕갈비탕 외대맛집', '[회기역] 언니네 함바그 치즈 함바그+언니네 함바그', '[회기역/경희대 카페 추천] 케이크 맛집 <한시십일분 2호점>', '[회기역 카페] 카페 벨리스', '회기역 경희대 근처 베이커리 카페 무드베이킹 디저트 슈 맛집 추천', '[휘경동맛집]  회기역 근처, 또띠아에 싸먹는 <닭갈비도시>', '[회기역 데이트] 경희대 근처 만화카페 너나들이 데이트..♡', '회기역, 양고기 화로구이 ‘라무진 회기점’', '[ 회기역 : 상록회관 ] 가성비, 퀄리티가 좋은 고깃집 / 회식 장소로 강추!!!', '[회기역/휘경동 닭갈비] 조리되서 나오는 깔끔 매콤한 닭갈비 도시℃ 솔직후기', '회기역 맛집 데이트 회기 술집모음', '회기역 술집 회기호프 역 근처 호프집', '회기역 내돈내산 스시 오마카세 “히노하루” 가성비 오마카세 매우 추천!!!...', '[회기역] 주차가능하고 매장이 엄청넓은 스타벅스 회기역사거리점', '회기역 이모네왕파전, 비오는 날 자꾸 생각나♡', '(내돈내산) 회기역 파전골목 파전맛집 솥뚜껑철판파전', '회기역 경희대 샐러드 맛집 \"빙고 앤 샐러드\" 닭다리살샐러드 먹고왔어요', '회기역 수제버거 회기버거 본점 내돈내산 솔직후기', '[회기역 필라테스/ 회기역 요가] 요가를 하면 뭐가 좋아?', '카공,모임하기 좋은 회기역 대형카페 투썸플레이스 휘경점', '일구구삼_회기역 고기 맛집', '나만알고싶은 회기역 술집, 스시히노하루&회기링고', '디저트] 한 번 맛보면 재구매 안 할 수 없을 걸? 회기역 쿠키 테이크아웃 미깡케이크', '회기역 브런치 카페 ㅣ 레프트커피 경희대점', '추억여행 경희대 민들레영토  회기역 카페 맛집 ^^', '[서울 회기역 카페] 한시십일분 / 조용하고 분위기 있는 카페☕️', '회기역 아늑한 카페 망우로30', '<회기역 필라테스> 더 드림 필라테스_허리근력강화에 좋은 운동법 알기(스완)', '[회기역 카페] / 비하인드미 (BEHIND ME) / 따듯하고 편안한 분위기의 단골카페', '동대문구 회기역 허수아비 경희대점 로스까스 소고기쌀국수 세트메뉴', '[맛집] 서울 회기역/경희대 - 생마차(生馬車) 경희대점(테바나카/닭날개, 야끼소바...', '[맛집 추천] 회기역 라운지 펍 ‘테르메서울’ 후기 | 회기역 카페 추천 | 경희대 라운지...', '[황금코다리] 회기역 2번출구 | 중년의 엽떡 코다리', '[회기역/ 경희대 맛집] 라무진 회기점 양고기 화로구이 전문점 _어버의날 맛 효도...', '동대문구 회기역/ 카네이션 앙금쿠키 후기 어버이날 스승의날 선물추천 미순간', '앗..회기역 중앙선 쪽 스토리웨이 편의점 0430 폐점', '서울 동대문구 회기역 카이스트 서울캠퍼스 석림관 대학교 행사도시락 배달 및 회수수거', '회기역 헬스장 빌리프짐 회기점에서 pt받기 feat. 회기헬스 pt 추천 후기', '헤매이던 경의선 숲 길...', '동대문구 휘경동빌라매매 회기역도보2분 3룸구조', '5월일기 (1)', '중단발 레이어드컷 S컬펌 맛집, 회기미용실 세르피에헤어 시크릿점 샤니쌤', '파킹통장 금리', '경희대 학생들의 아지트, 데이트 코스! 회기 요리주점 오뚝 방문기', '신이문역 맛집 한우 차돌박이 소곱창전골이 맛있는 이문동그집', '동대문 청량리 비뇨기과 성병 클라미디아 Chlamydia trachomatis 여성 질 분비물...', '회기역카페 카공하기 좋은 대형 카페 [베러댄] 내돈내산', '[벅터뷰]회기 맛집 버거호 “내가 아직 햄버거를 좋아하는가, 매일 묻죠”', '회기남자머리 GAK HAIR 각헤어 회기역점 익쌤 크롭컷 다운펌 만족후기', '눈길을 사로잡는 경춘선, 경의중앙선 역사 내 조명 광고', '회기경희대 회식 ‘마장동고기집’ 주류가 2000원이네요', '양쪽 완전매복 사랑니 4개 한꺼번에 발치 가능한가요? 청량리 치과 사랑니 안아프게...', '회기 맛집 경희대 술집 추천 해장도 가능한 고황24시', '경희대 가성비 맛집 마장동 고기집 경희대점', '[서울 / 회기] 회기 온달파전 내돈내산 회기파전골목 회기맛집 가성비 가득 철판해물파전...', '대학교 5학년 일상', '[W5_세르피에헤어 시크릿점] 웨딩 촬영 앞두고 경희대 미용실에서 매트 브라운으로 염색', '[동대문 회기] 역전 가락국수에서 덮밥 세트메뉴 먹고 왔어요! 내 돈 내산 솔직 후기', '[회기 숙성회 맛집] 시립대 데이트 코스 루프탑 감성 이자카야 술집, 피식', '도심속 제주감성  그대로 회기동카페 미깡케이크&커피', '청량리 조개구이 맛집 조개까는 삼겹살에서 조개찜, 칼국수 사리, 라면 사리 먹고 온 후기', '경희대/회기 치킨 맛집, 누룽지통닭이 유명한 ‘계림원 회기역점’', '회기 이자카야 <와레와레 쿡>에서 휴일 마지막 밤 마무리 :)', '회기 맛집 일구구삼 :: 쫄깃 삼겹살 일품 사이드 비빔면 소고기된장찌개', '남미 현지의 느낌과 맛 그대로 경희대핫도그 구칠즈그릴', '[서울/동대문] 가성비 좋은 피자&파스타 회기 맛집 ‘17’', '회기 비건 디저트 카페 벨리스, 비건 비스코티 맛집 !', '[Weekly] 4/28-5/5 봄과 여름 사이 그 어딘가', '서울시립대 웰니스 센터 스쿼시장 방문 후기~', '‘ 돼지국밥 ’ 제공하는 경희대 여성전용 원룸텔 고시원 리빙텔 코리빙하우스 고시텔...', '이건물얼마?회기동 먹자골목편(1)', '휘경동맛집 또띠아 싸먹는 부드러운 닭갈비 닭갈비도시', '회기 맛집 : 경희대 식당 추천 순살 찜닭 / 봉추찜닭 경희대점', '회기고기맛집 회기차돌박이 이문동그집 회기직영점', '휘경동 휘경해모로프레스티지아파트 매매 전세 34평 태인경매 2023타경3865', '[매스플레이트] 경희대 근처 갓성비 양식 대존맛집 추천', '[회기 맛집] 모코모코 내돈내산 후기(메뉴, 실내)', '회기맛집 스시선생, 회기 라떼맛집 배트콩 내돈내산 솔직후기', '주뱅 경희대학교 일반대학원 조리외식경영학과 석사3기 8주차✍', '경희대 산책, 친구픽 회기 디저트카페 추천', 'DDM 청년창업센터 소개 및 아기 유니콘 선발', '<블아> 레이사의 선물', '[회기] 경희대 주변 가성비 최고 맛집 동대문 술집 꽃술', '미우라 MB101 머슬백아이언 상급자 프로젝트X IO 매칭 극강 손맛', '회기 맛집 심양양꼬치 경희대점 추천 양갈비 후기', '[경희대카페] ALGO COFFEE (넓고 조용한 회기카페)', '[서울] 경희대피어싱 심쿵피어싱', '[아이데코안경 서울경희대점] 경희대안경 잘 하는 곳 아이데코안경 후기', '회기역점심 돈까스 No.1 카츠이로하', '다이어트 샐러드 샌드위치 경희대 써브웨이 맛집', '회기 외대앞역 카페 신보', '단발', '[일상] 낭만적인 이유는 사랑을 믿기 때문이야', '호주 비자 신체검사 [삼육서울병원]', '[서울/동대문구] 회기 삼육서울병원근처 갓성비 노포떡볶이집 ‘맹자네떡볶이’', '휘경동 맛집 닭갈비도시 닭갈비 맛집', '[노원눈썹] 페니터치 회기역점, 자연눈썹 후기', '[경희대 맛집] 가성비 좋은 마장동고기집 경희대점 솔직후기(주차 가능)', '회기 경희대 빵 케이크 맛집 뽀루뚜아 경희대점', '보이스피싱 전화가 오다 .. feat. 서울중앙지검 검사', '버크 AI77 더블와이드 퍼터 페이스밸런스 거리감 더불어 방향성까지', '[회기] 안주 퀄리티 좋은 ‘백수씨 심야식당 본점’ 해산물 술집', '회기 속눈썹펌 추천 펌포인트연장 내돈내산 오브제이래쉬', '회기 헬스장 개별 샤워장이 있는 빌리프짐에서 다가올 여름 준비하기', '옛 기억, 배봉산', '회기 보드게임카페 경희대 보드게임 카페 홈즈앤루팡 경희대점', '순삭해버린 4월•••', '2024년 상반기를 보내며..', \"[동대문/회기동] '비틀' 경희대 안주 맛집 힙한 술집\", '[회기 벨리스 VELISS] 비스코티들과 시나몬롤 스콘, 서비스', '경희대 고기집 팔각도 팔도세트 회기 구워주는 숯불닭갈비 특수부위', '회기 경희대 소고기 [마장동고기집] 재방문 소주맥주2000원 모임 회식장소 추천 (가격...', '[회기역맛집] LEFT COFFEE : 진짜 우리동네면 자주 갔을 텐데.. 여긴 커피도 맛있고...', '회기동파스타 회기데이트 추천 매스플레이트 회기점', '경희대맛집 (솔낭구), 회기맛집 [존맛탱구리]', '서울 동대문 헬스장 스포벡휘트니스 회기역점 위치 영업시간 가격 정보', '경희대 벚꽃 [민들레영토, 후루사토]', '[회기] 윤양식', '규범곱창 | 회기 학생들이 좋아하는 곱창 맛집, 회기 규범곱창 실패 없는 최강 조합 추천', '시립대헬스장 / 운동하는 날 술을 마시면 안 되는 이유!', '회기동 쭈꾸미 삼겹살 맛집 강금옥 쭈꾸미 회기/맵기 선택 꿀팁', '회기동 쭈꾸미 삼겹살 맛집 강금옥 쭈꾸미 회기/맵기 선택 꿀팁', '회기 베이커리가 맛있는 카페 “샤갈의마을”', '[휘경동맛집] 닭갈비 도시 솔직 후기 닭갈비 맛있게 먹는법', '[경희대/회기맛집] 더운날엔 육쌈냉면 아니겠어요', '[회기/킥복싱] 운동이 재미없는 분들 보세요.', '회기 경희대 카페 배러댄 커피 카공하기 좋은 카페', \"회기│아기자기한 분위기의 케이크 맛집 '메모아르'\", '<우당탕탕 회기 태웅회관 5월 소식> 회기 무에타이 킥복싱 복싱 청량리', '경희대 회기 술집 가성비 맛집 육회 인생소곱창', '민증을 투표하고 왔다.', '휘경필라테스 (H필라테스) 4일차 후기', '[회기필라테스/경희대필라테스] 2024 전국 페스티벌 일정_옐로우필라테스', '회기 베트남음식 맛집 지어앤(Choen)', '까르보나라와 감바스가 맛있었던 곳 [새벽두시] 메뉴판o/분위기좋은회기역맛집', \"[서울/동대문구] 경희대, 외대, 시립대 근처 크루아상으로 원탑먹은 '964커피...\", '조용한 경희대 회기 카페 비건 디저트 벨리스', '[회기] 요리부터 양꼬치까지 전부 맛있는 가성비 맛집 \"와인 양꼬치\"', '회기 모코모코 내돈내산 냠냠쩝쩝 후기~!!', '[외대필라테스/이문동필라테스] 시간대별 운동 추천_옐로우필라테스', '동대문구 휘경주공1,2단지 가봄! 월부추천단지임장 2탄', '다이어트 서바이벌 모집!!', '청량리 타이어 BMW 3GT TA91 225 55 17 그란투리스모타이어추천', '강제추행 재판 대비 전략은', '24年 4月', '경희대헬스장 / 허리디스크 예방을 위한 최고의 운동!', '경희대 맛집/회기동 직접 구워주시는 두툼한 고기!맛집  [일구구삼]', \"회기│솥뚜껑에 나오는 바삭한 해물파전 맛집 '솥뚜껑철판파전'\", '청량리 휘경동 이문동 외대 회기 킥복싱 무에타이 명문체육관 회기 태웅회관 6/3수강료...', '경희대 육회서비스 한우 소곱창 맛집 인생소곱창 회기본점', '회기 크로스핏 무료체험 신나고 재밌게 운동할수 있는 슬릭부스트 외대점', '회기 헬스장 / 회기pt / 스포벡 경희대점 고재현 트레이너의 바벨 프론트 스쿼트 운동...', '5월 1주차 일상 끄적', '흥미로운 회기역맛집, 상록회관 연탄구이 경희대점에서의 잊지 못할 식사', '회기헬스장 / 헬스장 주의사항!!!', '동대문구 회기동 필라테스 / 곤스바디짐 회기점 / 영업시간 문의전화', '회기맛집 일구구삼 고기 경희대점, 가성비 삼겹살 맛집', '지영이랑 회기 데이트', '동대문구 회기동 필라테스 / 류아 필라테스 회기점 / 영업시간 문의전화', '[회기필라테스/경희대필라테스] 2024 수도권 대학교 축제 일정_옐로우필라테스', '회기역맛집 삼겹살 천국, 상록회관 연탄구이!', '새벽두시 / 파스타와 분위기 모두 맛있는 시립대파스타 회기맛집', '[서울 전농동/서울시립대학교]이포크 : 시립대 근처 식물테리어 감성 카페', '동대문구 카페 <오브이앤 OVN CAFE> 회기에서 베트남을 느끼다', '회기 경희대 쌀국수 맛집 하마쌀국수 혼밥 솔직 후기', '공증무효소송 위한 해결 방안 9가지', '[2024]룰루랄라 바쁨이 시작됐다', '휘경자이디센시아 분양권 입주권 평면도 배치도', '망우역맛집-삼삼뼈국망우점 맑은뼈칼국수 해장뼈국 한돈육전', '스튜디오 줌인, 회기 사진관 빈지티 프로필 사진', '동대문구 회기동 스웨디시마사지 잘하는곳 럭키테라피', '[회기] 커피와 브런치 둘 다 잡은 카페 \"레프트 커피\"', '호주 교환학생 비자 생체정보 등록 (센터 이전) | 신체검사 병원 | 원하는 날짜에...', '회기역미용실 리프컷 세미리프컷 맨드살롱2호점 도빈쌤', '경희대골프연습장/클럽세척 및 보관방법!', '[회기필라테스/경희대필라테스] 로즈데이장미꽃 추천_옐로우필라테스', '회기 베트남 쌀국수 가성비 맛집 퍼하이', '[외대필라테스/이문동필라테스] 물 대신 마시면 좋은 차_옐로우필라테스', '[경희대맛집] 부모님 모시고 가기 좋은  회기쌀국수맛집 하마쌀국수', '더프린트랩 매장 내 다양한 용지 규격', '서울 동대문 골프용품 전문점 프라임골프 동대문점 위치 영업시간 가격 정보', '회기파전 골목 이모네 왕파전 방문 후기와 방문 꿀팁', '회기역한정승인 관련 문제가 발생했다면!', '어버이날 선물 파크골프채 가격 추천 빅토리 NM09 블랙스완 최강', '어버이날 선물 파크골프채 가격 추천 빅토리 NM09 블랙스완 최강', '동대문구 실용음악학원 동대문구 보컬학원 동대문구 댄스학원 동대문구 드럼학원...', '회기역네일 수아에서 이달의 네일아트로 힐링 (feat. 경희대 네일 잘하는 곳)', '외대 헬스장 / 회기pt / 경희대 헬스장 / 이원효 트레이너의 스텝업 운동을 알려드려요!', '[최신 하나개해수욕장 3탄]  국내여행지 추천, 아기랑 인천 가볼 만한 곳 / 물놀이...', '[복학 일기] 개강 9주차 | 시험 끝났으면 야무지게 놀고먹는 것이 예의 ♀️', '동대문구 지역 분위기 둘러보기(3) 이문동, 휘경동: 이문휘경 뉴타운(래미안 라그란데...', '요즘 일상 7', '[외대필라테스/이문동필라테스] 다이어터 외식메뉴 추천_옐로우필라테스', '골프 퍼터 추천 고르는 방법 스카티카메룬 씨모어 버크', '회기 헬스장 / 외대 헬스장 / 회기pt / 스포벡 경희대점 양중모 트레이너의 벤트 오버...', '본2 1Q 대학일기', '2층 주택 개조 아늑한 빈티지 감성 카페 추천 Nerdy Blue', '[서울 중구] 인생 첫 남산 케이블카 탑승기 - N서울타워, 그 유명한 남산 돈까스 - 산채집', '[서울 중구] 인생 첫 남산 케이블카 탑승기 - N서울타워, 그 유명한 남산 돈까스 - 산채집', '서울역 핸드폰 분실 아이폰13미니 레드 ㅡㅡ', '회기역미용실 필러스컷 드랍컷 맨드살롱2호점 도빈쌤', '경희대카페 회기역카페 회기카페 회기역디저트 회기디저트 경희대디저트 우아한 과일', '[외대필라테스/이문동필라테스] 야외 유산소 운동♀️_옐로우필라테스', '황혼이혼뜻 정확한 판단은', '골프채 중고매입 클럽 판매보상 미즈노 MX1 단조 아이언 잘치기 위한', '[경희대맛집] 오션뷰 보면서 먹는 하마쌀국수 , 회기쌀국수', '20240503', '5월 가정의 달 특집 (미리 보는 용문 여행)', '8', '경의중앙선 급행 노선도&수색행 용문행 정차역', '중랑구 묵동 아이파크 욕실환풍기 교체 / 힘펠 욕실환풍기 교체 / 동대문구 이문동...', '회기동데이트코스 봄의정원 회기점에서 분위기 있고 맛있게 먹고왔어요', '6년째 휘경동 로하필라테스를 운영할수있는 이유', '경희대 멕시코 타코 맛집 / 코타 KOTA', '동대문구 회기동 필라테스 / 현필라테스&요가 회기점 / 영업시간 문의전화', '[임장] 서울 동대문구 임장(1)', '캐나다 ep 0-2', '[청량리] 안주 무한리필 만원?! 서비스까지!<술고래>', '[회기필라테스/경희대필라테스] 5월 여행지 추천_옐로우필라테스', '아침 출근길', '고소하고 맛있는 돼지한근 먹고 왔어요~경희대맛집 상록회관 연탄구이 경희대점', '동대문구 파스타 <봄의정원 회기점> 머랭 떡볶이가 보는재미 먹는재미 다 주네요.', '[회기 헬스장/외대 PT]상지교차증후군 2탄(운동법)', '[회기 헬스] 올챙이배의 위험성? / 빌리프짐 회기점', '동대문전농동신점 용한점집 넉대신당에서 결혼운 보고 왔어요:)', '어린이날에 머햇징?', '[서울근교 애견카페] 남양주 바닐라 브릭 주말 나들이', '회기역맛집 상록회관 연탄구이 경희대점에서의 특별한 경험', '5월 첫 주의 정리', '열정적인 회기역고기집 체험기: 상록회관 연탄구이 경희대점에서의 맛있는 하루', '[일상] 약에 취해 써내려간 가사처럼', '[동대문구 파스타] 봄의정원 회기점에 다녀왔어요~', '벨라루체웨딩홀 서울점', '[회기필라테스/경희대필라테스] 범죄도시4 영화소개_옐로우필라테스', '아 블로그 써야 하는데..', '존경스러운 상록회관 연탄구이, 회기역맛집에서의 따뜻한 만찬', '휘경제1동 헬스장 무브짐 24시 헬스 PT 회기휘경점 착한 가격과 리뷰는 덤으로 추천...', '[군침돌다] 보드람 치킨(경희, 회기맛집)', '2024년 5월, 서울ㆍ부산 \"초염력 의세계\" 저자 대천 정순근 원장 행사에...', '[군침돌다] 마이달리아_버터스카치 라떼 (경희, 회기카페)', '[군침돌다] 마이달리아_버터스카치 라떼 (경희, 회기카페)', '[비틀] 우삼겹마라로제떡볶이가 맛있는 회기 술집', '4월은 비의 거짓말', '이문역 아이파크자이 1-2룸 아파텔  한국외국어대 경희대 한국예술종합학교 홍릉...', '[회기밥집] 경희대한식 경희대밥집 회기한식 사나이뚝배기 경희대점', '휘경제1동 헬스장 무브짐 24시 헬스 PT 회기휘경점 후기 좋았던 곳 추천되는 이유는...', '[군침돌다] 팔각도(경희대, 회기 맛집)', '[군침돌다] 팔각도(경희대, 회기 맛집)', '휘경제1동 맛집 파티스리소소 후기 좋았던 곳 위치 가격 리뷰 알아보자', '동대문구 회기동 대학가 에어컨청소 (동대문구 이문동 에어컨청소)', '5. 7. 화. 흐림', '양수역>충주 \"남한강자전거길\" 라이딩', '[대자연 × 반기문재단] 기후환경리더 5기 개강식 후기 및 합격에 대해', '[포천, 춘천, 중랑천] 하천러버, ITX 놓치면 어떻게 되게요', '망설였던 나의 서툰 노래 이젠 할 수 있어', '군인의 빌라 권리 분석(feat. 주택도시 보증 공사 a.k.a. HUG)', '#4', '배움의 끝은 없고 주절주절…', '2405 일기 上, 사람 만나는게 재밌는 요즘', '•*•', 'SM 엔터테인먼트 - 광야 스토어 알바 후기', '동대문구 필라테스 휘경동 필라테스 / 빌리프짐 헬스&PT 회기점', '포근하고 작은 정원 느낌이 인상적인 동대문구회기동맛집 봄의정원 회기점', '동대문맛집 사장님의 자부심이 느껴지는 맛 이문족발', '[후기/예식장] 후보 2. L65 호텔 웨딩 컨벤션 25년 4월 예식 상담 (1편)', 'p2p3e서울시립대학교', '회기역 필라테스 1일차', '회기/경희대 맛집 멕시코 타코 <따께리아 라 비다>', '[호주 워킹홀리데이] 비자신청 및 신체검사', '경양카츠 경희대점 경희대돈까스맛집 제대로 즐겨보세요', '회기/경희대 술집 2차 와인바 데이트 <빅문>', '서울 동대문구 경성고기꾼, 후기, 영업시간, 가격', '좀좀따리 써보는 일기!', '오랜만에 학교', '[회기필라테스/경희대필라테스] 맑은 날씨에 가기 좋은 서울 대형카페 추천...', '[외대필라테스/이문동필라테스] 붓기 빼는 차 추천 _옐로우필라테스', '회기 헬스장 / 식단이 중요한 이유', '경희대pt / 회기 헬스장 / 외대 헬스장 / 김도성 트레이너의 비대칭 체형을 갖고 계신...', '서울 부동산 아파트 3억으로 매매 살 수 있는 집.', '[외대헬스] 실천하면 좋은 아침 습관/  빌리프짐 회기점', '[회기헬스] 올리브유의 효능?! 빌리프짐 회기점', '회기역 레스토랑 추천, 구름떡볶이가 맛있는 봄의정원 회기점에서의 점심 데이트', '경희대pt / 회기 헬스장 / 외대 헬스장 / 김도성 트레이너의 비대칭 체형을 갖고 계신...', '[외대필라테스/이문동필라테스] 생리통에 도움되는 음식 추천_옐로우필라테스', '서울 부동산 아파트 3억으로 매매 살 수 있는 집.', '[외대헬스] 실천하면 좋은 아침 습관/  빌리프짐 회기점', '[회기헬스] 올리브유의 효능?! 빌리프짐 회기점', '회기역 레스토랑 추천, 구름떡볶이가 맛있는 봄의정원 회기점에서의 점심 데이트', '동대문구 경희대 회기역 볼로네제 라구파스타와 구름떡볶이가 매콤하고 중독성 있었던...', '동대문구 경희대 회기역 볼로네제 라구파스타와 구름떡볶이가 매콤하고 중독성 있었던...', '회기카페 베이커리들도 가득했던 샤갈의 마을 다녀왔습니다', '[경희대학교한방병원]둘째출산준비-산후보약', '동대문구회기동맛집 깔끔한 맛이 인상적인 봄의정원 회기점', '해산물도 즐길 수 있는 경희대 고기집 <상록회관 연탄구이 경희대점>', '동대문구회기동맛집 인스타뷰 데이트는 무조건 성공 봄의정원 회기점', '<경희대 맛집> 모임장소로 방문하기 좋은 상록회관 연탄구이 경희대점', '동대문구파스타 맛집으로 유명한 봄의정원 회기점', '경희대 맛집 상록회관 연탄구이 경희대점 모임장소엿어요', '동대문구아파트경매 [2023타경3865] 서울 동대문구 휘경동 375', '회기역헬스장 회기헬스장 시설이 고급스러운 빌리프짐 회기점^^', '동대문구파스타의 새로운 맛, 봄의정원 회기점', '동대문구파스타 맛있는곳 추천 봄의정원 회기점', '경희대 맛집)상록회관 연탄구이 경희대점 추천해요!', '회기역레스토랑 ] 봄의정원 회기점을 소개합니다', '조명도 예쁘고 분위기도 좋고 꾸덕한 쉬림프 로제파스타도 맛있는 동대문구회기동맛집...', '동대문구파스타 봄의정원 회기점 너무맛있어요', '회기헬스 회기pt 빌리프짐 회기점 여름맞이 다이어트 으샤으샤', '동대문구파스타 봄의정원 회기점!반할수 밖에 없는 분위기와 최고의 맛~', '동대문구파스타 봄의정원 회기점 테리어만 이쁜곳이 아니었어요']\n",
      "['https://blog.naver.com/inna_9/223439776247', 'https://blog.naver.com/shomestar/223437952178', 'https://blog.naver.com/clapkite98/223437955507', 'https://blog.naver.com/layla1225/223436061897', 'https://blog.naver.com/kmmmz423/223438490524', 'https://blog.naver.com/wooseok_j/223438785720', 'https://blog.naver.com/wlsrud8541/223439260497', 'https://blog.naver.com/relapse2/223436098930', 'https://blog.naver.com/yhr951222/223441746287', 'https://blog.naver.com/chuchulee0920/223435678543', 'https://blog.naver.com/yoonina8/223436058331', 'https://blog.naver.com/nuri02lee/223439353667', 'https://blog.naver.com/kirok_0316/223441206133', 'https://blog.naver.com/gjwjdgnsnn/223438074814', 'https://blog.naver.com/2livy4/223438216509', 'https://blog.naver.com/rarajang01/223441626373', 'https://blog.naver.com/0321yewon/223441868094', 'https://blog.naver.com/wjsdpwl57/223434858610', 'https://blog.naver.com/z1alog/223436265531', 'https://blog.naver.com/afhahhsg7543/223421048892', 'https://blog.naver.com/vudod1/223435743644', 'https://blog.naver.com/doubles3rd_romc/223439286854', 'https://blog.naver.com/empal69/223434881194', 'https://blog.naver.com/yoonxeul_000/223438803311', 'https://blog.naver.com/namhee_98/223438603570', 'https://blog.naver.com/riri_z/223439546034', 'https://blog.naver.com/lhr0905/223436602426', 'https://blog.naver.com/dragonwan/223439434101', 'https://blog.naver.com/khksmc9522/223438878404', 'https://blog.naver.com/sm9683/223438232678', 'https://blog.naver.com/mioibn/223434740195', 'https://blog.naver.com/96landlord/223440793714', 'https://blog.naver.com/imfine417/223437942944', 'https://blog.naver.com/blumemond_/223436084807', 'https://blog.naver.com/hyun_jin1229/223439618208', 'https://blog.naver.com/hahahoho1130-/223441046688', 'https://blog.naver.com/gjwjdgnsnn/223440439425', 'https://blog.naver.com/hbsbsttaa/223438728612', 'https://blog.naver.com/wanji1101/223434947516', 'https://blog.naver.com/choiwoon787/223435752857', 'https://blog.naver.com/blessed_hing/223437197618', 'https://blog.naver.com/seoyun312-/223439277118', 'https://blog.naver.com/zcbm0224/223437308331', 'https://blog.naver.com/duemfma2040/223440662774', 'https://blog.naver.com/yogafirepila/223434892481', 'https://blog.naver.com/nyam2good/223437710212', 'https://blog.naver.com/duoeun01/223441843661', 'https://blog.naver.com/12y_y/223439092702', 'https://blog.naver.com/eunicehi/223438844077', 'https://blog.naver.com/hylyly__nn/223440139801', 'https://blog.naver.com/travelmaker17/223438737013', 'https://blog.naver.com/ahzhsid/223436230223', 'https://blog.naver.com/honeytime98/223437641801', 'https://blog.naver.com/thedreamsin/223437929977', 'https://blog.naver.com/0214haha/223438169276', 'https://blog.naver.com/hotti-/223436333161', 'https://blog.naver.com/heeejjjung/223437116558', 'https://blog.naver.com/mint_lemon_o1/223438996156', 'https://blog.naver.com/hains0_/223440614808', 'https://blog.naver.com/oppuu/223441530034', 'https://blog.naver.com/oosupaoo/223438588385', 'https://blog.naver.com/starring___/223439886097', 'https://blog.naver.com/brotherdosirak_nw/223442130433', 'https://blog.naver.com/seotae-i/223436188037', 'https://blog.naver.com/jkleecnu/223439086126', 'https://blog.naver.com/melgibshin/223437779215', 'https://blog.naver.com/pskej1213/223441500642', 'https://blog.naver.com/komaof1004/223440654085', 'https://blog.naver.com/bulja200/223438999728', 'https://blog.naver.com/anwjr207/223435567882', 'https://blog.naver.com/kirara1974/223439729552', 'https://blog.naver.com/fowndnvq/223439877994', 'https://blog.naver.com/kirok_0316/223440134355', 'https://blog.naver.com/burgerducku/223439428660', 'https://blog.naver.com/apple0green/223439740819', 'https://blog.naver.com/kb82/223441312018', 'https://blog.naver.com/qwop9rkdms/223436427579', 'https://blog.naver.com/bluesky4980/223439061854', 'https://blog.naver.com/cloudnine220/223439540906', 'https://blog.naver.com/hms5508/223438774324', 'https://blog.naver.com/jiyoung_110/223441826306', 'https://blog.naver.com/piaoyiting15/223439541381', 'https://blog.naver.com/h_zinc/223438911238', 'https://blog.naver.com/skekssla159/223432069710', 'https://blog.naver.com/y_unjiv_v/223437449631', 'https://blog.naver.com/skymilan/223439475731', 'https://blog.naver.com/coocoo625/223438785594', 'https://blog.naver.com/gofl9387/223436556514', 'https://blog.naver.com/jane_mm/223413549320', 'https://blog.naver.com/0nlylive0nce/223441370564', 'https://blog.naver.com/odi01/223441648024', 'https://blog.naver.com/kara601/223436092027', 'https://blog.naver.com/parkka0_/223438275831', 'https://blog.naver.com/thsalsrud1129/223437460839', 'https://blog.naver.com/wls9165/223438246933', 'https://blog.naver.com/maplehouse_hoegi/223441453768', 'https://blog.naver.com/re-bd/223440112674', 'https://blog.naver.com/dlrkdudchlrh/223437987252', 'https://blog.naver.com/jb_block/223436823323', 'https://blog.naver.com/love3633/223439983936', 'https://blog.naver.com/plls3114/223439047885', 'https://blog.naver.com/liiieun/223438563740', 'https://blog.naver.com/happyyh_h/223441799202', 'https://blog.naver.com/happinesseverywhere_/223438893516', 'https://blog.naver.com/dlwh134/223437700692', 'https://blog.naver.com/happinesseverywhere_/223438101912', 'https://blog.naver.com/summerlove424/223438146746', 'https://blog.naver.com/memorywoo/223438231157', 'https://blog.naver.com/hee_su_tory/223439402683', 'https://blog.naver.com/ehrudtn888/223437922443', 'https://blog.naver.com/lyh_0331/223435172921', 'https://blog.naver.com/pharmkim-/223422491600', 'https://blog.naver.com/mini2132/223435714647', 'https://blog.naver.com/leezoo0987/223439161678', 'https://blog.naver.com/positive_nam/223439696780', 'https://blog.naver.com/popo_the_gamja/223437006825', 'https://blog.naver.com/bujaguni/223437295144', 'https://blog.naver.com/likamega2/223437840638', 'https://blog.naver.com/rbfl6487/223435314372', 'https://blog.naver.com/wellcom_yeshome/223436278669', 'https://blog.naver.com/pang_pang_2/223441640389', 'https://blog.naver.com/this_and-that/223441844102', 'https://blog.naver.com/afaik-/223437476372', 'https://blog.naver.com/lools21/223437433162', 'https://blog.naver.com/popo_the_gamja/223433191839', 'https://blog.naver.com/sdc07147/223435187371', 'https://blog.naver.com/ehrudtn888/223435229249', 'https://blog.naver.com/everything_ryu/223438825278', 'https://blog.naver.com/bblogy/223439258772', 'https://blog.naver.com/mdal2_700/223436233254', 'https://blog.naver.com/pig60000/223440305711', 'https://blog.naver.com/lhs850825/223441780756', 'https://blog.naver.com/hae221/223441978199', 'https://blog.naver.com/kd1102uijungbu/223439864000', 'https://blog.naver.com/borasoon2/223435385443', 'https://blog.naver.com/angela_43/223441576321', 'https://blog.naver.com/ttukk2/223435795129', 'https://blog.naver.com/enoughddu/223434727796', 'https://blog.naver.com/p0tato02/223438323514', 'https://blog.naver.com/skygod2612/223437106263', 'https://blog.naver.com/kim_hyung_rae/223439733758', 'https://blog.naver.com/peep5986/223438602215', 'https://blog.naver.com/jongminpark9/223438165310', 'https://blog.naver.com/imnotlazy-/223441706235', 'https://blog.naver.com/su_uy0/223439192589', 'https://blog.naver.com/mjspoland/223437141657', 'https://blog.naver.com/atonezip/223435626688', 'https://blog.naver.com/atonezip/223435626688', 'https://blog.naver.com/soy3398/223437345953', 'https://blog.naver.com/seyoung_2_/223434699183', 'https://blog.naver.com/winter_and_rim/223441588018', 'https://blog.naver.com/handesanya/223439171140', 'https://blog.naver.com/todo_tina/223434355334', 'https://blog.naver.com/babibu12/223440071285', 'https://blog.naver.com/w80602/223437932943', 'https://blog.naver.com/6636282/223436314654', 'https://blog.naver.com/tsuki006112/223436440287', 'https://blog.naver.com/lavender_som/223439269306', 'https://blog.naver.com/yellowpilates1/223441681295', 'https://blog.naver.com/noodlesaigon20/223435740193', 'https://blog.naver.com/marong_i/223437081595', 'https://blog.naver.com/pang_pang_2/223434589909', 'https://blog.naver.com/popo_the_gamja/223439597687', 'https://blog.naver.com/chjin1227/223437004810', 'https://blog.naver.com/tripic816/223440475959', 'https://blog.naver.com/yellowpilates1/223442143532', 'https://blog.naver.com/charity_1004/223432722417', 'https://blog.naver.com/mulan67/223436080097', 'https://blog.naver.com/bmstire/223440063008', 'https://blog.naver.com/gkwldus9909/223439097814', 'https://blog.naver.com/ra_nun_e/223438451008', 'https://blog.naver.com/mjspoland/223436122552', 'https://blog.naver.com/leeyougin/223440319333', 'https://blog.naver.com/babibu12/223439407968', 'https://blog.naver.com/rlaxsodn1232/223437394681', 'https://blog.naver.com/sunlitdays/223438900597', 'https://blog.naver.com/jkjkjk0124/223435946579', 'https://blog.naver.com/otamin/223439007963', 'https://blog.naver.com/annwfn0731/223438304779', 'https://blog.naver.com/rhometrackj19/223441069658', 'https://blog.naver.com/mjspoland/223437036873', 'https://blog.naver.com/daeview/223441406895', 'https://blog.naver.com/vivid1997/223438349523', 'https://blog.naver.com/pug1324/223436621712', 'https://blog.naver.com/daeview/223441403306', 'https://blog.naver.com/yellowpilates1/223439193568', 'https://blog.naver.com/ibeingeeo11/223436855429', 'https://blog.naver.com/happinessisnearby/223435725238', 'https://blog.naver.com/dlgodls0419/223437054866', 'https://blog.naver.com/00zadoo/223435160727', 'https://blog.naver.com/hljdhs/223439157664', 'https://blog.naver.com/develop9796/223439040498', 'https://blog.naver.com/51dnwls/223437354705', 'https://blog.naver.com/sojun_0411/223437795473', 'https://blog.naver.com/staryouri/223438613781', 'https://blog.naver.com/inna_9/223442087635', 'https://blog.naver.com/fiening1/223435515818', 'https://blog.naver.com/chjin1227/223433876977', 'https://blog.naver.com/shapp14/223437883487', 'https://blog.naver.com/whtjdqls7889/223439429062', 'https://blog.naver.com/mjspoland/223439152844', 'https://blog.naver.com/yellowpilates1/223438038461', 'https://blog.naver.com/vipjunim/223435282372', 'https://blog.naver.com/yellowpilates1/223437997859', 'https://blog.naver.com/kwunil1020/223439473054', 'https://blog.naver.com/theprintlab/223435117551', 'https://blog.naver.com/peep5986/223440990065', 'https://blog.naver.com/dimsom00/223437046771', 'https://blog.naver.com/component1641/223441726339', 'https://blog.naver.com/usky101/223436153013', 'https://blog.naver.com/usky101/223436153013', 'https://blog.naver.com/fwinds/223440143392', 'https://blog.naver.com/triplejjjay/223435956650', 'https://blog.naver.com/otamin/223440228912', 'https://blog.naver.com/kwunil1020/223438268615', 'https://blog.naver.com/hayonieyo/223441147666', 'https://blog.naver.com/song_jn/223439003744', 'https://blog.naver.com/jeena0714/223437301382', 'https://blog.naver.com/yellowpilates1/223440357828', 'https://blog.naver.com/golfmebird/223436382545', 'https://blog.naver.com/otamin/223441505850', 'https://blog.naver.com/yyromem/223440765632', 'https://blog.naver.com/osm3668/223437984412', 'https://blog.naver.com/songkeh/223435061109', 'https://blog.naver.com/songkeh/223435061109', 'https://blog.naver.com/lovemisol/223439215648', 'https://blog.naver.com/whtjdqls7889/223435682981', 'https://blog.naver.com/kanjisu/223438788707', 'https://blog.naver.com/yellowpilates1/223439119715', 'https://blog.naver.com/rrklmhdfjkbsdf/223441182654', 'https://blog.naver.com/ehrudtn888/223436869753', 'https://blog.naver.com/kwunil1020/223438671061', 'https://blog.naver.com/victoria083100/223442082377', 'https://blog.naver.com/gung_bing/223434691016', 'https://blog.naver.com/imnooya/223436622884', 'https://blog.naver.com/tmdqja1756/223438245574', 'https://blog.naver.com/glossyhomecare/223436952980', 'https://blog.naver.com/xpdidrhdwn/223440231532', 'https://blog.naver.com/rojapilates1/223441185454', 'https://blog.naver.com/honeytime98/223439754593', 'https://blog.naver.com/daeview/223441404561', 'https://blog.naver.com/apple_investor/223437132517', 'https://blog.naver.com/moment_haha/223437951131', 'https://blog.naver.com/sosang_e/223438696049', 'https://blog.naver.com/yellowpilates1/223439822252', 'https://blog.naver.com/pico1967/223440551537', 'https://blog.naver.com/dbswotjs5398/223438866912', 'https://blog.naver.com/yschoi5705/223438738431', 'https://blog.naver.com/strangth_coch/223438838805', 'https://blog.naver.com/beliefgym3/223442053545', 'https://blog.naver.com/01024730/223441729936', 'https://blog.naver.com/mneksdk/223437292116', 'https://blog.naver.com/anna_diary_/223439336207', 'https://blog.naver.com/sboydates29/223437472696', 'https://blog.naver.com/lsjin239/223437929430', 'https://blog.naver.com/ycopyaes65/223436837800', 'https://blog.naver.com/anscks7109/223439521707', 'https://blog.naver.com/su220118/223436254150', 'https://blog.naver.com/wlsdk931217/223436314384', 'https://blog.naver.com/yellowpilates1/223436003209', 'https://blog.naver.com/gnouyes/223435812229', 'https://blog.naver.com/zsoneix17/223434758805', 'https://blog.naver.com/soso_look/223437593300', 'https://blog.naver.com/jejepsun/223441191463', 'https://blog.naver.com/espworld/223434676502', 'https://blog.naver.com/jejepsun/223441205742', 'https://blog.naver.com/jejepsun/223441205742', 'https://blog.naver.com/kimjieun1532/223435304114', 'https://blog.naver.com/inv_incible/223441858274', 'https://blog.naver.com/osindosi/223440939948', 'https://blog.naver.com/jeongdahee_/223436978075', 'https://blog.naver.com/wnting48594/223435593840', 'https://blog.naver.com/jejepsun/223435439817', 'https://blog.naver.com/jejepsun/223435439817', 'https://blog.naver.com/verted22134/223435583143', 'https://blog.naver.com/informationstorage/223435152850', 'https://blog.naver.com/noinsarang8275/223439191072', 'https://blog.naver.com/sori0912_/223435343609', 'https://blog.naver.com/10ve_y0urse1f/223436505997', 'https://blog.naver.com/ywleew202/223434785289', 'https://blog.naver.com/yoonxyune/223441410100', 'https://blog.naver.com/donggeon1111/223437335999', 'https://blog.naver.com/dearmyblxe/223435068803', 'https://blog.naver.com/jaeryung33/223435738352', 'https://blog.naver.com/dingurii7/223438945216', 'https://blog.naver.com/dlatnqls1321/223436541331', 'https://blog.naver.com/ungluck1/223437294842', 'https://blog.naver.com/daeview/223441412310', 'https://blog.naver.com/dmz21kyj/223439944979', 'https://blog.naver.com/tlsunnii/223437085737', 'https://blog.naver.com/tastes_247/223438024736', 'https://blog.naver.com/dlatjdtn1997/223441321061', 'https://blog.naver.com/ss0mm14/223439478029', 'https://blog.naver.com/parkbom0/223440528880', 'https://blog.naver.com/berrybaery/223439012328', 'https://blog.naver.com/sol2_family/223441676869', 'https://blog.naver.com/parkbom0/223441804781', 'https://blog.naver.com/rlaqudrmr79/223439951260', 'https://blog.naver.com/dambi_bongua/223439579843', 'https://blog.naver.com/antoniakgh/223439543346', 'https://blog.naver.com/yellowpilates1/223440996067', 'https://blog.naver.com/yellowpilates1/223439813901', 'https://blog.naver.com/mjspoland/223436137536', 'https://blog.naver.com/otamin/223435289687', 'https://blog.naver.com/youdie2000/223440278253', 'https://blog.naver.com/beliefgym3/223440899855', 'https://blog.naver.com/beliefgym3/223439763613', 'https://blog.naver.com/bboom-/223437385590', 'https://blog.naver.com/otamin/223435289687', 'https://blog.naver.com/yellowpilates1/223435996637', 'https://blog.naver.com/youdie2000/223440278253', 'https://blog.naver.com/beliefgym3/223440899855', 'https://blog.naver.com/beliefgym3/223439763613', 'https://blog.naver.com/bboom-/223437385590', 'https://blog.naver.com/bitnaluv97/223440409374', 'https://blog.naver.com/bitnaluv97/223440409374', 'https://blog.naver.com/elin0034/223438291359', 'https://blog.naver.com/kisooyo/223441051223', 'https://blog.naver.com/ys3628/223441139820', 'https://blog.naver.com/dldbgo111/223440954894', 'https://blog.naver.com/ryqhansqhwkd/223441409659', 'https://blog.naver.com/heeock0214/223441005112', 'https://blog.naver.com/jdh0100/223439378268', 'https://blog.naver.com/dkfma33100/223438278243', 'https://blog.naver.com/jungcdayo/223441619061', 'https://blog.naver.com/hyperspace88/223440453568', 'https://blog.naver.com/sksmsqqq/223438386375', 'https://blog.naver.com/giftsmile1/223437991321', 'https://blog.naver.com/aldrja601/223437032144', 'https://blog.naver.com/flower524/223436604188', 'https://blog.naver.com/ymlovev9486/223436828655', 'https://blog.naver.com/gusal2111/223435680065', 'https://blog.naver.com/mopu9630/223437898882', 'https://blog.naver.com/sweetsun1313/223439089508', 'https://blog.naver.com/aoi1943/223435553016']\n"
     ]
    }
   ],
   "source": [
    "# 검색어 입력\n",
    "query = input(\"검색어 : \")\n",
    "\n",
    "\n",
    "# 조회 기간 설정 : 7일(days에서 수정 가능)\n",
    "# startDate=7일전 날짜, endDate=오늘 날짜\n",
    "date = datetime.now()\n",
    "startDate= (date+timedelta(days=-7)).strftime('%Y-%m-%d')\n",
    "endDate = (datetime.now()).strftime('%Y-%m-%d')\n",
    "\n",
    "print(startDate, endDate)\n",
    "\n",
    "\n",
    "# Chrome driver 환경설정 및 실행\n",
    "options = webdriver.ChromeOptions()\n",
    "options.add_experimental_option(\"excludeSwitches\", [\"enable-automation\"])\n",
    "options.add_argument('headless')\n",
    "driver = webdriver.Chrome(options = options)\n",
    "base_url = f\"https://section.blog.naver.com/Search/Post.naver?pageNo=1&rangeType=WEEK&orderBy=sim&startDate={startDate}&endDate={endDate}&keyword={query}\"\n",
    "driver.get(base_url)\n",
    "time.sleep(1)\n",
    "\n",
    "\n",
    "# 총 검색 결과\n",
    "html = driver.page_source\n",
    "soup = BeautifulSoup(html, \"html.parser\")\n",
    "search_number = soup.find(class_=\"search_number\")\n",
    "print(\"총 블로그글 개수 : \", search_number.text)\n",
    "\n",
    "\n",
    "# 연관 검색어 \n",
    "sub_keywords_data = soup.select('div.area_keyword > div.list')\n",
    "sub_keywords = []\n",
    "for i in sub_keywords_data: \n",
    "    sub_keywords.append(i.get_text())\n",
    "\n",
    "print(\"연관검색어:\",*sub_keywords)\n",
    "\n",
    "\n",
    "# blog url/title 가져오기\n",
    "total_num = search_number.text.replace(\"건\",'').replace(\",\",'')\n",
    "total_num = int(total_num)\n",
    "page_num = 1\n",
    "end_page=total_num//7+1\n",
    "end_page\n",
    "contents_num = 7\n",
    "\n",
    "blog_title_lst = []\n",
    "blog_url_lst = []\n",
    "\n",
    "while contents_num == 7 : \n",
    "    search_url = f\"https://section.blog.naver.com/Search/Post.naver?pageNo={page_num}&rangeType=WEEK&orderBy=sim&startDate={startDate}&endDate={endDate}&keyword={query}\"\n",
    "    driver.get(search_url)\n",
    "    time.sleep(0.5)\n",
    "    \n",
    "    html = driver.page_source\n",
    "    soup = BeautifulSoup(html, \"html.parser\")\n",
    "    \n",
    "    posts_data = soup.select('div.info_post > div.desc > a.desc_inner')\n",
    "    \n",
    "    # 블로그 제목, url 가져오기\n",
    "    posts_data = soup.select('div.info_post > div.desc > a.desc_inner')\n",
    "\n",
    "    for post in posts_data :\n",
    "        title=post.get_text().replace('\\n','').strip()\n",
    "        href=post.attrs['href']\n",
    "        blog_title_lst.append(title)\n",
    "        blog_url_lst.append(href)\n",
    "    \n",
    "    page_num +=1\n",
    "    contents_num = len(posts_data)\n",
    "\n",
    "print(blog_title_lst)\n",
    "print(blog_url_lst)"
   ]
  },
  {
   "cell_type": "code",
   "execution_count": 72,
   "metadata": {},
   "outputs": [
    {
     "name": "stdout",
     "output_type": "stream",
     "text": [
      "335 335\n"
     ]
    }
   ],
   "source": [
    "# 확인\n",
    "print(len(blog_title_lst),len(blog_url_lst))"
   ]
  },
  {
   "cell_type": "markdown",
   "metadata": {},
   "source": [
    "- blog 본문 가져오기(test)"
   ]
  },
  {
   "cell_type": "code",
   "execution_count": null,
   "metadata": {},
   "outputs": [],
   "source": [
    "# Chrome driver 실행\n",
    "options = webdriver.ChromeOptions()\n",
    "options.add_experimental_option(\"excludeSwitches\", [\"enable-automation\"])\n",
    "options.add_argument('headless')\n",
    "driver = webdriver.Chrome(options = options)\n",
    "\n",
    "\n",
    "# 해당 blog 불러오기 \n",
    "url = blog_url_lst[0]\n",
    "driver.get(url)\n",
    "time.sleep(1)\n",
    "\n",
    "\n",
    "# iframe 접근 \n",
    "driver.switch_to.frame('mainFrame')\n",
    "\n",
    "\n",
    "# 제목 가져오기\n",
    "overlays_title = \".se-module.se-module-text.se-title-text\"\n",
    "html_title = driver.find_element(By.CSS_SELECTOR, overlays_title)\n",
    "title = html_title.text\n",
    "print(title)\n",
    "\n",
    "\n",
    "# 포스팅 날짜 가져오기\n",
    "overlays_publishDate = \".se_publishDate.pcol2\"\n",
    "html_publishDate = driver.find_element(By.CSS_SELECTOR, overlays_publishDate)\n",
    "date = html_publishDate.text\n",
    "print(date)\n",
    "\n",
    "# 본문 가져오기 \n",
    "overlays_content = \".se-component.se-text.se-l-default\"\n",
    "html_content = driver.find_elements(By.CSS_SELECTOR, overlays_content)\n",
    "contents_lst = []\n",
    "for content in html_content : \n",
    "    contents_lst.append(content.text.replace('\\n',''))\n",
    "    \n",
    "\n",
    "print(contents_lst)\n",
    "\n",
    "# 해시태그 가져오기 \n",
    "\n",
    "# title = html_title.text \n",
    "# title\n",
    "\n",
    "\n",
    "\n"
   ]
  },
  {
   "cell_type": "markdown",
   "metadata": {},
   "source": [
    "- blog 본문 크롤링"
   ]
  },
  {
   "cell_type": "code",
   "execution_count": 74,
   "metadata": {},
   "outputs": [],
   "source": [
    "# Chrome driver 실행\n",
    "options = webdriver.ChromeOptions()\n",
    "options.add_experimental_option(\"excludeSwitches\", [\"enable-automation\"])\n",
    "options.add_argument('headless')\n",
    "driver = webdriver.Chrome(options = options)\n",
    "\n",
    "crawling_blog_data = []\n",
    "\n",
    "\n",
    "# blog 본문 가져오기 \n",
    "for i in range(10) :    \n",
    "    url = str(blog_url_lst[i])\n",
    "    driver.get(url)\n",
    "    time.sleep(1)\n",
    "    \n",
    "    \n",
    "    # 본문 크롤링 예외 처리 \n",
    "    try :\n",
    "        # iframe 접근 \n",
    "        driver.switch_to.frame('mainFrame')\n",
    "\n",
    "        \n",
    "        # 제목 가져오기\n",
    "        overlays_title = \".se-module.se-module-text.se-title-text\"\n",
    "        html_title = driver.find_element(By.CSS_SELECTOR, overlays_title)\n",
    "        title = html_title.text\n",
    "\n",
    "        \n",
    "        # 작성 날짜 가져오기\n",
    "        overlays_publishDate = \".se_publishDate.pcol2\"\n",
    "        html_publishDate = driver.find_element(By.CSS_SELECTOR, overlays_publishDate)\n",
    "        date = html_publishDate.text\n",
    "\n",
    "        \n",
    "        # 본문 가져오기\n",
    "        overlays_content = \".se-component.se-text.se-l-default\"\n",
    "        html_content = driver.find_elements(By.CSS_SELECTOR, overlays_content)\n",
    "        contents_lst = []\n",
    "        for content in html_content : \n",
    "            contents_lst.append(content.text.replace('\\n',''))\n",
    "        content_str = ''.join(contents_lst)\n",
    "\n",
    "        \n",
    "        # 크롤링한 내용 담기 \n",
    "        crawling_blog_data.append({\"title\":title, \"date\":date, \"content\":content_str})\n",
    "        \n",
    "        # driver 종료 \n",
    "        driver.close\n",
    "        time.sleep(1)\n",
    "        \n",
    "        \n",
    "    # 에러 발생시 다음 블로그로 이동\n",
    "    except : \n",
    "        print(\"error\",i,title)\n",
    "        driver.close()\n",
    "        time.sleep(1)\n",
    "\n",
    "driver.close()"
   ]
  },
  {
   "cell_type": "code",
   "execution_count": 77,
   "metadata": {},
   "outputs": [
    {
     "name": "stdout",
     "output_type": "stream",
     "text": [
      "[{'title': '회기왕갈비탕, 혼밥 하기 좋은 회기역 맛집', 'date': '2024. 5. 8. 8:46', 'content': '안녕하세요이나입니다:)오늘은 혼밥 하기 좋은 회기역 맛집인 회기왕갈비탕에 방문한 후기를 들고 왔어요회기역 근처에서 촬영을 하고 혼밥을 해야 해서 뭘 먹지 고민하다가 혼밥 하기 좋다는 이야길 듣고 바로 후다닥 달려갔습니다 ㅎㅎ회기역에서 도보 5분 정도 거리로 굉장히 접근성도 좋아요ㅎㅎ그리고 외대 경희대 학생들도 가까워서 방문하기 좋을 것 같더라고요회기역 맛집은 석박지를 무려 직접 만든다고 해요힘드시겠다.. 그렇지만 소비자는 너무 맛있어요 츄릅김치 국내산? 보장된 거잖아요 히히회기왕갈비탕은 외부에서 봤을 때도 넓어 보였는데 들어가서 봐도 진짜 넓어요 굿굿쾌적하고 좌석도 많아서 단체로 와서 먹기에도 괜찮겠더라고요무려 1인 테이블도 있다는 점!! 혼밥 하기 좋은 회기역 맛집답게 1인 테이블까지~!~!근데 저는 혼밥 만렙이라서 4인 테이블 앉았어요점심시간 지나고 가서 자리가 많았기 때문이죠!!소갈비찜, 갈비탕 아롱사태 갈비탕 이렇게 메뉴가 깔끔하게 구성되어 있어요원래 맛집은 메뉴가 많이 없는 거 아시죠???기본 반찬 구성은 석박지, 쌈장, 고추, 마늘 이렇게 제공돼요!!기본 반찬 외에 필요한 건 셀프 코너에서!!셀프 코너에는 배추김치도 있어요근데 지금 포스팅하면서 알았는데 보리강정 먹어도 되는 거였냐고요진짜 몰랐네 알았으면 먹었는데…이거 진짜 좋아하는데속상하다…다음에는 꼭 먹어주겠다 보리강정 ㅡㅡ보리강정을 1봉지 3,000원2봉지 5,000원에 판매하고갈비탕 육수까지 같이 판매하고 있어요진짜 회기왕갈비탕 먹어보면 육수 따로 살만해요진짜 맛있거든요 ㅎㅎ혼밥 하기 좋은 회기역 맛집인 회기왕갈비탕은 무려 밥도 무한리필!!제가 아는 지인은 국밥 한 그릇에 세 공기, 다섯 공기 이렇게 먹는데 추천해 주고 싶네요 ㅋㅋㅋㅋㅋㅋ미숫가루도 후식으로 먹을 수 있게 준비되어 있어요열었는데 알아서 막 움직여서 놀랐어요 ㅋㅋㅋㅋㅋㅋㅋ진짜 당황 ㅇㅅㅇ혼밥 하기 좋은 회기역 맛집은 물도 맛집입니다무려 헛개열매차저 같은 술쟁이한테는 이렇게 식당에서 강제로 헛개열매차를 먹이면 오예입니다 ㅎㅎ제가 주문한 특 왕갈비탕!!비주얼 장난 아니죠당면 사리는 기본으로 들어간다고 해서 떡사리만 추가했어요뼈다귀는 세 개가 나와요근데 야들야들해서 고기도 쏙 빠져요부드럽고 퍽퍽하지 않아서 진짜 맛있어요당면도 불지 않게 나와서 너무 맛있게 촵촵국물도 너무 깔끔하고 깊어서 정신없이 먹었어요뼈다귀에 붙은 살을 다 발라내고 편하게 먹기!떡사리 추가한 건데 양이 진짜 많아서 좋았어요저는 돼지라서 밥도 한 공기 거의 다 먹고 국물까지 싹싹 비웠어요완뚝 완료!!!!든든하게 한 끼 먹어서 기분 좋아졌어요너무 맛있게 먹어서 아롱사태 갈비탕도 보장했어요포장 시에는 공깃밥이 포함되지는 않는데 육수를 2배나 준다고 하더라고요오히려 좋아~~육수 진짜 맛있어요다들 혼밥 하기 좋은 회기역 맛집인 회기왕갈비탕에서 든든한 한 끼 하세요!!!정말 너무 만족한 한 끼여서 행복했어요 헤헤업체정보회기왕갈비탕서울 동대문구 이문로 54 1층영업시간 : 월~일 11:00~21:000507-1354-1083'}, {'title': '또 갈수밖에 없는 회기역 술집 와레와레 또 갔다왔지요.', 'date': '2024. 5. 6. 16:34', 'content': \"안녕하세요 별숌이에요~예전에 한 번 다녀온적이 있는회기역 술집 '와레와레'지난번 안주가 너무 맛있어서 이번엔 다른 걸 먹어보려 또 가게되었어요~오늘도 맛있으면 찐맛집인거쥬!!입구에는 오늘의 추천메뉴가 있구요.확인한번 해주고!이건 가게 마무리할 때 나오면서 찍은 내부사진!들어갈 땐 손님이 가득해서 못찍었어요~한쪽 벽면은 아주 예쁜 술병들로 가득ㅋㅋㅋ실제 사용하시는 거겠죠?메뉴판은 지난번 포스팅을 참고하세요~이번에 우리가 와레와레쿡에서 시킨 메뉴는연어+광어 사시미회를 안먹는 별숌이지만나를 만나고 난 후 회를 거의 먹은 적 없는 고기술사를 위해 시켰죠제가 연어는 조금 먹그등요~그런데 사장님께서 중량이 안된다며 키조개를 포함한 3종 사시미로 해도 되겠냐며..네~ 키조개 좋아요!기본안주로 나온 샐러드~짭쪼롬한 맛의 소스라 평소 새콤달콤한 샐러드와는 또 다른 매력!주문한지 얼마 지나지 않아 나온 와레와레쿡의 3종 사시미!키조개 + 광어 + 연어!!와~~~~~~회기역 술집 와레와레 쿡은 회와 함께 초고추장, 간장, 락교와 백김치,생강절임이 나와요.아..나 회 안좋아하는 데 항상 볼 때마다 느끼는 건 너무 맛깔스럽게 생겼어요.왜죠?ㅋㅋㅋ광어~~이쁘게 생겼네요~연어..근데 윤기 흐르는게 왠지 여태 본 것들과 다른 느낌???키조개~아...구워서 나오는 키조개가 아니였구나...ㅋㅋㅋㅋㅋ근데 회가 원래 이렇게 비싼가요?가격에 비해 양이 적은 듯한 느낌이...ㅋㅋㅋㅋㅋ하지만 시켰으니 먹어야쥬!개인적으로 여태까지 저에게 회는 씹는 식감이 별로였어요.그래서 맛만 보려고 저렇게 작게 조사놨는데..헛........이거 뭐야........너무 맛있자나........회 안먹는 제가 먹어도 여태 먹은 회들과는 다르다는게 느껴집니다.아 이게 숙성회이구나....라는게..본능적으로 느껴져요~고기술사도 한 점 먹더니진짜 맛있다고 하네요~쫘~~안득! 쫘~~안득!한데 부드러운 식감....이거 뭔데 이렇게 맛있는 식감이야...이번엔 연어~뭐야...이것도 숙성인가봅니다..생연어는 생연어인데 왜 쫜득함이 있냐고요....아까 그 윤기는 쫜득함을 말해주는 거였나봐요~회 못먹는 사람은 초장맛으로 먹는다지만회의 ㅎ도 모르는 저도간장에 찍어먹는 매직!진짜이 집 뭐야.....키조개 사시미는 또 처음 접해봤어요.식감은 음..뭐랄까...전복? 개불? 그 어디쯤??오도독도 살짝 있으면서 미끌미끌도 있으면서 ㅋㅋㅋㅋㅋ그런 식감 좋아하시는 분들은 좋아하실 것 같은데고기술사와 저는 아쉬웠어요~ㅋㅋ하지만 회를 시켜서 맛있다 맛있다 하면서 먹은 게 처음이라돈 값 제대로 했던 느낌이네요.저 앞으로 숙성회는 먹을 것 같아요.........진짜 너무 맛있.....ㅠㅠ회 먹지 않는 1인도 먹게 만드는회기역 술집 와레와레쿡여기 이정도면 찐 맛집 맞는 것 같네요~다른 메뉴도 점점 더 궁금해지네요!메뉴 도장깨기하러 또 와야겠습니다!☆상호명 : 와레와레쿡동대문구 망우로 21길 52☆전화번호 : 0507 - 1405 - 5798☆영업시간 : 오후 5시 30분 ~ 오전 12:30분☆화장실은 외부에!\"}, {'title': '회기역 맛집 또와 양꼬치에서 무한리필 즐기기 회기 양꼬치', 'date': '2024. 5. 6. 16:38', 'content': '안녕하세요~ 미친 또라이 미또입니다최근에 양꼬치가 너무 먹고싶어서한동안 양고기만 먹고다녔는데 ㅋㅋ이번에는 회기 양꼬치 맛집을 찾다가 발견한회기 또와 샤브샤브 양꼬치!무한리필집이라 진짜 엄청,,엄청 많이 먹고살이 엄청 엄청 많이 쪘어요 슬프네요아무튼 그만큼 맛있게 먹었던 회기역 맛집또와 샤브샤브양꼬치의 포스팅을 시작해볼게요회기 또와 양꼬치의 외관입니다!회기 술집? 거리에있어요ㅋㅋㅋ헉헉 이 날 날씨가 너무 더웠어요얼른 내입에 소맥과 양꼬치가 들어가도록~!~!회기 또와양꼬치의 내부입니다완전 넓어요! 단체로와서 먹어도 좋을 것 같아용~!사장님이 친절하게 안내해주셨답니당감사합니다잉~~!회기 양꼬치 또와양꼬치의 메뉴판입니다무한리필집이라 너무 좋아요꼬치로 무한리필 이용할 때는 인당 20.900원꼬치+샤브샤브 이용은 인당 24.900원 입니다저는 꼬치 무한리필로 이용했어요![전화번호]02-968-6811[위치안내]서울 동대문구 경희대로3길 6[영업시간]매일 11:00 - 23:00회기역 맛집 또와 양꼬치는 이렇게샤브샤브를 편하게 즐길 수 있게깔끔하게 정리가 됐습니다저는 양꼬치 무한리필으로 먹어서샤브샤브는 이용하지 않았는데샤브샤브까지 같이 먹어도 너무 좋을 것 같았어요라면사리랑 당면 등 도 무한리필로 즐길 수 있었어요~!종류가 많아서 너무 좋은 것 같네요 ㅋㅋ짠! 제가 이용했던 회기 양꼬치 무한리필 구성입니다새우,소세지,돼지껍질,닭똥집,천엽,닭껍질,닭낡개,두부,양꼬치,소꼬치,삼겹살,새우 등 다양한 꼬치들이 있어요! 진짜 많죠와,,,이 날 평생 먹을 양꼬치 다 먹은듯,,,진짜 많이 먹었어요 ㅋㅋㅋㅋㅋㅋ ㅜㅜㅜㅜㅜ꼬치 종류가 너무 다양하니까 계속 먹게됐습니다돼지는,,,,,계속 먹어요 꿀꿀꿀잡내도 전혀 안나서 더욱더 좋았던회기역 맛집 또와 양꼬치,,,,,, 너무 짱입니다기본반찬으로 주신 김치랑 단무지 마늘장아찌도느끼함을 잘 잡아주는 반찬이라 양꼬치 무한리필이랑너무 잘 어울렸어요 반찬구성 굿ㅋㅋㅋ 아니 저는 이거 다 못먹을 줄 알았는데개뿔 다먹음 또 리필함저는 돼지색희니까요 많이 먹고 최대한 안움직이는데살 빠지는방법 아시는분 댓글좀 달아주세요다양한 종류의 꼬치를 열심히 구워서 먹었어요안주가 맛있으니까 술도 너무 맛있더라구요?(술은 항상 맛있음)ㅋㅋㅋㅋㅋㅋㅋㅋㅋ2명이서 술값만 4만원 나왔다는 즐거운이야기이 날 저의 몸속에는 지방+알코올로 가득한하루였을 것 같아요(항상 그럼)진짜! 고기에 잡내가 하나도 안나서 너무 좋았어요가끔 무한리필집의 고기는 고기 품질이 나쁘다는 생각이들었는데 회기 양꼬치 또와양꼬치는 그런게 전혀없어서미친듯이 더 먹었던 것 같아요! 맛있어,,,맛있는게 최고얌화력도 좋아서 고기가 잘 구워지더라구요!합리적인 가격에 품질좋은 양꼬치와 다양한꼬치를 먹을 수 있다? 이제 여기는 제가 접수합니다정말 술 엄청 들어가게 해주었던양꼬치,,,,, 이제 저는 당분간 술을,,,,멈출려고 합니다가능할까요? 개가 똥을 끊어라~~~어마무시하게 많이 먹고 마무리정말 최고로 맛있게 먹었던회기역 맛집 또와 양꼬치!네,,, 또 방문해볼게요 ㅎㅅㅎ너무 맛있었습니당~~~그럼 회기 또와양꼬치의 포스팅을 마칩니다 안뇽#회기역맛집#회기맛집#회기양꼬치#또와양꼬치#회기또와양꼬치'}, {'title': '회기역 조용한 카페 / 비건디저트 벨리스 후기', 'date': '2024. 5. 4. 11:02', 'content': '오늘은 회기역 비건카페로 유형한벨리스 다녀와봤어요 :)영업시간 10:00-20:00매주 일요일 정기휴무테이크아웃 할잉, 글루텐프리, 비건메뉴아담하고 귀여운 매장 :)수요일 오후에 방문했는데 한테이블 계셨어요 !테이블은 총 3개로6인까지 수용가능합니다 !제가 한시간정도 있어본 바로테이크아웃 손님이 많고사장님도 작업으로 작업실에 계시는 경우가 대부분이라카공을 하거나 작업을 하기 좋은회기역 조용한 카페를 찾으실때 방문하셔도좋을거같아요 !저 안쪽 작업실에 주로 계셨어요 !아무래도 모든 디저트를 수제로 만들다 보니그러신듯해요 !냅킨꽂이가 마음에 쏙...아메리카노 3,500원오트라떼 4,500원바닐라라떼 5,000원복숭아 아이스티 4,000원티(얼그레이 캐모마일 페퍼민트 히비스커스) 5,000원오트밀크티 5,500원참깨비스코티 2,800원로투스 비스코티 3,000원쌀브레 쿠키 5,000원콩찜했쑥크럼블 5,800원사바딸크럼블 5,500원맘모스크럼블 5,800원디카페인 500원테이크아웃 -500원선물포장도 단순한게 아니라저렇게 이쁜 리본 포장까지 해주신다고 하네요 !이벤트로는 인스타그램 팔로우를 하면아메리카노 1천원을 할인해주신다고 하네요 !더 대박인건 네이버 영수증 리뷰를 작성하면아메리카노 한잔 무료라니 :0그리고 경희대학교 학생과 교직원분들은10% 할인이 들어간다고 하니이 모든 혜택 다 챙겨가시길 !!비건카페라모든 원재료 다 기재해두셨는데 보기만 해도 건강해요...유제품 백밀가루 정제설탕 사용하지 않는건강한 디저트 :)아가들도 안심하고 먹을 수 있어서포장이나 답례품으로도 주문이 많이 들어오고 있더라구요 !저는 콩쑥크럼블과 참깨비스코티 그리고오트라떼를 주문했어요 !햇살이 잘 들어오는 자리라 너무 좋아요 :)물티슈 뭔데 쓸데없이 귀엽고 난리..서비스로 주신 쌀쿠키..넘맛 ㅠㅠ내용물이 탄탄해서 ?바쟉!하고 씹히는게 아주 굿굿이에요 !그리고 쑥 크럼블.. !!저 초록 쑥이 저는 빵같은 식감이라 생각했는데완전 떡이더라구요 !쫀득쫀득 넘 맛도리 ㅠㅠ저 완전 할미입맛인데진짜 취향저격 장난아니에여...비건이라고 해서 사실 맛은 크게 기대 안했거든요 ??근데 비건이 이렇게 맛날줄이야..참깨비스코티도 한번...들자마자 엄청 묵직합니다.. !안에 탄탄한거 보이시나요 ?뺴곡 하고 묵직한데중간중간에 깨 터지면서 고소함이 아주장난아니에오..안에 팥도 고소하고특히 크럼블이진짜 은은하게 달달해서 너무 맛있었어요 !화장실도 건물 바로 근처에 있고여성용품등 필요한것들은 사장님이 다 구비해 두셨으니요청드리면 될듯 !센스굿 !오늘은 이렇게 회기역 조용한 비건카페벨리스에 다녀왔는데요 !건강한 비건 디저트에할미입맛인 제입맛에 딱이라답례품으로도 추천드리니맛있는 비건 답례품 또는회기역 조용한 카페 알아보고 있으시다면벨리스 추천드려요 !'}, {'title': \"회기역 삼겹살 맛집 '고깃집도훈' 냉삼 1인분에 9,000원 가성비 최고!\", 'date': '2024. 5. 7. 5:58', 'content': \"안녕하세요.🥰이번 주 주말에도 예랑이와 신혼집에 들어갈침대 계약을 하고 저녁으로 고기를 먹으러 갔어요!회기역고기집 찾던 중에백종원 골목식당에 나온 집이 있더라고요!반찬 종류도 많고 여기는 냉동 흑돼지삼겹살이라고 해서 흑돼지는 맛이 얼마나 다른가!궁금한 마음에 방문했어요.고깃집도훈월~토 11:30~22:00매주 일요일 정기휴무회기역 1번 출구에서 도보 12분회기역 삼겹살 고깃집도훈 은 경희대학교와경희의료원 근처에 위치해 있고,번잡한 메인 거리에서는 조금 벗어난 곳에자리를 잡고 있어요!야외 테이블 자리도 있는데 저녁시간 때는 이 자리에앉아서 먹으면 야장 분위기 나서 좋을 거 같아요!고깃집도훈 가게 내부는 밝고 쾌적하며깔끔하게 되어있고, 옷 보관할 수 있는 의자여서열어서 가방이나 겉옷을 넣으시면 되고화장실도 내부에 있어서 이용하기 편하더라고요.회기역 삼겹살 고깃집도훈은 백종원의 골목식당에도 소개된 흑돼지 냉동 삼겹살 맛집으로 유명하더라고요.소갈비탕과 냉동 삼겹살이 인기 메뉴이며,냉동 삼겹살도 180g에 9000원으로대학생들도 부담 없이 먹을 수 있는최고의 회기역 삼겹살 가성비 집이에요.제가 방문했을 때도 주말이라 그런지학생분들이 많더라고요!저희가 제일 나이 많아 보였어요..\\U0001f979냉동 삼겹살은 오후 5시부터 판매한데요!그전에 방문하시면 식사로 소갈비탕만즐기실 수 있으니 이점 참고해서 방문해 주시면 돼요!고깃집도훈 집에서는 기본으로다양한 반찬들이 나오더라고요!명이나물과 양념 깻잎장, 김치와 파절이 무침을주시는데 파절이 무침은 미리 만들어 놓지 않고바로바로 묻혀서 주시기 때문에숨이 많이 죽지 않아서 더 맛있더라고요!다 먹고 리필할 때도 바쁘신데바로 묻혀서 주셔서 좋았어요!파절이 사랑해🥰반찬들은 너무 맛있어서 2번 정도 리필했답니다.사장님 손맛이 너무 좋으신 거 같아요.쌈 야채와 고기 소스 종류로는 쌈장과 기름장이비법소스랑 마늘과 생와사비도 주십니다.구수한 된장찌개도 기본으로 주시는데 국물이진짜 깊고 칼칼하고 짭조름하고 된장찌개 안에 양파, 애호박, 두부 등 내용물을 가득 넣어 주시더라고요!이게 서비스라고요..?인심이 후한 사장 부부님들에게 감동받았어요.🥰흰밥에 먹으면 밥 한 공기 뚝딱할 거 같더라고요.추가로 시키시면 2000원이라니 가격도 저렴하고마지막에 술 먹으면서 국물 대용으로시켜도 좋을 거 같아요!냉동 삼겹살 3인분 시켰는데 다른 집과는 다르게180g 기준이라 양이 많더라고요!냉동 삼겹살이라 금방 익기 때문에빨리 먹을 수 있어서 너무 좋았어요.너무 배고팠다고요!!나올 때 생고기 위에 후추가 뿌려져서 나와서 따로구우면서 후추를 뿌릴 필요는 없었어요.부족하신 분들은 테이블에 후추 있으시니까구우면서 더 뿌리시면 될 거 같아요!회기역 삼겹살 맛집으로 유명한 고깃집도훈 은어디서도 맛볼 수 없는 프리미엄 흑돼지 삼겹살 '듀록'이라는 금돼지를 사용해서 육질이 부드럽고 감칠맛이 매우 뛰어나다고 해요.고기 때깔부터 달랐는데 다 이유가 있었군요.마늘이랑 김치랑 삼겹살 기름에 구워서 먹으니...미쳤다.. 너무 맛있다..회기역 삼겹살 고깃집도훈 만의 특별한 소스가있는데 그건 바로 백종원 님이 개발한 소스라고 해요.신선하고 큰 상추에다가 맛있게 구워진 삼겹살과다양한 반찬들을 올려서 상추쌈 싸서 먹었어요!백종원 님이 만드신 소스랑 곁들여서 먹었는데이 소스 되게 매력적이더라고요.어떤 재료로 만들었는지는 알 수 없지만너무 궁금했어요.제 최애 조합은 고기에다가 파절이랑 비법양념소스곁들이는 게 제일 맛있었습니다. \\U0001faf6🏻고기를 거의 다 먹고 볶음밥을 먹으려다가시원한 물냉면이 먹고 싶어서 시켰어요!물냉면이 나오기 전에 일회용 앞접시랑 식초와겨자 그리고 비빔 양념장을 가져다주셨어요.물냉면이 드디어 나왔어요! 고기 먹다 보니까 시원한 게먹고 싶어서 시켰는데 고명도 알차게 올려주셔서그런지 더 맛있어 보이네요.🤭삼겹살을 드시고 냉면 주문 시에는1000원 할인된 가격으로 드실 수 있어요!물냉면 면발은 탱글탱글 하더라고요!먹기도 전에 군침이 막 돌았어요.바로 면치기 들어갑니다!!고깃집도훈 물냉면 육수는 사장님께서 직접만드신다고 하는데 갈비탕 육수로 만들었다고 해요!그래서 그런지 국물 맛이 시원하고 깔끔한 맛이었어요.저는 간이 쌘 걸 좋아해서 식초와 겨자를 넣어서먹었는데 함흥냉면 스타일의 육수라서식초나 겨자를 따로 안 넣어 드셔도 좋아요!취향에 맞게 선택하시면 됩니다.냉동 삼겹살이랑도 싸먹고 비빔양념장에도 비벼서 먹어봤는데 양념장 소스 넣어 먹어도 새콤하니 괜찮더라고요.다음에는 비빔냉면으로 단독으로 시켜 먹어봐야겠어요.다른 테이블 시키신 거 보니 맛있는 냄새가후각을 자극하더라고요!셀프 볶음밥이라고 있는데 공깃밥을 추가하면사장님께서 재료를 준비해서 가져다주시면저 순서에 맞게 해서 먹으면 돼요!날계란 2알도 추가로 시키셔서 셀프 계란후라이랑함께 맛있게 볶음밥을 즐길 수 있어요.저는 너무 배불러서 볶음밥까지는못 먹었는데 지금 와서 생각해 보니..한국인의 k-디저트 볶음밥..아무리 배불러도 공깃밥 1개만 추가해서맛이라도 볼걸 후회 중입니다..회기역 삼겹살 집을 찾으신다면?경희대 삼겹살 집을 찾으신다면?흑돼지 냉동 삼겹살 맛집 '고깃집도훈' 어떠신가요~?저렴한 가격에 질 좋은 고기를 맛볼 수 있고,풍성한 반찬과 서비스 된장찌개까지너무 맛있어서 인상 깊었어요.다음번에는 친구들과 여럿이 와서 계란찜이랑소갈비탕, 셀프 볶음밥도 도전해 보고 싶어요!예랑이랑 흑돼지 냉동 삼겹살 3인분에 물냉면까지먹으니 너무 배불러서 못 먹고 간 게너무 아쉽더라고요..여러분도 다음번에 회기역 삼겹살 집을 찾으신다면꼭 방문해 보세요!맛있는 고기와 냉면을 즐기실 수 있으실 거예요.완전 추천드려요.🥰\"}, {'title': '1년 만에 재방문한 회기역 홍익돈까스 내돈내산 찐 후기', 'date': '2024. 5. 7. 12:29', 'content': '안녕하세요 여러분~!!!오랜만의 포스팅이죠!!5월 4일부터 어제까지본가에 다녀오느라 포스팅을 못했어요 ㅠㅠ그래도 아주아주 괜찮은 곳들을여러 곳 가지고 왔으니까기대해 주세요!!오늘은 본가에 내려가기 전에 먹었던돈까스 집을 소개해 드리려고 합니다!제 단골집.. 이었는데요즘은 이래저래 방문을 못하다가거의 1년 만에 다시 방문해 봤어요 ㅎㅎ과연 어땠을지보러 가시죠!영업시간화 - 일 11:30 - 21:30브레이크 타임14:30 - 16:30라스트 오더20:30정기휴무매주 월요일정말 오랜만에거의 1년 만에 홍익돈까스를 다녀왔는데요외관은 변함없이 그대로였습니다 ㅎㅎ대기하는 장소도 그대로였어요!!방문했던 시간이 7시 반쯤이었나..그랬을 텐데 따로 웨이팅은 없었어요!홀 매장은 이렇게 생겼어요식사시간이 조금 지난 시점이라 그런가사람이 많지는 않더라구요 ㅎㅎ가장 처음 발견한 바뀐 점은주문하는 방식이 테이블마다 있는태블릿으로 바뀌었다는 점이었어요!!!그렇다고 계산까지 한 번에 하는 건 아니었고주문만 태블릿으로 하고계산은 식사가 다 끝난 뒤에카운터에서 하는 방식이었어요 ㅎㅎ저희는 왕돈까스랑 고구마 치즈 롤까스이렇게 두가지 메뉴를 주문했답니다주문을 하고 매장을 둘러봤는데이 전에는 없었던파스타 전 메뉴 사이즈업 가능이라는포스터가 보이더라구요그런데 저는 홍익돈까스에서돈까스 메뉴 말고는 항상간이 너무 슴슴하더라구요그래서 면은 주문할 생각이 없었어요.. ㅎㅎ언제 생겼는지는 잘 모르겠지만처음 보는 함박돈까스라는신메뉴가 있었어요궁금하긴 했는데오늘은 오랜만에 방문했으니까먹던 메뉴를 먹어보자 해서주문하지 않았어요 ㅎㅎ홍익돈까스의 왕돈까스는사이즈가 좀 커서 많이 드시는 분들이 아니면보통은 남기시는 것 같더라구요그런 분들을 위한셀프 포장대가 있어서먹고 남은 음식은직접 포장해서 가실 수 있어요!! ㅎㅎ먼저 왕돈까스입니다!돈까스 위에 소스를 뿌려서 나오는경양식 돈까스의 스타일이었고크기가 진짜 생각보다 엄청 컸어요다음으로는 고구마 치즈 롤까스입니다잘라져있는 돈까스 사이사이로치즈랑 고구마가 삐져나와있어요 ㅎㅎ치돈이나 치즈롤까스같은거 먹으면이렇게 치즈 늘어나는 거 한번 해줘야죠 ㅋㅋ치즈 쭉쭉 늘어나는 거 보이시나요ㅎㅎ치즈 롤까스에돈까스 소스 푹 찍어서 먹어봤는데롤까스 안에 깻잎이 함께 있어서깻잎 향도 잘 나고고구마랑 치즈 맛도 진하게 나서너무 맛있었어요 ㅎㅎ다음은 왕돈까스입니다튀김옷도 바삭바삭하고무엇보다 소스가 너무 맛있더라구요경양식 돈까스 치고 고기도 두꺼워서고기의 맛도 잘 느껴져서 좋았어요또 홍익돈까스 회기점의진짜 큰 장점 중 하나는깍두기가 정말 맛있어요돈까스라는 메뉴가 느끼하지 않기 쉽지 않잖아요그래서 중간중간 느끼함을 잡아줄 무언가가 필요한데여기는 이 깍두기 하나만 있으면 해결이에요아삭아삭하면서 진짜 맛있는 깍두기였어요 ㅎㅎ고구마 치즈 돈까스랑번갈아가면서 먹으니까너무너무 행복하더라니까요 ㅎㅎ다 먹었어요소스까지 싹싹 긁어먹은 거 보이시나요 ㅎㅎ인기 랭킹으로 1위에 왕돈까스3위에 고구마 치즈롤까스가 있던데괜히 상위에 랭크되어있는 게 아니구나싶더라니까요 ㅎㅎ저번에도 봤던 거지만홍익돈까스 같은 경우에는맛과 위생을 위해서포장 판매를 아예 안 하고 계셨어요포장을 안 하시니까 당연히 배달도 안 하실 거고홍익돈까스를 먹고 싶으면 무조건 매장으로 방문해서매장에서 식사를 하셔야 한다는 아쉬움이 있지만맛있는 음식을 위한 고집이라오히려 더 기분 좋게 느껴지더라구요 ㅎㅎ나올 때가 8시 반쯤...? 된 시간이었던 것 같은데재료가 모두 소진되어서영업을 종료한다는 팻말이 걸려있더라구요 ㅎㅎ조금만 늦게 먹었으면 못 먹을뻔했다면서배부르게 나왔답니다!!홍익돈까스 회기점 총평경양식 돈까스를 좋아하신다면싫어할 수가 없는 양과 맛이었어요회기역 근처에서 경양식 돈까스를 드시고 싶다면다른 선택지는 생각이 안 날 정도로만족스럽게 먹었답니다 ㅎㅎ그럼 오늘 포스팅은 여기까지안녕~~!!#홍익돈까스 #회기홍익돈까스 #회기돈까스 #회기경양식돈까스 #회기맛집#경희대맛집 #경희대돈까스 #경희대홍익돈까스 #홍돈 #회기역맛집'}, {'title': '회기역 점심맛집 외대 맛집 추천 회기왕갈비탕', 'date': '2024. 5. 7. 19:10', 'content': '안녕하세요 뚜둡이에요퇴근하고 회기역에 제본하러 들렀다가몸보신 겸 뜨끈한 밥 한 그릇 하러 갈비탕 먹으러 들렀는데고기 듬뿍 배 든든하게 채우고 후식까지 야무지게 먹고!맛있어서 짝꿍 주려고 포장까지 해온!회기역 갈비탕 맛집을 소개해요!단체로도 혼밥으로 방문하기도 좋고회기역 점심 맛집으로도 좋은 든든한 왕갈비탕이에요!재방문 의사도 완전완전있는!! 뚜둡 추천 갈비탕 맛집!!!고기 듬뿍 맛있는 왕갈비탕 보고 가세요~회기역 점심맛집 회기왕갈비탕인데요저녁에 퇴근하고 방문해도 사람이 많더라고요갈비탕은 저의 소울푸드 중 하나인데또 생각보다 고기도 푸짐하고 국물을 맛있게 잘 하는 곳찾기가 어렵더라고요그래서 냉동 갈비탕으로 택배 주문해서 먹는데회기에서 갈비탕 찐 맛집 찾았습니다..!!!운수 좋은 날도 아니고 이날따라 일이 좀안 풀려서 늦은 저녁으로 방문했는데진짜.. 갈비탕으로 위로받고 왔어요몸보신 겸~ 고기 왕창 먹어야지 하고고기 듬뿍 아롱사태 갈비탕을 주문했는데비주얼부터 완전 만족스러운 갈비탕이 나왔어요!반찬으론 고추, 양파, 쌈장이 나오고석박지도 같이 나오는데 회기왕갈비탕은이 석박지도 직접 담근다고 하더라고요!큼지막한 석박지도 잘 익었고 아삭하니갈비탕이랑 잘 어울리고 맛있었어요!!밥은 흑미밥으로 제공되고 있어요밥집은 밥도 진짜 중요한데 밥도 촉촉하니 맛있어요!1인 1주문 시 밥이 무한리필로 제공되니밥이 모자랄 경우에는 셀프바에서 추가로 먹으면 돼요이 비주얼 보세요지방과 살코기의 마블링 굿,,,아롱사태 최애 부위 중 하난데 이렇게 많이 주다니요다들 아롱사태 갈비탕 드세요!!!!아롱사태 기가 막히는 맛입니다아롱사태랑 큼지막한 왕뼈가 들어있는데요고기도 많이 붙어있고 푹 끓여 가위로 슥슥 손질 후먹어주고 뜯어먹어주고~야들야들하고 부드러운 고기에요육즙 가득 풍미 가득 너무 맛있어요겨자소스도 콕 찍어 먹으면 얼마나 맛있게요,,고기 양도 넉넉해서 밥 먹는 내내 부족함이 없어요!갈비탕 안엔 당면과 숙주가 들어있는데요요 당면이 국물을 머금어서 너무 맛있고요숙주도 아삭아삭하니 맛있고 국물이 진하면서도시원하고 깔끔하니 맛있었어요!당연히 저는 국물까지 다 클리어!아삭한 숙주와 부드러운 고기 조합 진짜 대존맛탱고기가 가득 들어서 밥 한 숟가락에 고기 계속 먹어도고기가 넉넉한 양이에요!아롱사태로 숙주랑 당면 쌈 싸 먹기 냠냠갈비탕에 숙주 조합도 너무 좋아요고기도 숙주도 당면도 국물도 너무 맛있어서뚝배기 완.배가 부른데 또 후식 코너 지나칠 수 없죠셀프바에는 석박지, 양파, 고추 반찬들이 있고요보리강정도 후식으로 있고 구매도 가능해요할머니표 17가지 곡물이 들어간미숫가루까지 준비돼있더라고요이거 찐이잖아 배부르지만 안 먹어볼 수가 없어요보리의 바삭한 식감은 살아있으면서또 부드럽고 달달한 이 맛있는 보리강정진짜 마음 같아선 한 통도 다 비울 수 있어요보리강정까지 꼭꼭 먹어주라고요! 후식으로 딱이에요그리고 미숫가루! 시원하고 고소하고 달달한맛있는 할머니표 미숫가루에요갈비탕으로도 이미 배도 마음도 채워졌는데후식까지 따땃하구 너무 좋았어요(아이스 미숫가루임)메인메뉴부터 후식까지 완벽!회기왕갈비탕은 소갈비찜과 갈비탕을 판매 중이에요얼큰하게 얼큰 갈비탕도 있고아롱사태가 들어간 갈비탕도 있어요떡이랑 당면 사리도 추가 가능해요!테이블에서 키오스크로 주문하면 되고특 갈비탕으로 주문하면 갈빗대도 추가 가능하니참고하세요!내부는 2인석 4인석으로 널찍하게 자리가 많았어요점심에 단체로 방문해도 딱 좋을 이곳!인테리어도 깔끔하고 분위기가 좋아요그리고 1인석도 있어서 혼밥 하기에도 딱 좋아요든든하게 갈비탕 한 그릇 어때요~~가게 입구에는 웨이팅을 위한 의자도 마련되어 있어요한쪽에 앞치마도 있으니 밝은색 옷을 입은 분은앞치마 하고 드세요~(고기 열심히 뜯다 보면 다 흘리는 나..)갈비탕이 너무 맛있어서 먹다 보니 짝꿍 생각나서포장했답니다 ㅎㅎ포장으로 하면 국물을 두 배나 더 준다고 해요!가지고 오는데 묵직하더라고요매장에서 먹는 거랑 똑같이 당면, 숙주, 파, 석박지, 겨자까지 완벽하게 챙겨줘서 집에서도 맛있게 먹었어요!!회기에서 갈비탕 맛집을 찾다니 나 너무 기뻐..위치는 회기역 1번 출구에서 걸어서 5분 정도에 있어요스타벅스 대각선 맞은편에 있어요~주차는 매장 앞에 2대 가능하고청량 초등학교 회기공영주차장 이용하면 돼요가게명서울 동대문구 이문로 54 1층 회기왕갈비탕영업시간월요일 - 일요일 11:00 - 21:00라스트 오더 20:30전화번호0507-1354-1083밥 무한리필 / 포장 가능#회기역점심맛집#회기역맛집추천'}, {'title': '회기역 외대 맛집 회기왕갈비탕', 'date': '2024. 5. 4. 11:54', 'content': '회기역 맛집, 외대 맛집, 갈비탕 맛집 찾으실 때회기왕갈비탕 방문해 보시길 추천드립니다.어디서 많이 본 듯한 갈비탕의 비주얼과매장의 인테리어인가 했더니아차산통갈비탕을 창업했던 분과 동일한 분이셨네요 ㅎㅎ안 그래도 요새 아차산통갈비탕이 문득 생각나빠르게 한 번 다녀왔습니다.회기왕갈비탕은회기 파전 골목 부근에 위치하고 있습니다.도로 옆에 바로 있기 때문에지리적으로도 접근하기 수월했어요매장 입구에 들어서니주인장의 장사 17년 스토리가 보였고거진 10번의 폐업을 끝으로갈비탕에 마지막 승부를 걸어보려는 듯한 인상을 받았습니다입구 쪽에 있는 공깃밥, 미숫가루,반찬 등을 무한 셀프로 드실 수 있어요.보리강정은 1봉에 3,000원2봉은 5,000원에 판매 중이기 때문에식사를 마치고 간식으로 구매하셔도 좋습니다.빙글빙글 돌아가는 육수통 안에미숫가루가 계속 저어지고 있었어요.달콤하고 고소하고 맛있었습니다.셀프 코너에 있는 반찬으로는김치, 섞박지, 청양고추, 양파, 보리강정 등이 있습니다.매장은 넓고 쾌적한 편이었어요.테이블이 광이날 정도로 빤득빤득합니다.매장의 깔끔함이 사진을 타고도 전해집니다.안쪽으로는 갈비탕을 만드는 방법에 대한 정성이 적혀있어요.고기를 세척하고 고아내고손수 솔질하고 또 삶아내고진짜 보통일이 아닌가 싶더라구요저는 살짝 늦은 점심 즘에 방문했습니다.그래서 손님이 별로 없는 탓에쾌적하게 식사할 수 있었어요.메뉴는 다음과 같아요 :)갈비탕은 15,000원부터 시작하고갈비찜은 53,000원부터입니다.갈비탕에 들어가는 갈비 손질이굉장히 힘든 작업이라는데 대단하다고 느껴지네요.가장 기본 반찬으로는섞박지, 고추, 양파, 쌈장이 나오고갈비탕은 주문한지 거진 3분도 안되어 놓였습니다.갈비탕에 당면 사리를 추가해 먹었는데 양이 무척 많았고아롱사태는 다섯 점, 갈빗대는 두 대가 얹어져 있습니다.고명으로 파와 지단이 올려져 있고아롱사태의 영롱한 때깔이 흥미로웠습니다.아롱사태는 질기지도 않고 결이 살아있어 무척 맛있었습니다.겨자 푼 소스에 찍어 먹으니 감칠맛과 새콤함이 올라왔고국물의 깔끔함은 말할 것도 없습니다.갈비탕은 순대국, 뼈다귀탕같은 일반 음식이라기 보단일종의 기력 보충 음식으로 통하는 것 같아요.당면의 꼬들함은 섞박지, 김치와 잘 어울렸고갈빗대 역시 질긴 부분 없이 꼬소함만 가득했습니다.뼈에서 살만 쏙쏙 빠질 정도였으니까요.또 가고 싶네요'}, {'title': '[회기] 동대문구 회기역 맛집 신쭈 회기점 - 회기역쭈꾸미와 철판 쭈꾸미삼겹살 추천', 'date': '12시간 전', 'content': \"매콤한 음식이 땡겨 신쭈 회기점에 방문했습니다!!뭔가 쭈꾸미랑 삼겹살의 쭈삼 조합이 계속 땡겨가지구ㅋㅋㅋㅋㅋㅋ땡길때는 그 무엇도 나를 막을 수 없고...먹어야만 직성이 풀린다는 것을 알기에..신쭈회기점은 회기역 스타벅스 쪽에 있습니다!스타벅스 지나치고 골목길 사이 위로 조금만 올라오면 바로 보입니다.역시 회기역맛집 답게 저녁시간대에 갔는데 사람이 바글바글확실히 경희대, 외대 사이에 있다보니 외국인 학생들도 많더라구요?근데 학생들 테이블 외에도 어른들 모임이나 저녁식사하고 있는 테이블도 있었습니다.내부엔 귀여운 쭈꾸미 인형과 웨이팅을 위한 대기명단과 탈취제, 머리끈까지 구비해놓은 센스!인테리어는 아늑한 분위기에 레트로한 감성 뿜뿜사진에 보이는 것 처럼저 문 안쪽에도 자리와 공간이 또 있더라구요그래서 단체회식이나 여러명이서 와서 먹을 수 있을 것 같습니다!저희는 쭈꾸미와 삼겹살을 둘 다 먹고싶어서 쭈꾸미삼겹살과 납작당면을 추가했습니다.치즈볶음밥은 무조건이지..!그건 다 먹고 이따 시킬거예요.해산물이 있는 바다쭈꾸미도 있고아님 삼겹살과 새우, 해산물도 먹고싶으시다면 모듬으로 주문해도 될 것 같아요.삽겹살, 새우 등 메뉴가 다양해서 취향과 기호에 따라 주문할 수 있어서 너무 좋네요!주문하면 밑반찬과 서비스 계란찜을 놔주시는데 특히 계란찜이 부들부들해서 맛있었습니다.이렇게 매콤한 거 먹을때 계란찜은 필수라구요...!그리고 밑반찬은 하나하나 다 리필이 되서 계속 쭈꾸미먹으면서 리필해 먹었습니다.쭈삼 2인분을 시켰는데 얼마나 푸짐하게 주신건지 3인분 나온줄 알았어요!ㅋㅋㅋㅋ쭈꾸미와 삼겹살 외에 기본 떡, 치즈떡, 콩나물까지..! 진짜 푸짐 그 자체ㅠㅠ진짜 일단 기본 1인분 자체 양을 1.5인분으로 해서 푸짐하게 주시는 것 같아요..!떡사리도 일반 떡과 조랭이 떡 2가지로 나오더라구요!일단 쭈꾸미 자체가 굉장히 실하고 커서 대만족.....딱봐도 양이 푸짐하지 않나요!확실히 재료를 아낌없이 팍팍 넣어주는 것 같아요!회기역맛집이라 학생들이 많이 오는 이유를 알겠음... 양이 매우 푸짐해...!!!!또 주문하면 직원분께서 오셔서 다 익혀주시고, 볶아주셔서 편했습니다!실제로 저희 옆, 뒤는 외국인 학생들이였고 다른한쪽은 가족저녁식사 중이시더라구요?맛있게 매운 매콤함인데 외국인 분들도 올 정도면 진짜 중독성 있는 맛 인정이다.. 이건쭈꾸미는 얼마나 큰지 보기만해도 쫄깃하고 오동통한st...탱글한 쭈꾸미와 삼겹살, 쫀득한 떡사리까지 다 익어가서 먹음직스러운 비주얼을 뽐내면 본격적으로 먹으면 됩니다!!!벌써 먹음직스럽게 다 익어가고 있습니다.근데 엄청 매운맛이 아니라서 모두들 맛있게 먹을 수 있는 매콤함 정도인 것 같아요.매운맛도 아니고 매콤한 정도?!외국인 학생들도 맛있게 잘만 먹는데...!!다 익어서 볶아지니 양이 더 많은 것만 같습니다..ㅎㅎ저희는 우동사리와 납작당면 중 고민을 하다가중간에 납작당면사리를 추가했어요!!!쭈꾸미볶음에 면사리가 빠질수가 있나? 절대 안됨... 무조건 시켜야 해!!!!당면이 잘 어울릴 것 같더라구요쭈꾸미 볶음의 매콤한 소스를 싸악 빨아들여서 같이 먹으면 쫄깃 할 듯 하여 저희는 납작당면 노선으로 택!신쭈 회기점은 밑반찬 가짓수가 많아 깻잎에도 싸먹고,쌈무에도 싸먹고, 김에도 싸먹고 여러 방식으로 골고루 먹는게 재미나고 맛있었어요!그리고 김과 쌈무도 계속해서 리필이 되니까 부담없이 싸먹기...또 찍어먹는 마요 소스도 특이하고 잘어울리더라구요!납작당면까지 넣어서 다 익었네요.아 다시 먹고싶다...!!! 저 통통한 쭈꾸미 살 오른것 좀 보세요 ㅠ ㅠ엄청 신선하고, 크기도 크지만 먹기에 부드러운 식감.....!!.....저희는 삼겹살 메뉴로 주문했지만 새우 위주의 해산물쭈꾸미로 먹어도 맛있을 것 같더라구요!근데 그 무엇보다 특히 천사채랑 먹는게 대존맛...! 이었답니다.천사채가 꼬독꼬독해서 쫄깃한 쭈꾸미와 잘 어울리더라구요식감이 씹는 맛이 느껴지고, 쭈꾸미는 쫄깃하니까 완전 킥이더라구요?아까도 말씀드렸지만 신쭈 특제소스인 마요네즈소스는마요네즈 말고도 이것저것 넣으신 거 같은데 쭈꾸미에 찍어먹으면 매운맛이 중화되어 더 맛있다는 사실..!진짜 친구랑 미친듯이 먹어치웠습니다ㅎㅎㅎㅎ그리고 조금 쭈꾸미를 남겨놓았지요...이유 = 볶음밥과 같이 먹어야 함이건 한국인이라면 국룰이다.탄수화물로 식사를 마무리 하지 않는다면 먹은 것 같지 않은 느낌이 든단 말이예요....대신 쭈꾸미양이 진짜 푸짐했기에 볶음밥은 1개만 했어요!그래도 양이 많아...!!!......하지만 포기할 수 없는 볶음밥입니다. 저희만 그런거아니죠?한국인이라면 다 그런거 맞죠?위에 치즈까지 투-하!눈꽃치즈인것같더라구요.보통 치즈추가하면 모짜렐라 치즈를 위에 얹어주시는데 신쭈회기점은 색다르게얇은 눈꽃치즈를 위에 올려주시더라구요!!!!역시 회기역맛집의 모먼트는 다르긴 다르다...,너무 신기하지 않나요치즈 올려주시고 직원분께서 위에 덮어주시더라구요ㅋㅋㅋㅋ친구랑 UFO같다면서 왹져 흉내내면서 놀다가 빨리 익기만을 기다리고 기다리는...수저들고 목빼고 기다리고 있다구요..!!위에 올린 치즈까지 먹음직스럽게 익었으면약간 볶음밥을 누른밥처럼 철판에 눌러서 박박 긁어먹으면 완벽한 마무리입니다.또 볶음밥에 날치알도 들어있더라구요!저희처럼 쭈꾸미 조금 남겨서 볶음밥 볶은 뒤에수저 한가득 볶음밥 뜨고, 위에 쭈꾸미 얹어 먹으면 진짜 천상.. 극락갑니다요...ㅎㅎ신쭈 회기점에서 너무 푸짐하게 한끼 식사 잘 해서, 친구랑 대만족했습니다.우리만의 회기 또간집으로 뽑기..ㅎㅎㅎ여러분들도 회기역맛집을 찾으시다거나 회기역쭈꾸미를 찾으신다면양도 푸짐하고, 맛있게 매콤한 '신쭈 회기점' 추천드리겠습니다...!!양이 정말 많아서 배부르게 식사하기에 딱이라구요...ㅎㅎ!!그럼안녕~_~\"}, {'title': '휘경동 회기역 근처 맛집 고기가 푸짐한 회기왕갈비탕', 'date': '2024. 5. 3. 21:44', 'content': '추하!오늘은 휘경동 회기역 근처 맛집고기가 푸짐한 회기왕갈비탕포스팅을 하려고합니다.최근에 사패산으로 등산을다녀오고나서 집으로 오는길에갈비탕이 너무먹고 싶어서회기역 근처 맛집을 찾다가발견한 왕갈비탕맛집 입니다.회기역 근처 맛집 회기왕갈비탕영업정보입니다.주소: 서울시 동대문구 이문로 54영업시간: 매일 11:00 - 21:00단체석 있음, 가게앞 주차가능날씨가 오락가락하는 요즈음기력이 없을때는 왕갈비탕한그릇뚝딱하면 몸보신도하고 기운이 나더라고요.주차는 가게앞에 4대정도 가능합니다.주차자리가 없는 경우에는주변에 공영주차장을 이용해야합니다.이른 시간인데도 불구하고날씨가 좋아서그런지 사람들이몸보신하려고 회기역 근처 맛집을알아보시고는 왕갈비탕을 드시러 오셨어요.계속 손님들이 쌓이니까웨이팅도 금방 생기기 시작했어요.왕갈비탕이 어떻게 만들어지는지도알수있었는데 엄청난 정성이들어가고 있었습니다.매일 120킬로 갈비를 12시간핏물을 빼고 깨끗이 세척하여각종 재료를 넣고 1시간 삶아내고손수 기름제거와 맛사지, 6시간의고기 손질을 직접 한다고 합니다.몸에 좋은 재료와 양념을하여1시간반을 삶아내고중간중간 기름제거로 맑은 국물을보여준다고 합니다.석박지도 직접 만들어서 내놓으시고17곡물이 들어간 미숫가루도후식으로 제공하고 있었습니다.셀프바는 간단하게 준비되어있었어요.석박지, 배추김치, 청양고추, 양파그리고 후식으로 준비된 보리강정은식후 디저트로도 무료지만판매도 따로 하신다고 해요.또한 밥은 무려 무한리필 입니다.휘경동 회기역 근처 맛집 회기왕갈비탕메뉴판 입니다.주 메뉴인 왕갈비탕도 종류가 여럿입니다.엄청나게 큰 왕갈비가 여럿 들어간골프채 특왕갈비탕 16000원고기가 엄청나게 듬뿍 들어간고기듬뿍 아롱사태 갈비탕 17000원고기왕창 특아롱사태 갈비탕 20000원해장엔 얼큰갈비탕 15000원푸짐한 떡 왕갈비탕 14000원매콤달콤 소갈비찜은 매운맛과간장맛이 있는데 매운맛은 불닭정도로맵다고합니다. 아이들과 같이 드실경우간장맛을 추천 드려요. 53000원저희는 골프채 특왕갈비탕과고기가 많이 들어간 고기듬뿍아롱사태 갈비탕을 주문했어요.기본으로 나오는 밑반찬으로엄청 매운 청양고추와 직접만든 석박지와된장 그리고 보리차가 나오는데간만에 먹는 보리차가 정말 맛있었어요.주문한 골프채 왕갈비탕하고고기듬뿍 아롱사태 왕갈비탕이 나왔습니다.비쥬얼이 진짜 대박이었어요.고기가 엄청 듬뿍들어가서가성비가 아주 대박이라고 느껴졌어요.고기도 듬뿍들어있었지만그안에 콩나물이 들어가있어서아삭아삭했고 갈비탕하면 빠질수없는당면도 있어서 이게 원조라고 생각했어요.등산갔다와서 지쳤던 체력이왕갈비탕을 먹으면서 완전히회복됨을 느꼈습니다.갈비탕 고기가 얼마나 잘 삶아져있던지살코기가 완전 잘 발골되었습니다.살코기만 남겨놓고 보니까갈비탕의 반이상이 고기여서여기가 진짜 회기역 맛집이구나 싶었어요.정신차리고보니 한그릇 뚝딱했어요.마지막으로 후식 디저트로는회기왕갈비탕에서 제공하는보리강정과 17곡물로 만든 미숫가루를먹었는데 너무 찰떡궁합이고 후식으로너무 최고였습니다.이상으로 휘경동 회기역 근처 맛집고기가 푸짐한 회기왕갈비탕포스팅을 마치겠습니다.'}]\n"
     ]
    }
   ],
   "source": [
    "print(crawling_blog_data)"
   ]
  },
  {
   "cell_type": "code",
   "execution_count": 82,
   "metadata": {},
   "outputs": [
    {
     "data": {
      "text/html": [
       "<div>\n",
       "<style scoped>\n",
       "    .dataframe tbody tr th:only-of-type {\n",
       "        vertical-align: middle;\n",
       "    }\n",
       "\n",
       "    .dataframe tbody tr th {\n",
       "        vertical-align: top;\n",
       "    }\n",
       "\n",
       "    .dataframe thead th {\n",
       "        text-align: right;\n",
       "    }\n",
       "</style>\n",
       "<table border=\"1\" class=\"dataframe\">\n",
       "  <thead>\n",
       "    <tr style=\"text-align: right;\">\n",
       "      <th></th>\n",
       "      <th>title</th>\n",
       "      <th>date</th>\n",
       "      <th>content</th>\n",
       "    </tr>\n",
       "  </thead>\n",
       "  <tbody>\n",
       "    <tr>\n",
       "      <th>0</th>\n",
       "      <td>회기왕갈비탕, 혼밥 하기 좋은 회기역 맛집</td>\n",
       "      <td>2024. 5. 8. 8:46</td>\n",
       "      <td>안녕하세요이나입니다:)오늘은 혼밥 하기 좋은 회기역 맛집인 회기왕갈비탕에 방문한 후...</td>\n",
       "    </tr>\n",
       "    <tr>\n",
       "      <th>1</th>\n",
       "      <td>또 갈수밖에 없는 회기역 술집 와레와레 또 갔다왔지요.</td>\n",
       "      <td>2024. 5. 6. 16:34</td>\n",
       "      <td>안녕하세요 별숌이에요~예전에 한 번 다녀온적이 있는회기역 술집 '와레와레'지난번 안...</td>\n",
       "    </tr>\n",
       "    <tr>\n",
       "      <th>2</th>\n",
       "      <td>회기역 맛집 또와 양꼬치에서 무한리필 즐기기 회기 양꼬치</td>\n",
       "      <td>2024. 5. 6. 16:38</td>\n",
       "      <td>안녕하세요~ 미친 또라이 미또입니다최근에 양꼬치가 너무 먹고싶어서한동안 양고기만 먹...</td>\n",
       "    </tr>\n",
       "    <tr>\n",
       "      <th>3</th>\n",
       "      <td>회기역 조용한 카페 / 비건디저트 벨리스 후기</td>\n",
       "      <td>2024. 5. 4. 11:02</td>\n",
       "      <td>오늘은 회기역 비건카페로 유형한벨리스 다녀와봤어요 :)영업시간 10:00-20:00...</td>\n",
       "    </tr>\n",
       "    <tr>\n",
       "      <th>4</th>\n",
       "      <td>회기역 삼겹살 맛집 '고깃집도훈' 냉삼 1인분에 9,000원 가성비 최고!</td>\n",
       "      <td>2024. 5. 7. 5:58</td>\n",
       "      <td>안녕하세요.🥰이번 주 주말에도 예랑이와 신혼집에 들어갈침대 계약을 하고 저녁으로 고...</td>\n",
       "    </tr>\n",
       "    <tr>\n",
       "      <th>5</th>\n",
       "      <td>1년 만에 재방문한 회기역 홍익돈까스 내돈내산 찐 후기</td>\n",
       "      <td>2024. 5. 7. 12:29</td>\n",
       "      <td>안녕하세요 여러분~!!!오랜만의 포스팅이죠!!5월 4일부터 어제까지본가에 다녀오느라...</td>\n",
       "    </tr>\n",
       "    <tr>\n",
       "      <th>6</th>\n",
       "      <td>회기역 점심맛집 외대 맛집 추천 회기왕갈비탕</td>\n",
       "      <td>2024. 5. 7. 19:10</td>\n",
       "      <td>안녕하세요 뚜둡이에요퇴근하고 회기역에 제본하러 들렀다가몸보신 겸 뜨끈한 밥 한 그릇...</td>\n",
       "    </tr>\n",
       "    <tr>\n",
       "      <th>7</th>\n",
       "      <td>회기역 외대 맛집 회기왕갈비탕</td>\n",
       "      <td>2024. 5. 4. 11:54</td>\n",
       "      <td>회기역 맛집, 외대 맛집, 갈비탕 맛집 찾으실 때회기왕갈비탕 방문해 보시길 추천드립...</td>\n",
       "    </tr>\n",
       "    <tr>\n",
       "      <th>8</th>\n",
       "      <td>[회기] 동대문구 회기역 맛집 신쭈 회기점 - 회기역쭈꾸미와 철판 쭈꾸미삼겹살 추천</td>\n",
       "      <td>12시간 전</td>\n",
       "      <td>매콤한 음식이 땡겨 신쭈 회기점에 방문했습니다!!뭔가 쭈꾸미랑 삼겹살의 쭈삼 조합이...</td>\n",
       "    </tr>\n",
       "    <tr>\n",
       "      <th>9</th>\n",
       "      <td>휘경동 회기역 근처 맛집 고기가 푸짐한 회기왕갈비탕</td>\n",
       "      <td>2024. 5. 3. 21:44</td>\n",
       "      <td>추하!오늘은 휘경동 회기역 근처 맛집고기가 푸짐한 회기왕갈비탕포스팅을 하려고합니다....</td>\n",
       "    </tr>\n",
       "  </tbody>\n",
       "</table>\n",
       "</div>"
      ],
      "text/plain": [
       "                                            title               date  \\\n",
       "0                         회기왕갈비탕, 혼밥 하기 좋은 회기역 맛집   2024. 5. 8. 8:46   \n",
       "1                  또 갈수밖에 없는 회기역 술집 와레와레 또 갔다왔지요.  2024. 5. 6. 16:34   \n",
       "2                 회기역 맛집 또와 양꼬치에서 무한리필 즐기기 회기 양꼬치  2024. 5. 6. 16:38   \n",
       "3                       회기역 조용한 카페 / 비건디저트 벨리스 후기  2024. 5. 4. 11:02   \n",
       "4       회기역 삼겹살 맛집 '고깃집도훈' 냉삼 1인분에 9,000원 가성비 최고!   2024. 5. 7. 5:58   \n",
       "5                  1년 만에 재방문한 회기역 홍익돈까스 내돈내산 찐 후기  2024. 5. 7. 12:29   \n",
       "6                        회기역 점심맛집 외대 맛집 추천 회기왕갈비탕  2024. 5. 7. 19:10   \n",
       "7                                회기역 외대 맛집 회기왕갈비탕  2024. 5. 4. 11:54   \n",
       "8  [회기] 동대문구 회기역 맛집 신쭈 회기점 - 회기역쭈꾸미와 철판 쭈꾸미삼겹살 추천             12시간 전   \n",
       "9                    휘경동 회기역 근처 맛집 고기가 푸짐한 회기왕갈비탕  2024. 5. 3. 21:44   \n",
       "\n",
       "                                             content  \n",
       "0  안녕하세요이나입니다:)오늘은 혼밥 하기 좋은 회기역 맛집인 회기왕갈비탕에 방문한 후...  \n",
       "1  안녕하세요 별숌이에요~예전에 한 번 다녀온적이 있는회기역 술집 '와레와레'지난번 안...  \n",
       "2  안녕하세요~ 미친 또라이 미또입니다최근에 양꼬치가 너무 먹고싶어서한동안 양고기만 먹...  \n",
       "3  오늘은 회기역 비건카페로 유형한벨리스 다녀와봤어요 :)영업시간 10:00-20:00...  \n",
       "4  안녕하세요.🥰이번 주 주말에도 예랑이와 신혼집에 들어갈침대 계약을 하고 저녁으로 고...  \n",
       "5  안녕하세요 여러분~!!!오랜만의 포스팅이죠!!5월 4일부터 어제까지본가에 다녀오느라...  \n",
       "6  안녕하세요 뚜둡이에요퇴근하고 회기역에 제본하러 들렀다가몸보신 겸 뜨끈한 밥 한 그릇...  \n",
       "7  회기역 맛집, 외대 맛집, 갈비탕 맛집 찾으실 때회기왕갈비탕 방문해 보시길 추천드립...  \n",
       "8  매콤한 음식이 땡겨 신쭈 회기점에 방문했습니다!!뭔가 쭈꾸미랑 삼겹살의 쭈삼 조합이...  \n",
       "9  추하!오늘은 휘경동 회기역 근처 맛집고기가 푸짐한 회기왕갈비탕포스팅을 하려고합니다....  "
      ]
     },
     "execution_count": 82,
     "metadata": {},
     "output_type": "execute_result"
    }
   ],
   "source": [
    "df=pd.DataFrame(crawling_blog_data)\n",
    "df"
   ]
  },
  {
   "cell_type": "code",
   "execution_count": 83,
   "metadata": {},
   "outputs": [],
   "source": [
    "file_name = f\"{query}_{datetime.now().strftime('%Y%m%d')}.xlsx\"\n",
    "df.to_excel(file_name, index=False)"
   ]
  },
  {
   "cell_type": "code",
   "execution_count": 85,
   "metadata": {},
   "outputs": [
    {
     "data": {
      "text/plain": [
       "'안녕하세요이나입니다:)오늘은 혼밥 하기 좋은 회기역 맛집인 회기왕갈비탕에 방문한 후기를 들고 왔어요회기역 근처에서 촬영을 하고 혼밥을 해야 해서 뭘 먹지 고민하다가 혼밥 하기 좋다는 이야길 듣고 바로 후다닥 달려갔습니다 ㅎㅎ회기역에서 도보 5분 정도 거리로 굉장히 접근성도 좋아요ㅎㅎ그리고 외대 경희대 학생들도 가까워서 방문하기 좋을 것 같더라고요회기역 맛집은 석박지를 무려 직접 만든다고 해요힘드시겠다.. 그렇지만 소비자는 너무 맛있어요 츄릅김치 국내산? 보장된 거잖아요 히히회기왕갈비탕은 외부에서 봤을 때도 넓어 보였는데 들어가서 봐도 진짜 넓어요 굿굿쾌적하고 좌석도 많아서 단체로 와서 먹기에도 괜찮겠더라고요무려 1인 테이블도 있다는 점!! 혼밥 하기 좋은 회기역 맛집답게 1인 테이블까지~!~!근데 저는 혼밥 만렙이라서 4인 테이블 앉았어요점심시간 지나고 가서 자리가 많았기 때문이죠!!소갈비찜, 갈비탕 아롱사태 갈비탕 이렇게 메뉴가 깔끔하게 구성되어 있어요원래 맛집은 메뉴가 많이 없는 거 아시죠???기본 반찬 구성은 석박지, 쌈장, 고추, 마늘 이렇게 제공돼요!!기본 반찬 외에 필요한 건 셀프 코너에서!!셀프 코너에는 배추김치도 있어요근데 지금 포스팅하면서 알았는데 보리강정 먹어도 되는 거였냐고요진짜 몰랐네 알았으면 먹었는데…이거 진짜 좋아하는데속상하다…다음에는 꼭 먹어주겠다 보리강정 ㅡㅡ보리강정을 1봉지 3,000원2봉지 5,000원에 판매하고갈비탕 육수까지 같이 판매하고 있어요진짜 회기왕갈비탕 먹어보면 육수 따로 살만해요진짜 맛있거든요 ㅎㅎ혼밥 하기 좋은 회기역 맛집인 회기왕갈비탕은 무려 밥도 무한리필!!제가 아는 지인은 국밥 한 그릇에 세 공기, 다섯 공기 이렇게 먹는데 추천해 주고 싶네요 ㅋㅋㅋㅋㅋㅋ미숫가루도 후식으로 먹을 수 있게 준비되어 있어요열었는데 알아서 막 움직여서 놀랐어요 ㅋㅋㅋㅋㅋㅋㅋ진짜 당황 ㅇㅅㅇ혼밥 하기 좋은 회기역 맛집은 물도 맛집입니다무려 헛개열매차저 같은 술쟁이한테는 이렇게 식당에서 강제로 헛개열매차를 먹이면 오예입니다 ㅎㅎ제가 주문한 특 왕갈비탕!!비주얼 장난 아니죠당면 사리는 기본으로 들어간다고 해서 떡사리만 추가했어요뼈다귀는 세 개가 나와요근데 야들야들해서 고기도 쏙 빠져요부드럽고 퍽퍽하지 않아서 진짜 맛있어요당면도 불지 않게 나와서 너무 맛있게 촵촵국물도 너무 깔끔하고 깊어서 정신없이 먹었어요뼈다귀에 붙은 살을 다 발라내고 편하게 먹기!떡사리 추가한 건데 양이 진짜 많아서 좋았어요저는 돼지라서 밥도 한 공기 거의 다 먹고 국물까지 싹싹 비웠어요완뚝 완료!!!!든든하게 한 끼 먹어서 기분 좋아졌어요너무 맛있게 먹어서 아롱사태 갈비탕도 보장했어요포장 시에는 공깃밥이 포함되지는 않는데 육수를 2배나 준다고 하더라고요오히려 좋아~~육수 진짜 맛있어요다들 혼밥 하기 좋은 회기역 맛집인 회기왕갈비탕에서 든든한 한 끼 하세요!!!정말 너무 만족한 한 끼여서 행복했어요 헤헤업체정보회기왕갈비탕서울 동대문구 이문로 54 1층영업시간 : 월~일 11:00~21:000507-1354-1083'"
      ]
     },
     "execution_count": 85,
     "metadata": {},
     "output_type": "execute_result"
    }
   ],
   "source": [
    "df['content'][0]"
   ]
  },
  {
   "cell_type": "code",
   "execution_count": null,
   "metadata": {},
   "outputs": [],
   "source": []
  }
 ],
 "metadata": {
  "kernelspec": {
   "display_name": "Python 3",
   "language": "python",
   "name": "python3"
  },
  "language_info": {
   "codemirror_mode": {
    "name": "ipython",
    "version": 3
   },
   "file_extension": ".py",
   "mimetype": "text/x-python",
   "name": "python",
   "nbconvert_exporter": "python",
   "pygments_lexer": "ipython3",
   "version": "3.8.10"
  }
 },
 "nbformat": 4,
 "nbformat_minor": 2
}
