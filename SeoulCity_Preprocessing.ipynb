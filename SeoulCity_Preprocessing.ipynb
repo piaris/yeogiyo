{
 "cells": [
  {
   "cell_type": "markdown",
   "metadata": {},
   "source": [
    "# 서울시 도시 데이터 전처리"
   ]
  },
  {
   "cell_type": "code",
   "execution_count": 2,
   "metadata": {},
   "outputs": [],
   "source": [
    "# 옵션 설정\n",
    "import warnings\n",
    "warnings.filterwarnings(\"ignore\")\n",
    "\n",
    "import matplotlib.pyplot as plt\n",
    "plt.rcParams['font.family'] ='Malgun Gothic'\n",
    "plt.rcParams['axes.unicode_minus'] =False\n",
    "\n",
    "# 필요한 패키지\n",
    "import re\n",
    "import requests\n",
    "import numpy as np\n",
    "import pandas as pd"
   ]
  },
  {
   "cell_type": "code",
   "execution_count": 3,
   "metadata": {},
   "outputs": [],
   "source": [
    "with open(\"src/coord.json\", \"r\") as f:\n",
    "    coord = json.load(f)"
   ]
  },
  {
   "cell_type": "code",
   "execution_count": 4,
   "metadata": {},
   "outputs": [
    {
     "data": {
      "text/plain": [
       "115"
      ]
     },
     "execution_count": 4,
     "metadata": {},
     "output_type": "execute_result"
    }
   ],
   "source": [
    "len(coord['features'])\n",
    "# 115개의 장소 위치 데이터"
   ]
  },
  {
   "cell_type": "code",
   "execution_count": 5,
   "metadata": {},
   "outputs": [],
   "source": [
    "city = coord['features']"
   ]
  },
  {
   "cell_type": "code",
   "execution_count": 16,
   "metadata": {},
   "outputs": [
    {
     "name": "stdout",
     "output_type": "stream",
     "text": [
      "홍대 관광특구 / 관광특구/ [37.55458049807929, 126.92187309265138]\n",
      "창덕궁·종묘 / 고궁·문화유산/ [37.57927647015724, 126.99345588684083]\n",
      "서울역 / 인구밀집지역/ [37.55662179786924, 126.9728994369507]\n",
      "가산디지털단지역 / 인구밀집지역/ [37.48088619499635, 126.87994480133058]\n",
      "건대입구역 / 인구밀집지역/ [37.53967731569061, 127.06872940063478]\n"
     ]
    }
   ],
   "source": [
    "for _ in range(5):\n",
    "    print(city[_]['properties']['hotspotNm'], end=\" / \")\n",
    "    print(city[_]['properties']['category'], end=\"/ \")\n",
    "    print(city[_]['properties']['center'])\n",
    "    # print(city[_]['geometry']['coordinates'][0], \"\\n\")"
   ]
  },
  {
   "cell_type": "code",
   "execution_count": 17,
   "metadata": {},
   "outputs": [],
   "source": [
    "AREA_NM = []\n",
    "CENTER = []\n",
    "COORDINATES = []\n",
    "\n",
    "for _ in range(len(city)):\n",
    "    AREA_NM.append(city[_]['properties']['hotspotNm'])\n",
    "    CENTER.append(city[_]['properties']['center'])\n",
    "    COORDINATES.append(city[_]['geometry']['coordinates'][0])"
   ]
  },
  {
   "cell_type": "code",
   "execution_count": 18,
   "metadata": {},
   "outputs": [
    {
     "data": {
      "text/html": [
       "<div>\n",
       "<style scoped>\n",
       "    .dataframe tbody tr th:only-of-type {\n",
       "        vertical-align: middle;\n",
       "    }\n",
       "\n",
       "    .dataframe tbody tr th {\n",
       "        vertical-align: top;\n",
       "    }\n",
       "\n",
       "    .dataframe thead th {\n",
       "        text-align: right;\n",
       "    }\n",
       "</style>\n",
       "<table border=\"1\" class=\"dataframe\">\n",
       "  <thead>\n",
       "    <tr style=\"text-align: right;\">\n",
       "      <th></th>\n",
       "      <th>AREA_NM</th>\n",
       "      <th>CENTER</th>\n",
       "      <th>COORDINATES</th>\n",
       "    </tr>\n",
       "  </thead>\n",
       "  <tbody>\n",
       "    <tr>\n",
       "      <th>0</th>\n",
       "      <td>홍대 관광특구</td>\n",
       "      <td>[37.55458049807929, 126.92187309265138]</td>\n",
       "      <td>[[37.54899139823932, 126.91366876415408], [37....</td>\n",
       "    </tr>\n",
       "    <tr>\n",
       "      <th>1</th>\n",
       "      <td>창덕궁·종묘</td>\n",
       "      <td>[37.57927647015724, 126.99345588684083]</td>\n",
       "      <td>[[37.583318, 126.989366], [37.583408, 126.9893...</td>\n",
       "    </tr>\n",
       "    <tr>\n",
       "      <th>2</th>\n",
       "      <td>서울역</td>\n",
       "      <td>[37.55662179786924, 126.9728994369507]</td>\n",
       "      <td>[[37.555967, 126.976832], [37.555829, 126.9767...</td>\n",
       "    </tr>\n",
       "  </tbody>\n",
       "</table>\n",
       "</div>"
      ],
      "text/plain": [
       "   AREA_NM                                   CENTER  \\\n",
       "0  홍대 관광특구  [37.55458049807929, 126.92187309265138]   \n",
       "1   창덕궁·종묘  [37.57927647015724, 126.99345588684083]   \n",
       "2      서울역   [37.55662179786924, 126.9728994369507]   \n",
       "\n",
       "                                         COORDINATES  \n",
       "0  [[37.54899139823932, 126.91366876415408], [37....  \n",
       "1  [[37.583318, 126.989366], [37.583408, 126.9893...  \n",
       "2  [[37.555967, 126.976832], [37.555829, 126.9767...  "
      ]
     },
     "execution_count": 18,
     "metadata": {},
     "output_type": "execute_result"
    }
   ],
   "source": [
    "city_df = pd.DataFrame(\n",
    "    {\"AREA_NM\" : AREA_NM,\n",
    "     \"CENTER\" : CENTER,\n",
    "     \"COORDINATES\" : COORDINATES\n",
    "     })\n",
    "city_df.head(3)"
   ]
  },
  {
   "cell_type": "code",
   "execution_count": 19,
   "metadata": {},
   "outputs": [],
   "source": [
    "city_code = pd.read_excel(\"src/city_code.xlsx\")\n",
    "city_code_df = city_code.iloc[:,[0,2,3]]"
   ]
  },
  {
   "cell_type": "code",
   "execution_count": 20,
   "metadata": {},
   "outputs": [
    {
     "data": {
      "text/html": [
       "<div>\n",
       "<style scoped>\n",
       "    .dataframe tbody tr th:only-of-type {\n",
       "        vertical-align: middle;\n",
       "    }\n",
       "\n",
       "    .dataframe tbody tr th {\n",
       "        vertical-align: top;\n",
       "    }\n",
       "\n",
       "    .dataframe thead th {\n",
       "        text-align: right;\n",
       "    }\n",
       "</style>\n",
       "<table border=\"1\" class=\"dataframe\">\n",
       "  <thead>\n",
       "    <tr style=\"text-align: right;\">\n",
       "      <th></th>\n",
       "      <th>CATEGORY</th>\n",
       "      <th>AREA_CD</th>\n",
       "      <th>AREA_NM</th>\n",
       "    </tr>\n",
       "  </thead>\n",
       "  <tbody>\n",
       "    <tr>\n",
       "      <th>0</th>\n",
       "      <td>관광특구</td>\n",
       "      <td>POI001</td>\n",
       "      <td>강남 MICE 관광특구</td>\n",
       "    </tr>\n",
       "    <tr>\n",
       "      <th>1</th>\n",
       "      <td>관광특구</td>\n",
       "      <td>POI002</td>\n",
       "      <td>동대문 관광특구</td>\n",
       "    </tr>\n",
       "    <tr>\n",
       "      <th>2</th>\n",
       "      <td>관광특구</td>\n",
       "      <td>POI003</td>\n",
       "      <td>명동 관광특구</td>\n",
       "    </tr>\n",
       "  </tbody>\n",
       "</table>\n",
       "</div>"
      ],
      "text/plain": [
       "  CATEGORY AREA_CD       AREA_NM\n",
       "0     관광특구  POI001  강남 MICE 관광특구\n",
       "1     관광특구  POI002      동대문 관광특구\n",
       "2     관광특구  POI003       명동 관광특구"
      ]
     },
     "execution_count": 20,
     "metadata": {},
     "output_type": "execute_result"
    }
   ],
   "source": [
    "city_code_df.head(3)"
   ]
  },
  {
   "cell_type": "code",
   "execution_count": 21,
   "metadata": {},
   "outputs": [],
   "source": [
    "city_data_df = pd.merge(city_code_df, city_df, on=\"AREA_NM\", how=\"inner\")"
   ]
  },
  {
   "cell_type": "code",
   "execution_count": 22,
   "metadata": {},
   "outputs": [
    {
     "data": {
      "text/html": [
       "<div>\n",
       "<style scoped>\n",
       "    .dataframe tbody tr th:only-of-type {\n",
       "        vertical-align: middle;\n",
       "    }\n",
       "\n",
       "    .dataframe tbody tr th {\n",
       "        vertical-align: top;\n",
       "    }\n",
       "\n",
       "    .dataframe thead th {\n",
       "        text-align: right;\n",
       "    }\n",
       "</style>\n",
       "<table border=\"1\" class=\"dataframe\">\n",
       "  <thead>\n",
       "    <tr style=\"text-align: right;\">\n",
       "      <th></th>\n",
       "      <th>CATEGORY</th>\n",
       "      <th>AREA_CD</th>\n",
       "      <th>AREA_NM</th>\n",
       "      <th>CENTER</th>\n",
       "      <th>COORDINATES</th>\n",
       "    </tr>\n",
       "  </thead>\n",
       "  <tbody>\n",
       "    <tr>\n",
       "      <th>0</th>\n",
       "      <td>관광특구</td>\n",
       "      <td>POI001</td>\n",
       "      <td>강남 MICE 관광특구</td>\n",
       "      <td>[37.51095136635107, 127.06016778945924]</td>\n",
       "      <td>[[37.513903342198184, 127.06027547260382], [37...</td>\n",
       "    </tr>\n",
       "    <tr>\n",
       "      <th>1</th>\n",
       "      <td>관광특구</td>\n",
       "      <td>POI002</td>\n",
       "      <td>동대문 관광특구</td>\n",
       "      <td>[37.567269671705716, 127.0113515853882]</td>\n",
       "      <td>[[37.56949795219521, 127.01759028830955], [37....</td>\n",
       "    </tr>\n",
       "    <tr>\n",
       "      <th>2</th>\n",
       "      <td>관광특구</td>\n",
       "      <td>POI003</td>\n",
       "      <td>명동 관광특구</td>\n",
       "      <td>[37.564650367842184, 126.98208332061769]</td>\n",
       "      <td>[[37.56066567164939, 126.97600605147264], [37....</td>\n",
       "    </tr>\n",
       "  </tbody>\n",
       "</table>\n",
       "</div>"
      ],
      "text/plain": [
       "  CATEGORY AREA_CD       AREA_NM                                    CENTER  \\\n",
       "0     관광특구  POI001  강남 MICE 관광특구   [37.51095136635107, 127.06016778945924]   \n",
       "1     관광특구  POI002      동대문 관광특구   [37.567269671705716, 127.0113515853882]   \n",
       "2     관광특구  POI003       명동 관광특구  [37.564650367842184, 126.98208332061769]   \n",
       "\n",
       "                                         COORDINATES  \n",
       "0  [[37.513903342198184, 127.06027547260382], [37...  \n",
       "1  [[37.56949795219521, 127.01759028830955], [37....  \n",
       "2  [[37.56066567164939, 126.97600605147264], [37....  "
      ]
     },
     "execution_count": 22,
     "metadata": {},
     "output_type": "execute_result"
    }
   ],
   "source": [
    "city_data_df.head(3)"
   ]
  },
  {
   "cell_type": "code",
   "execution_count": 23,
   "metadata": {},
   "outputs": [],
   "source": [
    "HASHTAG = []\n",
    "\n",
    "for _ in city_data_df['AREA_NM']:\n",
    "    if _ == \"4·19 카페거리\":\n",
    "        formatted_tokens = [_]\n",
    "    else:\n",
    "        tokens = re.findall(r'\\w+|\\d[·\\d]*|[^\\W\\d_]+(?:\\([^\\)]+\\))?', _)\n",
    "        formatted_tokens = [re.sub(r'·', ',', token).strip() for token in tokens]\n",
    "    HASHTAG.append(formatted_tokens[0])"
   ]
  },
  {
   "cell_type": "code",
   "execution_count": 24,
   "metadata": {},
   "outputs": [],
   "source": [
    "city_data_df.insert(3, \"HASHTAG\", HASHTAG)"
   ]
  },
  {
   "cell_type": "code",
   "execution_count": 25,
   "metadata": {},
   "outputs": [
    {
     "data": {
      "text/html": [
       "<div>\n",
       "<style scoped>\n",
       "    .dataframe tbody tr th:only-of-type {\n",
       "        vertical-align: middle;\n",
       "    }\n",
       "\n",
       "    .dataframe tbody tr th {\n",
       "        vertical-align: top;\n",
       "    }\n",
       "\n",
       "    .dataframe thead th {\n",
       "        text-align: right;\n",
       "    }\n",
       "</style>\n",
       "<table border=\"1\" class=\"dataframe\">\n",
       "  <thead>\n",
       "    <tr style=\"text-align: right;\">\n",
       "      <th></th>\n",
       "      <th>CATEGORY</th>\n",
       "      <th>AREA_CD</th>\n",
       "      <th>AREA_NM</th>\n",
       "      <th>HASHTAG</th>\n",
       "      <th>CENTER</th>\n",
       "      <th>COORDINATES</th>\n",
       "    </tr>\n",
       "  </thead>\n",
       "  <tbody>\n",
       "    <tr>\n",
       "      <th>0</th>\n",
       "      <td>관광특구</td>\n",
       "      <td>POI001</td>\n",
       "      <td>강남 MICE 관광특구</td>\n",
       "      <td>강남</td>\n",
       "      <td>[37.51095136635107, 127.06016778945924]</td>\n",
       "      <td>[[37.513903342198184, 127.06027547260382], [37...</td>\n",
       "    </tr>\n",
       "    <tr>\n",
       "      <th>1</th>\n",
       "      <td>관광특구</td>\n",
       "      <td>POI002</td>\n",
       "      <td>동대문 관광특구</td>\n",
       "      <td>동대문</td>\n",
       "      <td>[37.567269671705716, 127.0113515853882]</td>\n",
       "      <td>[[37.56949795219521, 127.01759028830955], [37....</td>\n",
       "    </tr>\n",
       "    <tr>\n",
       "      <th>2</th>\n",
       "      <td>관광특구</td>\n",
       "      <td>POI003</td>\n",
       "      <td>명동 관광특구</td>\n",
       "      <td>명동</td>\n",
       "      <td>[37.564650367842184, 126.98208332061769]</td>\n",
       "      <td>[[37.56066567164939, 126.97600605147264], [37....</td>\n",
       "    </tr>\n",
       "  </tbody>\n",
       "</table>\n",
       "</div>"
      ],
      "text/plain": [
       "  CATEGORY AREA_CD       AREA_NM HASHTAG  \\\n",
       "0     관광특구  POI001  강남 MICE 관광특구      강남   \n",
       "1     관광특구  POI002      동대문 관광특구     동대문   \n",
       "2     관광특구  POI003       명동 관광특구      명동   \n",
       "\n",
       "                                     CENTER  \\\n",
       "0   [37.51095136635107, 127.06016778945924]   \n",
       "1   [37.567269671705716, 127.0113515853882]   \n",
       "2  [37.564650367842184, 126.98208332061769]   \n",
       "\n",
       "                                         COORDINATES  \n",
       "0  [[37.513903342198184, 127.06027547260382], [37...  \n",
       "1  [[37.56949795219521, 127.01759028830955], [37....  \n",
       "2  [[37.56066567164939, 126.97600605147264], [37....  "
      ]
     },
     "execution_count": 25,
     "metadata": {},
     "output_type": "execute_result"
    }
   ],
   "source": [
    "city_data_df.head(3)"
   ]
  },
  {
   "cell_type": "code",
   "execution_count": 85,
   "metadata": {},
   "outputs": [],
   "source": [
    "city_data_df.to_csv(\"src/city_data_df.csv\", index=False)"
   ]
  }
 ],
 "metadata": {
  "kernelspec": {
   "display_name": "base",
   "language": "python",
   "name": "python3"
  },
  "language_info": {
   "codemirror_mode": {
    "name": "ipython",
    "version": 3
   },
   "file_extension": ".py",
   "mimetype": "text/x-python",
   "name": "python",
   "nbconvert_exporter": "python",
   "pygments_lexer": "ipython3",
   "version": "3.11.7"
  }
 },
 "nbformat": 4,
 "nbformat_minor": 2
}
