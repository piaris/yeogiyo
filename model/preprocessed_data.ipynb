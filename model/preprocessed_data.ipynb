{
 "cells": [
  {
   "cell_type": "code",
   "execution_count": 1,
   "metadata": {},
   "outputs": [],
   "source": [
    "import os\n",
    "import sys\n",
    "import json\n",
    "import pandas as pd\n",
    "import json\n",
    "import warnings\n",
    "import openpyxl\n",
    "import statistics\n",
    "import boto3\n",
    "warnings.filterwarnings('ignore')"
   ]
  },
  {
   "cell_type": "markdown",
   "metadata": {},
   "source": [
    "- object list 가져오기"
   ]
  },
  {
   "cell_type": "code",
   "execution_count": 2,
   "metadata": {},
   "outputs": [],
   "source": [
    "def get_object_list(Bucket_name, Prefix):\n",
    "    bucket_name=Bucket_name\n",
    "    prefix = Prefix\n",
    "    s3 = boto3.client('s3')\n",
    "    obj_data = s3.list_objects(Bucket=bucket_name, Prefix=prefix)\n",
    "    contents_list = obj_data['Contents']\n",
    "    object_list = []\n",
    "\n",
    "    for content in contents_list :\n",
    "        file_name = content['Key']\n",
    "        if file_name.endswith(\".json\") :\n",
    "            object_list.append(file_name)\n",
    "\n",
    "    return object_list"
   ]
  },
  {
   "cell_type": "code",
   "execution_count": 3,
   "metadata": {},
   "outputs": [
    {
     "name": "stdout",
     "output_type": "stream",
     "text": [
      "369\n",
      "['crawling_congest/data_2024-05-23_11:22.json', 'crawling_congest/data_2024-05-23_11:23.json', 'crawling_congest/data_2024-05-23_11:25.json', 'crawling_congest/data_2024-05-23_11:35.json', 'crawling_congest/data_2024-05-23_12:00.json', 'crawling_congest/data_2024-05-23_12:30.json', 'crawling_congest/data_2024-05-23_13:00.json', 'crawling_congest/data_2024-05-23_13:30.json', 'crawling_congest/data_2024-05-23_14:00.json', 'crawling_congest/data_2024-05-23_14:30.json', 'crawling_congest/data_2024-05-23_15:00.json', 'crawling_congest/data_2024-05-23_15:30.json', 'crawling_congest/data_2024-05-23_16:00.json', 'crawling_congest/data_2024-05-23_16:30.json', 'crawling_congest/data_2024-05-23_17:00.json', 'crawling_congest/data_2024-05-23_17:30.json', 'crawling_congest/data_2024-05-23_18:00.json', 'crawling_congest/data_2024-05-23_18:30.json', 'crawling_congest/data_2024-05-23_19:00.json', 'crawling_congest/data_2024-05-23_19:30.json', 'crawling_congest/data_2024-05-23_20:00.json', 'crawling_congest/data_2024-05-23_20:30.json', 'crawling_congest/data_2024-05-23_21:00.json', 'crawling_congest/data_2024-05-23_21:30.json', 'crawling_congest/data_2024-05-23_22:00.json', 'crawling_congest/data_2024-05-23_22:30.json', 'crawling_congest/data_2024-05-23_23:00.json', 'crawling_congest/data_2024-05-23_23:30.json', 'crawling_congest/data_2024-05-24_00:00.json', 'crawling_congest/data_2024-05-24_00:30.json', 'crawling_congest/data_2024-05-24_01:00.json', 'crawling_congest/data_2024-05-24_01:30.json', 'crawling_congest/data_2024-05-24_02:00.json', 'crawling_congest/data_2024-05-24_02:30.json', 'crawling_congest/data_2024-05-24_03:00.json', 'crawling_congest/data_2024-05-24_03:30.json', 'crawling_congest/data_2024-05-24_04:00.json', 'crawling_congest/data_2024-05-24_04:30.json', 'crawling_congest/data_2024-05-24_05:00.json', 'crawling_congest/data_2024-05-24_05:30.json', 'crawling_congest/data_2024-05-24_06:00.json', 'crawling_congest/data_2024-05-24_06:30.json', 'crawling_congest/data_2024-05-24_07:00.json', 'crawling_congest/data_2024-05-24_07:30.json', 'crawling_congest/data_2024-05-24_08:00.json', 'crawling_congest/data_2024-05-24_08:30.json', 'crawling_congest/data_2024-05-24_09:00.json', 'crawling_congest/data_2024-05-24_09:30.json', 'crawling_congest/data_2024-05-24_10:00.json', 'crawling_congest/data_2024-05-24_10:30.json', 'crawling_congest/data_2024-05-24_11:00.json', 'crawling_congest/data_2024-05-24_11:30.json', 'crawling_congest/data_2024-05-24_12:00.json', 'crawling_congest/data_2024-05-24_12:30.json', 'crawling_congest/data_2024-05-24_13:00.json', 'crawling_congest/data_2024-05-24_13:30.json', 'crawling_congest/data_2024-05-24_14:00.json', 'crawling_congest/data_2024-05-24_14:30.json', 'crawling_congest/data_2024-05-24_15:00.json', 'crawling_congest/data_2024-05-24_15:30.json', 'crawling_congest/data_2024-05-24_16:00.json', 'crawling_congest/data_2024-05-24_16:30.json', 'crawling_congest/data_2024-05-24_17:00.json', 'crawling_congest/data_2024-05-24_17:30.json', 'crawling_congest/data_2024-05-24_18:00.json', 'crawling_congest/data_2024-05-24_18:30.json', 'crawling_congest/data_2024-05-24_19:00.json', 'crawling_congest/data_2024-05-24_19:30.json', 'crawling_congest/data_2024-05-24_20:00.json', 'crawling_congest/data_2024-05-24_20:30.json', 'crawling_congest/data_2024-05-24_21:00.json', 'crawling_congest/data_2024-05-24_21:30.json', 'crawling_congest/data_2024-05-24_22:00.json', 'crawling_congest/data_2024-05-24_22:30.json', 'crawling_congest/data_2024-05-24_23:00.json', 'crawling_congest/data_2024-05-24_23:30.json', 'crawling_congest/data_2024-05-25_00:00.json', 'crawling_congest/data_2024-05-25_00:30.json', 'crawling_congest/data_2024-05-25_01:00.json', 'crawling_congest/data_2024-05-25_01:30.json', 'crawling_congest/data_2024-05-25_02:00.json', 'crawling_congest/data_2024-05-25_02:30.json', 'crawling_congest/data_2024-05-25_03:00.json', 'crawling_congest/data_2024-05-25_03:30.json', 'crawling_congest/data_2024-05-25_04:00.json', 'crawling_congest/data_2024-05-25_04:30.json', 'crawling_congest/data_2024-05-25_05:00.json', 'crawling_congest/data_2024-05-25_05:30.json', 'crawling_congest/data_2024-05-25_06:00.json', 'crawling_congest/data_2024-05-25_06:30.json', 'crawling_congest/data_2024-05-25_07:00.json', 'crawling_congest/data_2024-05-25_07:30.json', 'crawling_congest/data_2024-05-25_08:00.json', 'crawling_congest/data_2024-05-25_08:30.json', 'crawling_congest/data_2024-05-25_09:00.json', 'crawling_congest/data_2024-05-25_09:30.json', 'crawling_congest/data_2024-05-25_10:00.json', 'crawling_congest/data_2024-05-25_10:30.json', 'crawling_congest/data_2024-05-25_11:00.json', 'crawling_congest/data_2024-05-25_11:30.json', 'crawling_congest/data_2024-05-25_12:00.json', 'crawling_congest/data_2024-05-25_12:30.json', 'crawling_congest/data_2024-05-25_13:00.json', 'crawling_congest/data_2024-05-25_13:30.json', 'crawling_congest/data_2024-05-25_14:00.json', 'crawling_congest/data_2024-05-25_14:30.json', 'crawling_congest/data_2024-05-25_15:00.json', 'crawling_congest/data_2024-05-25_15:30.json', 'crawling_congest/data_2024-05-25_16:00.json', 'crawling_congest/data_2024-05-25_16:30.json', 'crawling_congest/data_2024-05-25_17:00.json', 'crawling_congest/data_2024-05-25_17:30.json', 'crawling_congest/data_2024-05-25_18:00.json', 'crawling_congest/data_2024-05-25_18:30.json', 'crawling_congest/data_2024-05-25_19:00.json', 'crawling_congest/data_2024-05-25_19:30.json', 'crawling_congest/data_2024-05-25_20:00.json', 'crawling_congest/data_2024-05-25_20:30.json', 'crawling_congest/data_2024-05-25_21:00.json', 'crawling_congest/data_2024-05-25_21:30.json', 'crawling_congest/data_2024-05-25_22:00.json', 'crawling_congest/data_2024-05-25_22:30.json', 'crawling_congest/data_2024-05-25_23:00.json', 'crawling_congest/data_2024-05-25_23:30.json', 'crawling_congest/data_2024-05-26_00:00.json', 'crawling_congest/data_2024-05-26_00:30.json', 'crawling_congest/data_2024-05-26_01:00.json', 'crawling_congest/data_2024-05-26_01:30.json', 'crawling_congest/data_2024-05-26_02:00.json', 'crawling_congest/data_2024-05-26_02:30.json', 'crawling_congest/data_2024-05-26_03:00.json', 'crawling_congest/data_2024-05-26_03:30.json', 'crawling_congest/data_2024-05-26_04:00.json', 'crawling_congest/data_2024-05-26_04:30.json', 'crawling_congest/data_2024-05-26_05:00.json', 'crawling_congest/data_2024-05-26_05:30.json', 'crawling_congest/data_2024-05-26_06:00.json', 'crawling_congest/data_2024-05-26_06:30.json', 'crawling_congest/data_2024-05-26_07:00.json', 'crawling_congest/data_2024-05-26_07:30.json', 'crawling_congest/data_2024-05-26_08:00.json', 'crawling_congest/data_2024-05-26_08:30.json', 'crawling_congest/data_2024-05-26_09:00.json', 'crawling_congest/data_2024-05-26_09:30.json', 'crawling_congest/data_2024-05-26_10:00.json', 'crawling_congest/data_2024-05-26_10:30.json', 'crawling_congest/data_2024-05-26_11:00.json', 'crawling_congest/data_2024-05-26_11:30.json', 'crawling_congest/data_2024-05-26_12:00.json', 'crawling_congest/data_2024-05-26_12:30.json', 'crawling_congest/data_2024-05-26_13:00.json', 'crawling_congest/data_2024-05-26_13:30.json', 'crawling_congest/data_2024-05-26_14:00.json', 'crawling_congest/data_2024-05-26_14:30.json', 'crawling_congest/data_2024-05-26_15:00.json', 'crawling_congest/data_2024-05-26_15:30.json', 'crawling_congest/data_2024-05-26_16:00.json', 'crawling_congest/data_2024-05-26_16:30.json', 'crawling_congest/data_2024-05-26_17:00.json', 'crawling_congest/data_2024-05-26_17:30.json', 'crawling_congest/data_2024-05-26_18:00.json', 'crawling_congest/data_2024-05-26_18:30.json', 'crawling_congest/data_2024-05-26_19:00.json', 'crawling_congest/data_2024-05-26_19:30.json', 'crawling_congest/data_2024-05-26_20:00.json', 'crawling_congest/data_2024-05-26_20:30.json', 'crawling_congest/data_2024-05-26_21:00.json', 'crawling_congest/data_2024-05-26_21:30.json', 'crawling_congest/data_2024-05-26_22:00.json', 'crawling_congest/data_2024-05-26_22:30.json', 'crawling_congest/data_2024-05-26_23:00.json', 'crawling_congest/data_2024-05-26_23:30.json', 'crawling_congest/data_2024-05-27_00:00.json', 'crawling_congest/data_2024-05-27_00:30.json', 'crawling_congest/data_2024-05-27_01:00.json', 'crawling_congest/data_2024-05-27_01:30.json', 'crawling_congest/data_2024-05-27_02:00.json', 'crawling_congest/data_2024-05-27_02:30.json', 'crawling_congest/data_2024-05-27_03:00.json', 'crawling_congest/data_2024-05-27_03:30.json', 'crawling_congest/data_2024-05-27_04:00.json', 'crawling_congest/data_2024-05-27_04:30.json', 'crawling_congest/data_2024-05-27_05:00.json', 'crawling_congest/data_2024-05-27_05:30.json', 'crawling_congest/data_2024-05-27_06:00.json', 'crawling_congest/data_2024-05-27_06:30.json', 'crawling_congest/data_2024-05-27_07:00.json', 'crawling_congest/data_2024-05-27_07:30.json', 'crawling_congest/data_2024-05-27_08:00.json', 'crawling_congest/data_2024-05-27_08:30.json', 'crawling_congest/data_2024-05-27_09:00.json', 'crawling_congest/data_2024-05-27_09:30.json', 'crawling_congest/data_2024-05-27_10:00.json', 'crawling_congest/data_2024-05-27_10:30.json', 'crawling_congest/data_2024-05-27_11:00.json', 'crawling_congest/data_2024-05-27_11:30.json', 'crawling_congest/data_2024-05-27_12:00.json', 'crawling_congest/data_2024-05-27_12:30.json', 'crawling_congest/data_2024-05-27_13:00.json', 'crawling_congest/data_2024-05-27_13:30.json', 'crawling_congest/data_2024-05-27_14:00.json', 'crawling_congest/data_2024-05-27_14:30.json', 'crawling_congest/data_2024-05-27_15:00.json', 'crawling_congest/data_2024-05-27_15:30.json', 'crawling_congest/data_2024-05-27_16:00.json', 'crawling_congest/data_2024-05-27_16:30.json', 'crawling_congest/data_2024-05-27_17:00.json', 'crawling_congest/data_2024-05-27_17:30.json', 'crawling_congest/data_2024-05-27_18:00.json', 'crawling_congest/data_2024-05-27_18:30.json', 'crawling_congest/data_2024-05-27_19:00.json', 'crawling_congest/data_2024-05-27_19:30.json', 'crawling_congest/data_2024-05-27_20:00.json', 'crawling_congest/data_2024-05-27_20:30.json', 'crawling_congest/data_2024-05-27_21:00.json', 'crawling_congest/data_2024-05-27_21:30.json', 'crawling_congest/data_2024-05-27_22:00.json', 'crawling_congest/data_2024-05-27_22:30.json', 'crawling_congest/data_2024-05-27_23:00.json', 'crawling_congest/data_2024-05-27_23:30.json', 'crawling_congest/data_2024-05-28_00:00.json', 'crawling_congest/data_2024-05-28_00:30.json', 'crawling_congest/data_2024-05-28_01:00.json', 'crawling_congest/data_2024-05-28_01:30.json', 'crawling_congest/data_2024-05-28_02:00.json', 'crawling_congest/data_2024-05-28_02:30.json', 'crawling_congest/data_2024-05-28_03:00.json', 'crawling_congest/data_2024-05-28_03:30.json', 'crawling_congest/data_2024-05-28_04:00.json', 'crawling_congest/data_2024-05-28_04:30.json', 'crawling_congest/data_2024-05-28_05:00.json', 'crawling_congest/data_2024-05-28_05:30.json', 'crawling_congest/data_2024-05-28_06:00.json', 'crawling_congest/data_2024-05-28_06:30.json', 'crawling_congest/data_2024-05-28_07:00.json', 'crawling_congest/data_2024-05-28_07:30.json', 'crawling_congest/data_2024-05-28_08:00.json', 'crawling_congest/data_2024-05-28_08:30.json', 'crawling_congest/data_2024-05-28_09:00.json', 'crawling_congest/data_2024-05-28_09:30.json', 'crawling_congest/data_2024-05-28_10:00.json', 'crawling_congest/data_2024-05-28_10:30.json', 'crawling_congest/data_2024-05-28_11:00.json', 'crawling_congest/data_2024-05-28_11:30.json', 'crawling_congest/data_2024-05-28_12:00.json', 'crawling_congest/data_2024-05-28_12:30.json', 'crawling_congest/data_2024-05-28_13:00.json', 'crawling_congest/data_2024-05-28_13:30.json', 'crawling_congest/data_2024-05-28_14:00.json', 'crawling_congest/data_2024-05-28_14:30.json', 'crawling_congest/data_2024-05-28_15:00.json', 'crawling_congest/data_2024-05-28_15:30.json', 'crawling_congest/data_2024-05-28_16:00.json', 'crawling_congest/data_2024-05-28_16:30.json', 'crawling_congest/data_2024-05-28_17:00.json', 'crawling_congest/data_2024-05-28_17:30.json', 'crawling_congest/data_2024-05-28_18:00.json', 'crawling_congest/data_2024-05-28_18:30.json', 'crawling_congest/data_2024-05-28_19:00.json', 'crawling_congest/data_2024-05-28_19:30.json', 'crawling_congest/data_2024-05-28_20:00.json', 'crawling_congest/data_2024-05-28_20:30.json', 'crawling_congest/data_2024-05-28_21:00.json', 'crawling_congest/data_2024-05-28_21:30.json', 'crawling_congest/data_2024-05-28_22:00.json', 'crawling_congest/data_2024-05-28_22:30.json', 'crawling_congest/data_2024-05-28_23:00.json', 'crawling_congest/data_2024-05-28_23:30.json', 'crawling_congest/data_2024-05-29_00:00.json', 'crawling_congest/data_2024-05-29_00:30.json', 'crawling_congest/data_2024-05-29_01:00.json', 'crawling_congest/data_2024-05-29_01:30.json', 'crawling_congest/data_2024-05-29_02:00.json', 'crawling_congest/data_2024-05-29_02:30.json', 'crawling_congest/data_2024-05-29_03:00.json', 'crawling_congest/data_2024-05-29_03:30.json', 'crawling_congest/data_2024-05-29_04:00.json', 'crawling_congest/data_2024-05-29_04:30.json', 'crawling_congest/data_2024-05-29_05:00.json', 'crawling_congest/data_2024-05-29_05:30.json', 'crawling_congest/data_2024-05-29_06:00.json', 'crawling_congest/data_2024-05-29_06:30.json', 'crawling_congest/data_2024-05-29_07:00.json', 'crawling_congest/data_2024-05-29_07:30.json', 'crawling_congest/data_2024-05-29_08:00.json', 'crawling_congest/data_2024-05-29_08:30.json', 'crawling_congest/data_2024-05-29_09:00.json', 'crawling_congest/data_2024-05-29_09:30.json', 'crawling_congest/data_2024-05-29_10:00.json', 'crawling_congest/data_2024-05-29_10:30.json', 'crawling_congest/data_2024-05-29_11:00.json', 'crawling_congest/data_2024-05-29_11:30.json', 'crawling_congest/data_2024-05-29_12:00.json', 'crawling_congest/data_2024-05-29_12:30.json', 'crawling_congest/data_2024-05-29_13:00.json', 'crawling_congest/data_2024-05-29_13:30.json', 'crawling_congest/data_2024-05-29_14:00.json', 'crawling_congest/data_2024-05-29_14:30.json', 'crawling_congest/data_2024-05-29_15:00.json', 'crawling_congest/data_2024-05-29_15:30.json', 'crawling_congest/data_2024-05-29_16:00.json', 'crawling_congest/data_2024-05-29_16:30.json', 'crawling_congest/data_2024-05-29_17:00.json', 'crawling_congest/data_2024-05-29_17:30.json', 'crawling_congest/data_2024-05-29_18:00.json', 'crawling_congest/data_2024-05-29_18:30.json', 'crawling_congest/data_2024-05-29_19:00.json', 'crawling_congest/data_2024-05-29_19:30.json', 'crawling_congest/data_2024-05-29_20:00.json', 'crawling_congest/data_2024-05-29_20:30.json', 'crawling_congest/data_2024-05-29_21:00.json', 'crawling_congest/data_2024-05-29_21:30.json', 'crawling_congest/data_2024-05-29_22:00.json', 'crawling_congest/data_2024-05-29_22:30.json', 'crawling_congest/data_2024-05-29_23:00.json', 'crawling_congest/data_2024-05-29_23:30.json', 'crawling_congest/data_2024-05-30_00:00.json', 'crawling_congest/data_2024-05-30_00:30.json', 'crawling_congest/data_2024-05-30_01:00.json', 'crawling_congest/data_2024-05-30_01:30.json', 'crawling_congest/data_2024-05-30_02:00.json', 'crawling_congest/data_2024-05-30_02:30.json', 'crawling_congest/data_2024-05-30_03:00.json', 'crawling_congest/data_2024-05-30_03:30.json', 'crawling_congest/data_2024-05-30_04:00.json', 'crawling_congest/data_2024-05-30_04:30.json', 'crawling_congest/data_2024-05-30_05:00.json', 'crawling_congest/data_2024-05-30_05:30.json', 'crawling_congest/data_2024-05-30_06:00.json', 'crawling_congest/data_2024-05-30_06:30.json', 'crawling_congest/data_2024-05-30_07:00.json', 'crawling_congest/data_2024-05-30_07:30.json', 'crawling_congest/data_2024-05-30_08:00.json', 'crawling_congest/data_2024-05-30_08:30.json', 'crawling_congest/data_2024-05-30_09:00.json', 'crawling_congest/data_2024-05-30_09:30.json', 'crawling_congest/data_2024-05-30_10:00.json', 'crawling_congest/data_2024-05-30_10:20.json', 'crawling_congest/data_2024-05-30_10:25.json', 'crawling_congest/data_2024-05-30_12:10.json', 'crawling_congest/data_2024-05-30_12:15.json', 'crawling_congest/data_2024-05-30_13:41.json', 'crawling_congest/data_2024-05-30_14:05.json', 'crawling_congest/data_2024-05-30_15:50.json', 'crawling_congest/data_2024-05-30_16:12.json', 'crawling_congest/data_2024-05-30_17:50.json', 'crawling_congest/data_2024-05-30_18:25.json', 'crawling_congest/data_2024-05-30_19:42.json', 'crawling_congest/data_2024-05-30_20:30.json', 'crawling_congest/data_2024-05-30_21:15.json', 'crawling_congest/data_2024-05-30_21:45.json', 'crawling_congest/data_2024-05-30_23:25.json', 'crawling_congest/data_2024-05-30_23:36.json', 'crawling_congest/data_2024-05-30_23:37.json', 'crawling_congest/data_2024-05-31_01:37.json', 'crawling_congest/data_2024-05-31_01:45.json', 'crawling_congest/data_2024-05-31_02:55.json', 'crawling_congest/data_2024-05-31_03:50.json', 'crawling_congest/data_2024-05-31_04:55.json', 'crawling_congest/data_2024-05-31_05:50.json', 'crawling_congest/data_2024-05-31_07:06.json', 'crawling_congest/data_2024-05-31_07:33.json', 'crawling_congest/data_2024-05-31_08:10.json', 'crawling_congest/data_2024-05-31_09:33.json', 'crawling_congest/data_2024-05-31_10:09.json', 'crawling_congest/data_2024-05-31_11:40.json', 'crawling_congest/data_2024-05-31_11:45.json', 'crawling_congest/data_2024-05-31_13:37.json', 'crawling_congest/data_2024-05-31_13:47.json']\n"
     ]
    }
   ],
   "source": [
    "bucket_name = 'final-project-playdata'\n",
    "prefix = 'crawling_congest'\n",
    "s3 = boto3.client('s3')\n",
    "obj_data = s3.list_objects(Bucket=bucket_name, Prefix=prefix)\n",
    "contents_list = obj_data['Contents']\n",
    "object_list = []\n",
    "\n",
    "for content in contents_list :\n",
    "    file_name = content['Key']\n",
    "    if file_name.endswith(\".json\") :\n",
    "        object_list.append(file_name)\n",
    "\n",
    "print(len(object_list))\n",
    "print(object_list)"
   ]
  },
  {
   "cell_type": "markdown",
   "metadata": {},
   "source": [
    "- json file 다운로드"
   ]
  },
  {
   "cell_type": "code",
   "execution_count": null,
   "metadata": {},
   "outputs": [],
   "source": [
    "# tes\n",
    "s3 = boto3.client('s3')\n",
    "bucket_name = 'final-project-playdata'\n",
    "object_list =['crawling_congest/data_2024-05-31_11:45.json', 'crawling_congest/data_2024-05-31_13:37.json','crawling_congest/data_2024-05-31_13:47.json']\n",
    "for object_name in object_list :\n",
    "    try:\n",
    "        obj = s3.get_object(Bucket=bucket_name, Key=object_name)\n",
    "        data = obj['Body'].read().decode('uft-8')\n",
    "    except Exception as e :\n",
    "        print(f\"{object_list} error 발생: {e} \")"
   ]
  },
  {
   "cell_type": "code",
   "execution_count": 6,
   "metadata": {},
   "outputs": [],
   "source": [
    "s3 = boto3.client('s3')\n",
    "bucket_name = 'final-project-playdata'\n",
    "\n",
    "for object_name in object_list :\n",
    "    try :\n",
    "        file_name = f'data/{object_name}'\n",
    "        file_name=file_name.replace(\":\",\"_\")\n",
    "        s3.download_file(bucket_name, object_name, file_name)\n",
    "    except Exception as e:\n",
    "        print(f'{object_name} error: e')"
   ]
  },
  {
   "cell_type": "code",
   "execution_count": null,
   "metadata": {},
   "outputs": [
    {
     "name": "stdout",
     "output_type": "stream",
     "text": [
      "['data_2024-05-23_11_35.json', 'data_2024-05-23_12_00.json', 'data_2024-05-23_12_30.json', 'data_2024-05-23_13_00.json', 'data_2024-05-23_13_30.json', 'data_2024-05-23_14_00.json', 'data_2024-05-23_14_30.json', 'data_2024-05-23_15_00.json', 'data_2024-05-23_15_30.json', 'data_2024-05-23_16_00.json', 'data_2024-05-23_16_30.json', 'data_2024-05-23_17_00.json', 'data_2024-05-23_17_30.json', 'data_2024-05-23_18_00.json', 'data_2024-05-23_18_30.json', 'data_2024-05-23_19_00.json', 'data_2024-05-23_19_30.json', 'data_2024-05-23_20_00.json', 'data_2024-05-23_20_30.json', 'data_2024-05-23_21_00.json', 'data_2024-05-23_21_30.json', 'data_2024-05-23_22_00.json', 'data_2024-05-23_22_30.json', 'data_2024-05-23_23_00.json', 'data_2024-05-23_23_30.json', 'data_2024-05-24_00_00.json', 'data_2024-05-24_00_30.json', 'data_2024-05-24_01_00.json', 'data_2024-05-24_01_30.json', 'data_2024-05-24_02_00.json', 'data_2024-05-24_02_30.json', 'data_2024-05-24_03_00.json', 'data_2024-05-24_03_30.json', 'data_2024-05-24_04_00.json', 'data_2024-05-24_04_30.json', 'data_2024-05-24_05_00.json', 'data_2024-05-24_05_30.json', 'data_2024-05-24_06_00.json', 'data_2024-05-24_06_30.json', 'data_2024-05-24_07_00.json', 'data_2024-05-24_07_30.json', 'data_2024-05-24_08_00.json', 'data_2024-05-24_08_30.json', 'data_2024-05-24_09_00.json', 'data_2024-05-24_09_30.json', 'data_2024-05-24_10_00.json', 'data_2024-05-24_10_30.json', 'data_2024-05-24_11_00.json', 'data_2024-05-24_11_30.json', 'data_2024-05-24_12_00.json', 'data_2024-05-24_12_30.json', 'data_2024-05-24_13_00.json', 'data_2024-05-24_13_30.json', 'data_2024-05-24_14_00.json', 'data_2024-05-24_14_30.json', 'data_2024-05-24_15_00.json', 'data_2024-05-24_15_30.json', 'data_2024-05-24_16_00.json', 'data_2024-05-24_16_30.json', 'data_2024-05-24_17_00.json', 'data_2024-05-24_17_30.json', 'data_2024-05-24_18_00.json', 'data_2024-05-24_18_30.json', 'data_2024-05-24_19_00.json', 'data_2024-05-24_19_30.json', 'data_2024-05-24_20_00.json', 'data_2024-05-24_20_30.json', 'data_2024-05-24_21_00.json', 'data_2024-05-24_21_30.json', 'data_2024-05-24_22_00.json', 'data_2024-05-24_22_30.json', 'data_2024-05-24_23_00.json', 'data_2024-05-24_23_30.json', 'data_2024-05-25_00_00.json', 'data_2024-05-25_00_30.json', 'data_2024-05-25_01_00.json', 'data_2024-05-25_01_30.json', 'data_2024-05-25_02_00.json', 'data_2024-05-25_02_30.json', 'data_2024-05-25_03_00.json', 'data_2024-05-25_03_30.json', 'data_2024-05-25_04_00.json', 'data_2024-05-25_04_30.json', 'data_2024-05-25_05_00.json', 'data_2024-05-25_05_30.json', 'data_2024-05-25_06_00.json', 'data_2024-05-25_06_30.json', 'data_2024-05-25_07_00.json', 'data_2024-05-25_07_30.json', 'data_2024-05-25_08_00.json', 'data_2024-05-25_08_30.json', 'data_2024-05-25_09_00.json', 'data_2024-05-25_09_30.json', 'data_2024-05-25_10_00.json', 'data_2024-05-25_10_30.json', 'data_2024-05-25_11_00.json', 'data_2024-05-25_11_30.json', 'data_2024-05-25_12_00.json', 'data_2024-05-25_12_30.json', 'data_2024-05-25_13_00.json', 'data_2024-05-25_13_30.json', 'data_2024-05-25_14_00.json', 'data_2024-05-25_14_30.json', 'data_2024-05-25_15_00.json', 'data_2024-05-25_15_30.json', 'data_2024-05-25_16_00.json', 'data_2024-05-25_16_30.json', 'data_2024-05-25_17_00.json', 'data_2024-05-25_17_30.json', 'data_2024-05-25_18_00.json', 'data_2024-05-25_18_30.json', 'data_2024-05-25_19_00.json', 'data_2024-05-25_19_30.json', 'data_2024-05-25_20_00.json', 'data_2024-05-25_20_30.json', 'data_2024-05-25_21_00.json', 'data_2024-05-25_21_30.json', 'data_2024-05-25_22_00.json', 'data_2024-05-25_22_30.json', 'data_2024-05-25_23_00.json', 'data_2024-05-25_23_30.json', 'data_2024-05-26_00_00.json', 'data_2024-05-26_00_30.json', 'data_2024-05-26_01_00.json', 'data_2024-05-26_01_30.json', 'data_2024-05-26_02_00.json', 'data_2024-05-26_02_30.json', 'data_2024-05-26_03_00.json', 'data_2024-05-26_03_30.json', 'data_2024-05-26_04_00.json', 'data_2024-05-26_04_30.json', 'data_2024-05-26_05_00.json', 'data_2024-05-26_05_30.json', 'data_2024-05-26_06_00.json', 'data_2024-05-26_06_30.json', 'data_2024-05-26_07_00.json', 'data_2024-05-26_07_30.json', 'data_2024-05-26_08_00.json', 'data_2024-05-26_08_30.json', 'data_2024-05-26_09_00.json', 'data_2024-05-26_09_30.json', 'data_2024-05-26_10_00.json', 'data_2024-05-26_10_30.json', 'data_2024-05-26_11_00.json', 'data_2024-05-26_11_30.json', 'data_2024-05-26_12_00.json', 'data_2024-05-26_12_30.json', 'data_2024-05-26_13_00.json', 'data_2024-05-26_13_30.json', 'data_2024-05-26_14_00.json', 'data_2024-05-26_14_30.json', 'data_2024-05-26_15_00.json', 'data_2024-05-26_15_30.json', 'data_2024-05-26_16_00.json', 'data_2024-05-26_16_30.json', 'data_2024-05-26_17_00.json', 'data_2024-05-26_17_30.json', 'data_2024-05-26_18_00.json', 'data_2024-05-26_18_30.json', 'data_2024-05-26_19_00.json', 'data_2024-05-26_19_30.json', 'data_2024-05-26_20_00.json', 'data_2024-05-26_20_30.json', 'data_2024-05-26_21_00.json', 'data_2024-05-26_21_30.json', 'data_2024-05-26_22_00.json', 'data_2024-05-26_22_30.json', 'data_2024-05-26_23_00.json', 'data_2024-05-26_23_30.json', 'data_2024-05-27_00_00.json', 'data_2024-05-27_00_30.json', 'data_2024-05-27_01_00.json', 'data_2024-05-27_01_30.json', 'data_2024-05-27_02_00.json', 'data_2024-05-27_02_30.json', 'data_2024-05-27_03_00.json', 'data_2024-05-27_03_30.json', 'data_2024-05-27_04_00.json', 'data_2024-05-27_04_30.json', 'data_2024-05-27_05_00.json', 'data_2024-05-27_05_30.json', 'data_2024-05-27_06_00.json', 'data_2024-05-27_06_30.json', 'data_2024-05-27_07_00.json', 'data_2024-05-27_07_30.json', 'data_2024-05-27_08_00.json', 'data_2024-05-27_08_30.json', 'data_2024-05-27_09_00.json', 'data_2024-05-27_09_30.json', 'data_2024-05-27_10_00.json', 'data_2024-05-27_10_30.json', 'data_2024-05-27_11_00.json', 'data_2024-05-27_11_30.json', 'data_2024-05-27_12_00.json', 'data_2024-05-27_12_30.json', 'data_2024-05-27_13_00.json', 'data_2024-05-27_13_30.json', 'data_2024-05-27_14_00.json', 'data_2024-05-27_14_30.json', 'data_2024-05-27_15_00.json', 'data_2024-05-27_15_30.json', 'data_2024-05-27_16_00.json', 'data_2024-05-27_16_30.json', 'data_2024-05-27_17_00.json', 'data_2024-05-27_17_30.json', 'data_2024-05-27_18_00.json', 'data_2024-05-27_18_30.json', 'data_2024-05-27_19_00.json', 'data_2024-05-27_19_30.json', 'data_2024-05-27_20_00.json', 'data_2024-05-27_20_30.json', 'data_2024-05-27_21_00.json', 'data_2024-05-27_21_30.json', 'data_2024-05-27_22_00.json', 'data_2024-05-27_22_30.json', 'data_2024-05-27_23_00.json', 'data_2024-05-27_23_30.json', 'data_2024-05-28_00_00.json', 'data_2024-05-28_00_30.json', 'data_2024-05-28_01_00.json', 'data_2024-05-28_01_30.json', 'data_2024-05-28_02_00.json', 'data_2024-05-28_02_30.json', 'data_2024-05-28_03_00.json', 'data_2024-05-28_03_30.json', 'data_2024-05-28_04_00.json', 'data_2024-05-28_04_30.json', 'data_2024-05-28_05_00.json', 'data_2024-05-28_05_30.json', 'data_2024-05-28_06_00.json', 'data_2024-05-28_06_30.json', 'data_2024-05-28_07_00.json', 'data_2024-05-28_07_30.json', 'data_2024-05-28_08_00.json', 'data_2024-05-28_08_30.json', 'data_2024-05-28_09_00.json', 'data_2024-05-28_09_30.json', 'data_2024-05-28_10_00.json', 'data_2024-05-28_10_30.json', 'data_2024-05-28_11_00.json', 'data_2024-05-28_11_30.json', 'data_2024-05-28_12_00.json', 'data_2024-05-28_12_30.json', 'data_2024-05-28_13_00.json', 'data_2024-05-28_13_30.json', 'data_2024-05-28_14_00.json', 'data_2024-05-28_14_30.json', 'data_2024-05-28_15_00.json', 'data_2024-05-28_15_30.json', 'data_2024-05-28_16_00.json', 'data_2024-05-28_16_30.json', 'data_2024-05-28_17_00.json', 'data_2024-05-28_17_30.json', 'data_2024-05-28_18_00.json', 'data_2024-05-28_18_30.json', 'data_2024-05-28_19_00.json', 'data_2024-05-28_19_30.json', 'data_2024-05-28_20_00.json', 'data_2024-05-28_20_30.json', 'data_2024-05-28_21_00.json', 'data_2024-05-28_21_30.json', 'data_2024-05-28_22_00.json', 'data_2024-05-28_22_30.json', 'data_2024-05-28_23_00.json', 'data_2024-05-28_23_30.json', 'data_2024-05-29_00_00.json', 'data_2024-05-29_00_30.json', 'data_2024-05-29_01_00.json', 'data_2024-05-29_01_30.json', 'data_2024-05-29_02_00.json', 'data_2024-05-29_02_30.json', 'data_2024-05-29_03_00.json', 'data_2024-05-29_03_30.json', 'data_2024-05-29_04_00.json', 'data_2024-05-29_04_30.json', 'data_2024-05-29_05_00.json', 'data_2024-05-29_05_30.json', 'data_2024-05-29_06_00.json', 'data_2024-05-29_06_30.json', 'data_2024-05-29_07_00.json', 'data_2024-05-29_07_30.json', 'data_2024-05-29_08_00.json', 'data_2024-05-29_08_30.json', 'data_2024-05-29_09_00.json', 'data_2024-05-29_09_30.json', 'data_2024-05-29_10_00.json', 'data_2024-05-29_10_30.json', 'data_2024-05-29_11_00.json', 'data_2024-05-29_11_30.json', 'data_2024-05-29_12_00.json', 'data_2024-05-29_12_30.json', 'data_2024-05-29_13_00.json', 'data_2024-05-29_13_30.json', 'data_2024-05-29_14_00.json', 'data_2024-05-29_14_30.json', 'data_2024-05-29_15_00.json', 'data_2024-05-29_15_30.json', 'data_2024-05-29_16_00.json', 'data_2024-05-29_16_30.json', 'data_2024-05-29_17_00.json', 'data_2024-05-29_17_30.json', 'data_2024-05-29_18_00.json', 'data_2024-05-29_18_30.json', 'data_2024-05-29_19_00.json', 'data_2024-05-29_19_30.json', 'data_2024-05-29_20_00.json', 'data_2024-05-29_20_30.json', 'data_2024-05-29_21_00.json', 'data_2024-05-29_21_30.json', 'data_2024-05-29_22_00.json', 'data_2024-05-29_22_30.json', 'data_2024-05-29_23_00.json', 'data_2024-05-29_23_30.json', 'data_2024-05-30_00_00.json', 'data_2024-05-30_00_30.json', 'data_2024-05-30_01_00.json', 'data_2024-05-30_01_30.json', 'data_2024-05-30_02_00.json', 'data_2024-05-30_02_30.json', 'data_2024-05-30_03_00.json', 'data_2024-05-30_03_30.json', 'data_2024-05-30_04_00.json', 'data_2024-05-30_04_30.json', 'data_2024-05-30_05_00.json', 'data_2024-05-30_05_30.json', 'data_2024-05-30_06_00.json', 'data_2024-05-30_06_30.json', 'data_2024-05-30_07_00.json', 'data_2024-05-30_07_30.json', 'data_2024-05-30_08_00.json', 'data_2024-05-30_08_30.json', 'data_2024-05-30_09_00.json', 'data_2024-05-30_09_30.json', 'data_2024-05-30_10_00.json', 'data_2024-05-30_10_20.json', 'data_2024-05-30_10_25.json', 'data_2024-05-30_12_10.json', 'data_2024-05-30_12_15.json', 'data_2024-05-30_13_41.json', 'data_2024-05-30_14_05.json', 'data_2024-05-30_15_50.json', 'data_2024-05-30_16_12.json']\n"
     ]
    }
   ],
   "source": [
    "# 저장된 파일 리스트\n",
    "path_to_json = 'data/crawling_congest/'\n",
    "file_list = [file for file in os.listdir(path_to_json)]\n",
    "print(file_list)\n",
    "print(len(file_list))"
   ]
  },
  {
   "cell_type": "markdown",
   "metadata": {},
   "source": [
    "- concat json files"
   ]
  },
  {
   "cell_type": "code",
   "execution_count": 5,
   "metadata": {},
   "outputs": [
    {
     "name": "stdout",
     "output_type": "stream",
     "text": [
      "115\n",
      "['강남', '동대문', '명동', '이태원', '잠실', '종로', '홍대', '경복궁', '광화문', '종각', '암사동', '종묘', '가산디지털단지역', '강남역', '건대입구역', '고덕역', '고속터미널역', '교대역', '구로디지털단지역', '구로역', '군자역', '남구로역', '대림역', '동대문역', '뚝섬역', '미아사거리역', '발산역', '북한산우이역', '사당역', '삼각지역', '서울대입구역', '마곡나루역', '서울역', '선릉역', '성신여대입구역', '수유역', '신논현역', '신도림역', '신림역', '신촌·이대역', '양재역', '역삼역', '연신내역', '오목교역', '왕십리역', '용산역', '이태원역', '장지역', '장한평역', '천호역', '이수역', '충정로역', '합정역', '혜화역', '홍대입구역', '회기역', '4.19카페거리', '가락시장', '가로수길', '광장시장', '김포공항', '낙산공원', '노량진', '덕수궁길 정동길', '방배역먹자골목', '북촌한옥마을', '서촌', '성수카페거리', '수유리먹자골목', '쌍문동맛집거리', '압구정로데오거리', '여의도', '연남동', '영등포타임스퀘어', '외대앞', '용리단길', '이태원', '익선동', '창동', '청담동 명품거리', '청량리 전통시장', '해방촌', 'DDP(동대문디자인플라자)', 'DMC(디지털미디어시티)', '강서한강공원', '고척돔', '광나루한강공원', '광화문광장', '국립중앙박물관', '난지한강공원', '남산공원', '노들섬', '뚝섬한강공원', '망원한강공원', '반포한강공원', '북서울꿈의숲', '불광천', '서리풀공원', '서울광장', '서울대공원', '서울숲공원', '아차산', '양화한강공원', '어린이대공원', '여의도한강공원', '월드컵공원', '응봉산', '이촌한강공원', '잠실종합운동장', '잠실한강공원', '잠원한강공원', '청계산', '청와대', '북창동 먹자골목', '남대문시장']\n"
     ]
    }
   ],
   "source": [
    "place_data = pd.read_excel('data/서울시115장소명 목록_장소명수정_20240527.xlsx')\n",
    "location_list = []\n",
    "locations = place_data['AREA_SEARCH']\n",
    "\n",
    "for location in locations :\n",
    "    location_list.append(location)\n",
    "\n",
    "print(len(location_list))\n",
    "print(location_list)\n"
   ]
  },
  {
   "cell_type": "code",
   "execution_count": null,
   "metadata": {},
   "outputs": [],
   "source": [
    "congest_data = []\n",
    "\n",
    "for file_name in file_list :\n",
    "    try :\n",
    "        file = pd.read_json(f'data/crawling_congest/{file_name}').transpose()\n",
    "\n",
    "        try:\n",
    "            for i in range(len(location_list)):\n",
    "                area_code = file['CITYDATA'][i]['AREA_CD']\n",
    "                area_search = location_list[i]\n",
    "                area_name = file['CITYDATA'][i]['AREA_NM']\n",
    "                time = file['CITYDATA'][i]['LIVE_PPLTN_STTS'][0]['PPLTN_TIME']\n",
    "                congest_min = int(file['CITYDATA'][i]['LIVE_PPLTN_STTS'][0]['AREA_PPLTN_MIN'])\n",
    "                congest_max = int(file['CITYDATA'][i]['LIVE_PPLTN_STTS'][0]['AREA_PPLTN_MAX'])\n",
    "                congest_values = [congest_min, congest_max]\n",
    "                congest_median = int(statistics.median(congest_values))\n",
    "                congest_data.append({\n",
    "                    \"area_code\":area_code,\n",
    "                    \"area_name\":area_name,\n",
    "                    \"area_search\":area_search,\n",
    "                    \"measurement_time\" : time,\n",
    "                    \"congest_median\" : congest_median,\n",
    "                    \"congest_min\":congest_min,\n",
    "                    \"congest_max\":congest_max\n",
    "                })\n",
    "        except Exception as e :\n",
    "                area_code = None\n",
    "                area_name = None\n",
    "                area_search = location_list[i]\n",
    "                time = None\n",
    "                congest_min = None\n",
    "                congest_max = None\n",
    "                congest_values = None\n",
    "                congest_median = None\n",
    "                congest_data.append({\n",
    "                    \"area_code\":area_code,\n",
    "                    \"area_name\":area_name,\n",
    "                    \"area_search\":area_search,\n",
    "                    \"measurement_time\" : time,\n",
    "                    \"congest_median\" : congest_median,\n",
    "                    \"congest_min\":congest_min,\n",
    "                    \"congest_max\":congest_max\n",
    "                })\n",
    "                print(f\"{i}번째 오류 : {e}\")\n",
    "\n",
    "    except Exception as e :\n",
    "        print(f\"{file_name} 에러 발생: {e}\")"
   ]
  },
  {
   "cell_type": "code",
   "execution_count": 14,
   "metadata": {},
   "outputs": [
    {
     "data": {
      "text/html": [
       "<div>\n",
       "<style scoped>\n",
       "    .dataframe tbody tr th:only-of-type {\n",
       "        vertical-align: middle;\n",
       "    }\n",
       "\n",
       "    .dataframe tbody tr th {\n",
       "        vertical-align: top;\n",
       "    }\n",
       "\n",
       "    .dataframe thead th {\n",
       "        text-align: right;\n",
       "    }\n",
       "</style>\n",
       "<table border=\"1\" class=\"dataframe\">\n",
       "  <thead>\n",
       "    <tr style=\"text-align: right;\">\n",
       "      <th></th>\n",
       "      <th>area_code</th>\n",
       "      <th>area_name</th>\n",
       "      <th>area_search</th>\n",
       "      <th>measurement_time</th>\n",
       "      <th>congest_median</th>\n",
       "      <th>congest_min</th>\n",
       "      <th>congest_max</th>\n",
       "    </tr>\n",
       "  </thead>\n",
       "  <tbody>\n",
       "    <tr>\n",
       "      <th>0</th>\n",
       "      <td>POI001</td>\n",
       "      <td>강남 MICE 관광특구</td>\n",
       "      <td>강남</td>\n",
       "      <td>2024-05-23 10:55</td>\n",
       "      <td>25000.0</td>\n",
       "      <td>24000.0</td>\n",
       "      <td>26000.0</td>\n",
       "    </tr>\n",
       "    <tr>\n",
       "      <th>1</th>\n",
       "      <td>POI002</td>\n",
       "      <td>동대문 관광특구</td>\n",
       "      <td>동대문</td>\n",
       "      <td>2024-05-23 10:55</td>\n",
       "      <td>29000.0</td>\n",
       "      <td>28000.0</td>\n",
       "      <td>30000.0</td>\n",
       "    </tr>\n",
       "    <tr>\n",
       "      <th>2</th>\n",
       "      <td>None</td>\n",
       "      <td>None</td>\n",
       "      <td>명동</td>\n",
       "      <td>None</td>\n",
       "      <td>NaN</td>\n",
       "      <td>NaN</td>\n",
       "      <td>NaN</td>\n",
       "    </tr>\n",
       "    <tr>\n",
       "      <th>3</th>\n",
       "      <td>POI001</td>\n",
       "      <td>강남 MICE 관광특구</td>\n",
       "      <td>강남</td>\n",
       "      <td>2024-05-23 11:00</td>\n",
       "      <td>27000.0</td>\n",
       "      <td>26000.0</td>\n",
       "      <td>28000.0</td>\n",
       "    </tr>\n",
       "    <tr>\n",
       "      <th>4</th>\n",
       "      <td>POI002</td>\n",
       "      <td>동대문 관광특구</td>\n",
       "      <td>동대문</td>\n",
       "      <td>2024-05-23 11:00</td>\n",
       "      <td>29000.0</td>\n",
       "      <td>28000.0</td>\n",
       "      <td>30000.0</td>\n",
       "    </tr>\n",
       "    <tr>\n",
       "      <th>...</th>\n",
       "      <td>...</td>\n",
       "      <td>...</td>\n",
       "      <td>...</td>\n",
       "      <td>...</td>\n",
       "      <td>...</td>\n",
       "      <td>...</td>\n",
       "      <td>...</td>\n",
       "    </tr>\n",
       "    <tr>\n",
       "      <th>38464</th>\n",
       "      <td>POI111</td>\n",
       "      <td>잠원한강공원</td>\n",
       "      <td>잠원한강공원</td>\n",
       "      <td>2024-05-30 17:45</td>\n",
       "      <td>2250.0</td>\n",
       "      <td>2000.0</td>\n",
       "      <td>2500.0</td>\n",
       "    </tr>\n",
       "    <tr>\n",
       "      <th>38465</th>\n",
       "      <td>POI112</td>\n",
       "      <td>청계산</td>\n",
       "      <td>청계산</td>\n",
       "      <td>2024-05-30 17:45</td>\n",
       "      <td>1750.0</td>\n",
       "      <td>1500.0</td>\n",
       "      <td>2000.0</td>\n",
       "    </tr>\n",
       "    <tr>\n",
       "      <th>38466</th>\n",
       "      <td>POI113</td>\n",
       "      <td>청와대</td>\n",
       "      <td>청와대</td>\n",
       "      <td>2024-05-30 17:45</td>\n",
       "      <td>250.0</td>\n",
       "      <td>200.0</td>\n",
       "      <td>300.0</td>\n",
       "    </tr>\n",
       "    <tr>\n",
       "      <th>38467</th>\n",
       "      <td>POI114</td>\n",
       "      <td>북창동 먹자골목</td>\n",
       "      <td>북창동 먹자골목</td>\n",
       "      <td>2024-05-30 17:45</td>\n",
       "      <td>8250.0</td>\n",
       "      <td>8000.0</td>\n",
       "      <td>8500.0</td>\n",
       "    </tr>\n",
       "    <tr>\n",
       "      <th>38468</th>\n",
       "      <td>POI115</td>\n",
       "      <td>남대문시장</td>\n",
       "      <td>남대문시장</td>\n",
       "      <td>2024-05-30 17:45</td>\n",
       "      <td>9750.0</td>\n",
       "      <td>9500.0</td>\n",
       "      <td>10000.0</td>\n",
       "    </tr>\n",
       "  </tbody>\n",
       "</table>\n",
       "<p>38469 rows × 7 columns</p>\n",
       "</div>"
      ],
      "text/plain": [
       "      area_code     area_name area_search  measurement_time  congest_median  \\\n",
       "0        POI001  강남 MICE 관광특구          강남  2024-05-23 10:55         25000.0   \n",
       "1        POI002      동대문 관광특구         동대문  2024-05-23 10:55         29000.0   \n",
       "2          None          None          명동              None             NaN   \n",
       "3        POI001  강남 MICE 관광특구          강남  2024-05-23 11:00         27000.0   \n",
       "4        POI002      동대문 관광특구         동대문  2024-05-23 11:00         29000.0   \n",
       "...         ...           ...         ...               ...             ...   \n",
       "38464    POI111        잠원한강공원      잠원한강공원  2024-05-30 17:45          2250.0   \n",
       "38465    POI112           청계산         청계산  2024-05-30 17:45          1750.0   \n",
       "38466    POI113           청와대         청와대  2024-05-30 17:45           250.0   \n",
       "38467    POI114      북창동 먹자골목    북창동 먹자골목  2024-05-30 17:45          8250.0   \n",
       "38468    POI115         남대문시장       남대문시장  2024-05-30 17:45          9750.0   \n",
       "\n",
       "       congest_min  congest_max  \n",
       "0          24000.0      26000.0  \n",
       "1          28000.0      30000.0  \n",
       "2              NaN          NaN  \n",
       "3          26000.0      28000.0  \n",
       "4          28000.0      30000.0  \n",
       "...            ...          ...  \n",
       "38464       2000.0       2500.0  \n",
       "38465       1500.0       2000.0  \n",
       "38466        200.0        300.0  \n",
       "38467       8000.0       8500.0  \n",
       "38468       9500.0      10000.0  \n",
       "\n",
       "[38469 rows x 7 columns]"
      ]
     },
     "execution_count": 14,
     "metadata": {},
     "output_type": "execute_result"
    }
   ],
   "source": [
    "data = pd.DataFrame(congest_data)\n",
    "data"
   ]
  },
  {
   "cell_type": "code",
   "execution_count": 15,
   "metadata": {},
   "outputs": [],
   "source": [
    "data.to_csv('data/merged_congest_data/merged_data.csv', index=False)"
   ]
  },
  {
   "cell_type": "code",
   "execution_count": null,
   "metadata": {},
   "outputs": [],
   "source": []
  }
 ],
 "metadata": {
  "kernelspec": {
   "display_name": ".venv",
   "language": "python",
   "name": "python3"
  },
  "language_info": {
   "codemirror_mode": {
    "name": "ipython",
    "version": 3
   },
   "file_extension": ".py",
   "mimetype": "text/x-python",
   "name": "python",
   "nbconvert_exporter": "python",
   "pygments_lexer": "ipython3",
   "version": "3.12.3"
  }
 },
 "nbformat": 4,
 "nbformat_minor": 2
}
