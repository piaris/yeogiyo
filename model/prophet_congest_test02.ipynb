{
 "cells": [
  {
   "cell_type": "code",
   "execution_count": 2,
   "metadata": {},
   "outputs": [
    {
     "name": "stderr",
     "output_type": "stream",
     "text": [
      "c:\\Users\\20061\\OneDrive\\바탕 화면\\model-test\\.venv\\Lib\\site-packages\\tqdm\\auto.py:21: TqdmWarning: IProgress not found. Please update jupyter and ipywidgets. See https://ipywidgets.readthedocs.io/en/stable/user_install.html\n",
      "  from .autonotebook import tqdm as notebook_tqdm\n"
     ]
    }
   ],
   "source": [
    "import pandas as pd\n",
    "from glob import glob\n",
    "\n",
    "from prophet import Prophet\n",
    "from datetime import datetime, timedelta\n",
    "from prophet.diagnostics import cross_validation\n",
    "from prophet.plot import plot_cross_validation_metric\n",
    "from prophet.diagnostics import performance_metrics\n",
    "import matplotlib.pyplot as plt"
   ]
  },
  {
   "cell_type": "code",
   "execution_count": 3,
   "metadata": {},
   "outputs": [],
   "source": [
    "global file_name\n",
    "file_name ='data/merged_congest_data/test_merged_data.csv'"
   ]
  },
  {
   "cell_type": "code",
   "execution_count": 4,
   "metadata": {},
   "outputs": [],
   "source": [
    "# data set 불러오기\n",
    "def get_total_data(file_name):\n",
    "    df_temp = pd.read_csv(file_name)\n",
    "    df_temp = df_temp.iloc[:,[2,3,4]]\n",
    "    df_temp.sort_values('area_search',axis=0,ascending=True,inplace=True)\n",
    "    df_temp.reset_index(drop=True, inplace=True)\n",
    "    return df_temp"
   ]
  },
  {
   "cell_type": "code",
   "execution_count": 5,
   "metadata": {},
   "outputs": [],
   "source": [
    "def get_location_data(location):\n",
    "    df = get_total_data(file_name)\n",
    "    df_result = df[df['area_search']== location]\n",
    "    df_result.sort_values('measurement_time', axis=0, ascending=True, inplace=True)\n",
    "    df_result.reset_index(drop=True, inplace=True)\n",
    "    return df_result"
   ]
  },
  {
   "cell_type": "code",
   "execution_count": 6,
   "metadata": {},
   "outputs": [],
   "source": [
    "# 장소 리스트 가져오기\n",
    "def get_location_lsit():\n",
    "    place_data = pd.read_excel('data/서울시115장소명 목록_장소명수정_20240527.xlsx')\n",
    "    location_list = []\n",
    "    locations = place_data['AREA_SEARCH']\n",
    "\n",
    "    for location in locations :\n",
    "        location_list.append(location)\n",
    "\n",
    "    return location_list"
   ]
  },
  {
   "cell_type": "markdown",
   "metadata": {},
   "source": [
    "## test"
   ]
  },
  {
   "cell_type": "code",
   "execution_count": 45,
   "metadata": {},
   "outputs": [
    {
     "name": "stderr",
     "output_type": "stream",
     "text": [
      "C:\\Users\\20061\\AppData\\Local\\Temp\\ipykernel_27728\\11390676.py:4: SettingWithCopyWarning: \n",
      "A value is trying to be set on a copy of a slice from a DataFrame\n",
      "\n",
      "See the caveats in the documentation: https://pandas.pydata.org/pandas-docs/stable/user_guide/indexing.html#returning-a-view-versus-a-copy\n",
      "  df_result.sort_values('measurement_time', axis=0, ascending=True, inplace=True)\n"
     ]
    },
    {
     "data": {
      "text/html": [
       "<div>\n",
       "<style scoped>\n",
       "    .dataframe tbody tr th:only-of-type {\n",
       "        vertical-align: middle;\n",
       "    }\n",
       "\n",
       "    .dataframe tbody tr th {\n",
       "        vertical-align: top;\n",
       "    }\n",
       "\n",
       "    .dataframe thead th {\n",
       "        text-align: right;\n",
       "    }\n",
       "</style>\n",
       "<table border=\"1\" class=\"dataframe\">\n",
       "  <thead>\n",
       "    <tr style=\"text-align: right;\">\n",
       "      <th></th>\n",
       "      <th>area_search</th>\n",
       "      <th>measurement_time</th>\n",
       "      <th>congest_median</th>\n",
       "    </tr>\n",
       "  </thead>\n",
       "  <tbody>\n",
       "    <tr>\n",
       "      <th>0</th>\n",
       "      <td>가산디지털단지역</td>\n",
       "      <td>2024-05-26 23:35</td>\n",
       "      <td>8250.0</td>\n",
       "    </tr>\n",
       "    <tr>\n",
       "      <th>1</th>\n",
       "      <td>가산디지털단지역</td>\n",
       "      <td>2024-05-27 00:05</td>\n",
       "      <td>7750.0</td>\n",
       "    </tr>\n",
       "    <tr>\n",
       "      <th>2</th>\n",
       "      <td>가산디지털단지역</td>\n",
       "      <td>2024-05-27 00:35</td>\n",
       "      <td>7250.0</td>\n",
       "    </tr>\n",
       "    <tr>\n",
       "      <th>3</th>\n",
       "      <td>가산디지털단지역</td>\n",
       "      <td>2024-05-27 01:05</td>\n",
       "      <td>6750.0</td>\n",
       "    </tr>\n",
       "    <tr>\n",
       "      <th>4</th>\n",
       "      <td>가산디지털단지역</td>\n",
       "      <td>2024-05-27 01:35</td>\n",
       "      <td>6750.0</td>\n",
       "    </tr>\n",
       "    <tr>\n",
       "      <th>...</th>\n",
       "      <td>...</td>\n",
       "      <td>...</td>\n",
       "      <td>...</td>\n",
       "    </tr>\n",
       "    <tr>\n",
       "      <th>74</th>\n",
       "      <td>가산디지털단지역</td>\n",
       "      <td>2024-05-28 13:05</td>\n",
       "      <td>53000.0</td>\n",
       "    </tr>\n",
       "    <tr>\n",
       "      <th>75</th>\n",
       "      <td>가산디지털단지역</td>\n",
       "      <td>2024-05-28 13:35</td>\n",
       "      <td>49000.0</td>\n",
       "    </tr>\n",
       "    <tr>\n",
       "      <th>76</th>\n",
       "      <td>가산디지털단지역</td>\n",
       "      <td>2024-05-28 14:05</td>\n",
       "      <td>49000.0</td>\n",
       "    </tr>\n",
       "    <tr>\n",
       "      <th>77</th>\n",
       "      <td>가산디지털단지역</td>\n",
       "      <td>2024-05-28 14:35</td>\n",
       "      <td>47000.0</td>\n",
       "    </tr>\n",
       "    <tr>\n",
       "      <th>78</th>\n",
       "      <td>가산디지털단지역</td>\n",
       "      <td>2024-05-28 15:05</td>\n",
       "      <td>47000.0</td>\n",
       "    </tr>\n",
       "  </tbody>\n",
       "</table>\n",
       "<p>79 rows × 3 columns</p>\n",
       "</div>"
      ],
      "text/plain": [
       "   area_search  measurement_time  congest_median\n",
       "0     가산디지털단지역  2024-05-26 23:35          8250.0\n",
       "1     가산디지털단지역  2024-05-27 00:05          7750.0\n",
       "2     가산디지털단지역  2024-05-27 00:35          7250.0\n",
       "3     가산디지털단지역  2024-05-27 01:05          6750.0\n",
       "4     가산디지털단지역  2024-05-27 01:35          6750.0\n",
       "..         ...               ...             ...\n",
       "74    가산디지털단지역  2024-05-28 13:05         53000.0\n",
       "75    가산디지털단지역  2024-05-28 13:35         49000.0\n",
       "76    가산디지털단지역  2024-05-28 14:05         49000.0\n",
       "77    가산디지털단지역  2024-05-28 14:35         47000.0\n",
       "78    가산디지털단지역  2024-05-28 15:05         47000.0\n",
       "\n",
       "[79 rows x 3 columns]"
      ]
     },
     "execution_count": 45,
     "metadata": {},
     "output_type": "execute_result"
    }
   ],
   "source": [
    "# test 확인\n",
    "df = get_location_data(\"가산디지털단지역\")\n",
    "df"
   ]
  },
  {
   "cell_type": "code",
   "execution_count": 46,
   "metadata": {},
   "outputs": [],
   "source": [
    "df.rename(columns={'measurement_time':'ds', 'congest_median':'y'}, inplace=True)"
   ]
  },
  {
   "cell_type": "code",
   "execution_count": 47,
   "metadata": {},
   "outputs": [
    {
     "data": {
      "text/html": [
       "<div>\n",
       "<style scoped>\n",
       "    .dataframe tbody tr th:only-of-type {\n",
       "        vertical-align: middle;\n",
       "    }\n",
       "\n",
       "    .dataframe tbody tr th {\n",
       "        vertical-align: top;\n",
       "    }\n",
       "\n",
       "    .dataframe thead th {\n",
       "        text-align: right;\n",
       "    }\n",
       "</style>\n",
       "<table border=\"1\" class=\"dataframe\">\n",
       "  <thead>\n",
       "    <tr style=\"text-align: right;\">\n",
       "      <th></th>\n",
       "      <th>area_search</th>\n",
       "      <th>ds</th>\n",
       "      <th>y</th>\n",
       "    </tr>\n",
       "  </thead>\n",
       "  <tbody>\n",
       "    <tr>\n",
       "      <th>0</th>\n",
       "      <td>가산디지털단지역</td>\n",
       "      <td>2024-05-26 23:35</td>\n",
       "      <td>8250.0</td>\n",
       "    </tr>\n",
       "    <tr>\n",
       "      <th>1</th>\n",
       "      <td>가산디지털단지역</td>\n",
       "      <td>2024-05-27 00:05</td>\n",
       "      <td>7750.0</td>\n",
       "    </tr>\n",
       "    <tr>\n",
       "      <th>2</th>\n",
       "      <td>가산디지털단지역</td>\n",
       "      <td>2024-05-27 00:35</td>\n",
       "      <td>7250.0</td>\n",
       "    </tr>\n",
       "    <tr>\n",
       "      <th>3</th>\n",
       "      <td>가산디지털단지역</td>\n",
       "      <td>2024-05-27 01:05</td>\n",
       "      <td>6750.0</td>\n",
       "    </tr>\n",
       "    <tr>\n",
       "      <th>4</th>\n",
       "      <td>가산디지털단지역</td>\n",
       "      <td>2024-05-27 01:35</td>\n",
       "      <td>6750.0</td>\n",
       "    </tr>\n",
       "    <tr>\n",
       "      <th>...</th>\n",
       "      <td>...</td>\n",
       "      <td>...</td>\n",
       "      <td>...</td>\n",
       "    </tr>\n",
       "    <tr>\n",
       "      <th>74</th>\n",
       "      <td>가산디지털단지역</td>\n",
       "      <td>2024-05-28 13:05</td>\n",
       "      <td>53000.0</td>\n",
       "    </tr>\n",
       "    <tr>\n",
       "      <th>75</th>\n",
       "      <td>가산디지털단지역</td>\n",
       "      <td>2024-05-28 13:35</td>\n",
       "      <td>49000.0</td>\n",
       "    </tr>\n",
       "    <tr>\n",
       "      <th>76</th>\n",
       "      <td>가산디지털단지역</td>\n",
       "      <td>2024-05-28 14:05</td>\n",
       "      <td>49000.0</td>\n",
       "    </tr>\n",
       "    <tr>\n",
       "      <th>77</th>\n",
       "      <td>가산디지털단지역</td>\n",
       "      <td>2024-05-28 14:35</td>\n",
       "      <td>47000.0</td>\n",
       "    </tr>\n",
       "    <tr>\n",
       "      <th>78</th>\n",
       "      <td>가산디지털단지역</td>\n",
       "      <td>2024-05-28 15:05</td>\n",
       "      <td>47000.0</td>\n",
       "    </tr>\n",
       "  </tbody>\n",
       "</table>\n",
       "<p>79 rows × 3 columns</p>\n",
       "</div>"
      ],
      "text/plain": [
       "   area_search                ds        y\n",
       "0     가산디지털단지역  2024-05-26 23:35   8250.0\n",
       "1     가산디지털단지역  2024-05-27 00:05   7750.0\n",
       "2     가산디지털단지역  2024-05-27 00:35   7250.0\n",
       "3     가산디지털단지역  2024-05-27 01:05   6750.0\n",
       "4     가산디지털단지역  2024-05-27 01:35   6750.0\n",
       "..         ...               ...      ...\n",
       "74    가산디지털단지역  2024-05-28 13:05  53000.0\n",
       "75    가산디지털단지역  2024-05-28 13:35  49000.0\n",
       "76    가산디지털단지역  2024-05-28 14:05  49000.0\n",
       "77    가산디지털단지역  2024-05-28 14:35  47000.0\n",
       "78    가산디지털단지역  2024-05-28 15:05  47000.0\n",
       "\n",
       "[79 rows x 3 columns]"
      ]
     },
     "execution_count": 47,
     "metadata": {},
     "output_type": "execute_result"
    }
   ],
   "source": [
    "df"
   ]
  },
  {
   "cell_type": "code",
   "execution_count": 48,
   "metadata": {},
   "outputs": [
    {
     "name": "stderr",
     "output_type": "stream",
     "text": [
      "16:19:55 - cmdstanpy - INFO - Chain [1] start processing\n",
      "16:19:57 - cmdstanpy - INFO - Chain [1] done processing\n"
     ]
    },
    {
     "data": {
      "text/plain": [
       "<prophet.forecaster.Prophet at 0x259c6dbcf80>"
      ]
     },
     "execution_count": 48,
     "metadata": {},
     "output_type": "execute_result"
    }
   ],
   "source": [
    "m = Prophet()\n",
    "m.fit(df)"
   ]
  },
  {
   "cell_type": "code",
   "execution_count": 49,
   "metadata": {},
   "outputs": [
    {
     "name": "stderr",
     "output_type": "stream",
     "text": [
      "c:\\Users\\20061\\OneDrive\\바탕 화면\\model-test\\.venv\\Lib\\site-packages\\prophet\\forecaster.py:1854: FutureWarning: 'H' is deprecated and will be removed in a future version, please use 'h' instead.\n",
      "  dates = pd.date_range(\n"
     ]
    },
    {
     "data": {
      "text/html": [
       "<div>\n",
       "<style scoped>\n",
       "    .dataframe tbody tr th:only-of-type {\n",
       "        vertical-align: middle;\n",
       "    }\n",
       "\n",
       "    .dataframe tbody tr th {\n",
       "        vertical-align: top;\n",
       "    }\n",
       "\n",
       "    .dataframe thead th {\n",
       "        text-align: right;\n",
       "    }\n",
       "</style>\n",
       "<table border=\"1\" class=\"dataframe\">\n",
       "  <thead>\n",
       "    <tr style=\"text-align: right;\">\n",
       "      <th></th>\n",
       "      <th>ds</th>\n",
       "    </tr>\n",
       "  </thead>\n",
       "  <tbody>\n",
       "    <tr>\n",
       "      <th>0</th>\n",
       "      <td>2024-05-26 23:35:00</td>\n",
       "    </tr>\n",
       "    <tr>\n",
       "      <th>1</th>\n",
       "      <td>2024-05-27 00:05:00</td>\n",
       "    </tr>\n",
       "    <tr>\n",
       "      <th>2</th>\n",
       "      <td>2024-05-27 00:35:00</td>\n",
       "    </tr>\n",
       "    <tr>\n",
       "      <th>3</th>\n",
       "      <td>2024-05-27 01:05:00</td>\n",
       "    </tr>\n",
       "    <tr>\n",
       "      <th>4</th>\n",
       "      <td>2024-05-27 01:35:00</td>\n",
       "    </tr>\n",
       "    <tr>\n",
       "      <th>...</th>\n",
       "      <td>...</td>\n",
       "    </tr>\n",
       "    <tr>\n",
       "      <th>98</th>\n",
       "      <td>2024-05-29 11:05:00</td>\n",
       "    </tr>\n",
       "    <tr>\n",
       "      <th>99</th>\n",
       "      <td>2024-05-29 12:05:00</td>\n",
       "    </tr>\n",
       "    <tr>\n",
       "      <th>100</th>\n",
       "      <td>2024-05-29 13:05:00</td>\n",
       "    </tr>\n",
       "    <tr>\n",
       "      <th>101</th>\n",
       "      <td>2024-05-29 14:05:00</td>\n",
       "    </tr>\n",
       "    <tr>\n",
       "      <th>102</th>\n",
       "      <td>2024-05-29 15:05:00</td>\n",
       "    </tr>\n",
       "  </tbody>\n",
       "</table>\n",
       "<p>103 rows × 1 columns</p>\n",
       "</div>"
      ],
      "text/plain": [
       "                     ds\n",
       "0   2024-05-26 23:35:00\n",
       "1   2024-05-27 00:05:00\n",
       "2   2024-05-27 00:35:00\n",
       "3   2024-05-27 01:05:00\n",
       "4   2024-05-27 01:35:00\n",
       "..                  ...\n",
       "98  2024-05-29 11:05:00\n",
       "99  2024-05-29 12:05:00\n",
       "100 2024-05-29 13:05:00\n",
       "101 2024-05-29 14:05:00\n",
       "102 2024-05-29 15:05:00\n",
       "\n",
       "[103 rows x 1 columns]"
      ]
     },
     "execution_count": 49,
     "metadata": {},
     "output_type": "execute_result"
    }
   ],
   "source": [
    "future_hours = m.make_future_dataframe(periods=24, freq='H')\n",
    "future_hours"
   ]
  },
  {
   "cell_type": "code",
   "execution_count": 50,
   "metadata": {},
   "outputs": [
    {
     "data": {
      "text/html": [
       "<div>\n",
       "<style scoped>\n",
       "    .dataframe tbody tr th:only-of-type {\n",
       "        vertical-align: middle;\n",
       "    }\n",
       "\n",
       "    .dataframe tbody tr th {\n",
       "        vertical-align: top;\n",
       "    }\n",
       "\n",
       "    .dataframe thead th {\n",
       "        text-align: right;\n",
       "    }\n",
       "</style>\n",
       "<table border=\"1\" class=\"dataframe\">\n",
       "  <thead>\n",
       "    <tr style=\"text-align: right;\">\n",
       "      <th></th>\n",
       "      <th>ds</th>\n",
       "      <th>yhat</th>\n",
       "      <th>yhat_lower</th>\n",
       "      <th>yhat_upper</th>\n",
       "    </tr>\n",
       "  </thead>\n",
       "  <tbody>\n",
       "    <tr>\n",
       "      <th>0</th>\n",
       "      <td>2024-05-26 23:35:00</td>\n",
       "      <td>19391.515000</td>\n",
       "      <td>-4091.615625</td>\n",
       "      <td>43417.979252</td>\n",
       "    </tr>\n",
       "    <tr>\n",
       "      <th>1</th>\n",
       "      <td>2024-05-27 00:05:00</td>\n",
       "      <td>19611.838038</td>\n",
       "      <td>-4238.245588</td>\n",
       "      <td>42734.468848</td>\n",
       "    </tr>\n",
       "    <tr>\n",
       "      <th>2</th>\n",
       "      <td>2024-05-27 00:35:00</td>\n",
       "      <td>19832.161076</td>\n",
       "      <td>-4998.277812</td>\n",
       "      <td>41534.453424</td>\n",
       "    </tr>\n",
       "    <tr>\n",
       "      <th>3</th>\n",
       "      <td>2024-05-27 01:05:00</td>\n",
       "      <td>20052.484114</td>\n",
       "      <td>-3102.668756</td>\n",
       "      <td>43528.054165</td>\n",
       "    </tr>\n",
       "    <tr>\n",
       "      <th>4</th>\n",
       "      <td>2024-05-27 01:35:00</td>\n",
       "      <td>20272.807152</td>\n",
       "      <td>-4344.783414</td>\n",
       "      <td>42930.766022</td>\n",
       "    </tr>\n",
       "    <tr>\n",
       "      <th>...</th>\n",
       "      <td>...</td>\n",
       "      <td>...</td>\n",
       "      <td>...</td>\n",
       "      <td>...</td>\n",
       "    </tr>\n",
       "    <tr>\n",
       "      <th>98</th>\n",
       "      <td>2024-05-29 11:05:00</td>\n",
       "      <td>45609.956489</td>\n",
       "      <td>22647.432609</td>\n",
       "      <td>69453.087402</td>\n",
       "    </tr>\n",
       "    <tr>\n",
       "      <th>99</th>\n",
       "      <td>2024-05-29 12:05:00</td>\n",
       "      <td>46050.602564</td>\n",
       "      <td>23690.729642</td>\n",
       "      <td>70489.880123</td>\n",
       "    </tr>\n",
       "    <tr>\n",
       "      <th>100</th>\n",
       "      <td>2024-05-29 13:05:00</td>\n",
       "      <td>46491.248640</td>\n",
       "      <td>21924.118082</td>\n",
       "      <td>69208.071747</td>\n",
       "    </tr>\n",
       "    <tr>\n",
       "      <th>101</th>\n",
       "      <td>2024-05-29 14:05:00</td>\n",
       "      <td>46931.894715</td>\n",
       "      <td>22746.998079</td>\n",
       "      <td>71409.858662</td>\n",
       "    </tr>\n",
       "    <tr>\n",
       "      <th>102</th>\n",
       "      <td>2024-05-29 15:05:00</td>\n",
       "      <td>47372.540791</td>\n",
       "      <td>22931.330792</td>\n",
       "      <td>70893.392021</td>\n",
       "    </tr>\n",
       "  </tbody>\n",
       "</table>\n",
       "<p>103 rows × 4 columns</p>\n",
       "</div>"
      ],
      "text/plain": [
       "                     ds          yhat    yhat_lower    yhat_upper\n",
       "0   2024-05-26 23:35:00  19391.515000  -4091.615625  43417.979252\n",
       "1   2024-05-27 00:05:00  19611.838038  -4238.245588  42734.468848\n",
       "2   2024-05-27 00:35:00  19832.161076  -4998.277812  41534.453424\n",
       "3   2024-05-27 01:05:00  20052.484114  -3102.668756  43528.054165\n",
       "4   2024-05-27 01:35:00  20272.807152  -4344.783414  42930.766022\n",
       "..                  ...           ...           ...           ...\n",
       "98  2024-05-29 11:05:00  45609.956489  22647.432609  69453.087402\n",
       "99  2024-05-29 12:05:00  46050.602564  23690.729642  70489.880123\n",
       "100 2024-05-29 13:05:00  46491.248640  21924.118082  69208.071747\n",
       "101 2024-05-29 14:05:00  46931.894715  22746.998079  71409.858662\n",
       "102 2024-05-29 15:05:00  47372.540791  22931.330792  70893.392021\n",
       "\n",
       "[103 rows x 4 columns]"
      ]
     },
     "execution_count": 50,
     "metadata": {},
     "output_type": "execute_result"
    }
   ],
   "source": [
    "forecast = m.predict(future_hours)\n",
    "forecast[['ds', 'yhat', 'yhat_lower', 'yhat_upper']]"
   ]
  },
  {
   "cell_type": "code",
   "execution_count": 51,
   "metadata": {},
   "outputs": [
    {
     "name": "stderr",
     "output_type": "stream",
     "text": [
      "c:\\Users\\20061\\OneDrive\\바탕 화면\\model-test\\.venv\\Lib\\site-packages\\prophet\\plot.py:72: FutureWarning: The behavior of DatetimeProperties.to_pydatetime is deprecated, in a future version this will return a Series containing python datetime objects instead of an ndarray. To retain the old behavior, call `np.array` on the result\n",
      "  fcst_t = fcst['ds'].dt.to_pydatetime()\n",
      "c:\\Users\\20061\\OneDrive\\바탕 화면\\model-test\\.venv\\Lib\\site-packages\\prophet\\plot.py:73: FutureWarning: The behavior of DatetimeProperties.to_pydatetime is deprecated, in a future version this will return a Series containing python datetime objects instead of an ndarray. To retain the old behavior, call `np.array` on the result\n",
      "  ax.plot(m.history['ds'].dt.to_pydatetime(), m.history['y'], 'k.',\n"
     ]
    },
    {
     "data": {
      "image/png": "[encoded data removed]",
      "text/plain": [
       "<Figure size 1000x600 with 1 Axes>"
      ]
     },
     "metadata": {},
     "output_type": "display_data"
    }
   ],
   "source": [
    "fig1 = m.plot(forecast)"
   ]
  },
  {
   "cell_type": "code",
   "execution_count": 53,
   "metadata": {},
   "outputs": [
    {
     "data": {
      "image/png": "[encoded data removed]",
      "text/plain": [
       "<Figure size 900x300 with 1 Axes>"
      ]
     },
     "metadata": {},
     "output_type": "display_data"
    }
   ],
   "source": [
    "fig2 = m.plot_components(forecast)"
   ]
  },
  {
   "cell_type": "code",
   "execution_count": null,
   "metadata": {},
   "outputs": [],
   "source": []
  },
  {
   "cell_type": "code",
   "execution_count": null,
   "metadata": {},
   "outputs": [],
   "source": []
  },
  {
   "cell_type": "markdown",
   "metadata": {},
   "source": [
    "## overfitting 발생시키기"
   ]
  },
  {
   "cell_type": "code",
   "execution_count": 54,
   "metadata": {},
   "outputs": [
    {
     "name": "stderr",
     "output_type": "stream",
     "text": [
      "16:20:12 - cmdstanpy - INFO - Chain [1] start processing\n",
      "16:20:14 - cmdstanpy - INFO - Chain [1] done processing\n"
     ]
    },
    {
     "data": {
      "text/plain": [
       "<prophet.forecaster.Prophet at 0x259cb28aab0>"
      ]
     },
     "execution_count": 54,
     "metadata": {},
     "output_type": "execute_result"
    }
   ],
   "source": [
    "m = Prophet(changepoint_prior_scale=0.5)    #changepoint_prior_scale을 높게 설정하여 오버피팅 유도\n",
    "m.fit(df)"
   ]
  },
  {
   "cell_type": "code",
   "execution_count": 55,
   "metadata": {},
   "outputs": [
    {
     "name": "stderr",
     "output_type": "stream",
     "text": [
      "c:\\Users\\20061\\OneDrive\\바탕 화면\\model-test\\.venv\\Lib\\site-packages\\prophet\\forecaster.py:1854: FutureWarning: 'H' is deprecated and will be removed in a future version, please use 'h' instead.\n",
      "  dates = pd.date_range(\n"
     ]
    },
    {
     "data": {
      "text/html": [
       "<div>\n",
       "<style scoped>\n",
       "    .dataframe tbody tr th:only-of-type {\n",
       "        vertical-align: middle;\n",
       "    }\n",
       "\n",
       "    .dataframe tbody tr th {\n",
       "        vertical-align: top;\n",
       "    }\n",
       "\n",
       "    .dataframe thead th {\n",
       "        text-align: right;\n",
       "    }\n",
       "</style>\n",
       "<table border=\"1\" class=\"dataframe\">\n",
       "  <thead>\n",
       "    <tr style=\"text-align: right;\">\n",
       "      <th></th>\n",
       "      <th>ds</th>\n",
       "    </tr>\n",
       "  </thead>\n",
       "  <tbody>\n",
       "    <tr>\n",
       "      <th>0</th>\n",
       "      <td>2024-05-26 23:35:00</td>\n",
       "    </tr>\n",
       "    <tr>\n",
       "      <th>1</th>\n",
       "      <td>2024-05-27 00:05:00</td>\n",
       "    </tr>\n",
       "    <tr>\n",
       "      <th>2</th>\n",
       "      <td>2024-05-27 00:35:00</td>\n",
       "    </tr>\n",
       "    <tr>\n",
       "      <th>3</th>\n",
       "      <td>2024-05-27 01:05:00</td>\n",
       "    </tr>\n",
       "    <tr>\n",
       "      <th>4</th>\n",
       "      <td>2024-05-27 01:35:00</td>\n",
       "    </tr>\n",
       "    <tr>\n",
       "      <th>...</th>\n",
       "      <td>...</td>\n",
       "    </tr>\n",
       "    <tr>\n",
       "      <th>98</th>\n",
       "      <td>2024-05-29 11:05:00</td>\n",
       "    </tr>\n",
       "    <tr>\n",
       "      <th>99</th>\n",
       "      <td>2024-05-29 12:05:00</td>\n",
       "    </tr>\n",
       "    <tr>\n",
       "      <th>100</th>\n",
       "      <td>2024-05-29 13:05:00</td>\n",
       "    </tr>\n",
       "    <tr>\n",
       "      <th>101</th>\n",
       "      <td>2024-05-29 14:05:00</td>\n",
       "    </tr>\n",
       "    <tr>\n",
       "      <th>102</th>\n",
       "      <td>2024-05-29 15:05:00</td>\n",
       "    </tr>\n",
       "  </tbody>\n",
       "</table>\n",
       "<p>103 rows × 1 columns</p>\n",
       "</div>"
      ],
      "text/plain": [
       "                     ds\n",
       "0   2024-05-26 23:35:00\n",
       "1   2024-05-27 00:05:00\n",
       "2   2024-05-27 00:35:00\n",
       "3   2024-05-27 01:05:00\n",
       "4   2024-05-27 01:35:00\n",
       "..                  ...\n",
       "98  2024-05-29 11:05:00\n",
       "99  2024-05-29 12:05:00\n",
       "100 2024-05-29 13:05:00\n",
       "101 2024-05-29 14:05:00\n",
       "102 2024-05-29 15:05:00\n",
       "\n",
       "[103 rows x 1 columns]"
      ]
     },
     "execution_count": 55,
     "metadata": {},
     "output_type": "execute_result"
    }
   ],
   "source": [
    "future_hours = m.make_future_dataframe(periods=24, freq='H')\n",
    "future_hours"
   ]
  },
  {
   "cell_type": "code",
   "execution_count": 56,
   "metadata": {},
   "outputs": [
    {
     "data": {
      "text/html": [
       "<div>\n",
       "<style scoped>\n",
       "    .dataframe tbody tr th:only-of-type {\n",
       "        vertical-align: middle;\n",
       "    }\n",
       "\n",
       "    .dataframe tbody tr th {\n",
       "        vertical-align: top;\n",
       "    }\n",
       "\n",
       "    .dataframe thead th {\n",
       "        text-align: right;\n",
       "    }\n",
       "</style>\n",
       "<table border=\"1\" class=\"dataframe\">\n",
       "  <thead>\n",
       "    <tr style=\"text-align: right;\">\n",
       "      <th></th>\n",
       "      <th>ds</th>\n",
       "      <th>yhat</th>\n",
       "      <th>yhat_lower</th>\n",
       "      <th>yhat_upper</th>\n",
       "    </tr>\n",
       "  </thead>\n",
       "  <tbody>\n",
       "    <tr>\n",
       "      <th>0</th>\n",
       "      <td>2024-05-26 23:35:00</td>\n",
       "      <td>3160.311000</td>\n",
       "      <td>-4084.375571</td>\n",
       "      <td>10573.765919</td>\n",
       "    </tr>\n",
       "    <tr>\n",
       "      <th>1</th>\n",
       "      <td>2024-05-27 00:05:00</td>\n",
       "      <td>3891.629987</td>\n",
       "      <td>-3856.474147</td>\n",
       "      <td>11536.826946</td>\n",
       "    </tr>\n",
       "    <tr>\n",
       "      <th>2</th>\n",
       "      <td>2024-05-27 00:35:00</td>\n",
       "      <td>4622.948975</td>\n",
       "      <td>-2965.879878</td>\n",
       "      <td>11867.388518</td>\n",
       "    </tr>\n",
       "    <tr>\n",
       "      <th>3</th>\n",
       "      <td>2024-05-27 01:05:00</td>\n",
       "      <td>5354.267961</td>\n",
       "      <td>-2646.738317</td>\n",
       "      <td>13501.626766</td>\n",
       "    </tr>\n",
       "    <tr>\n",
       "      <th>4</th>\n",
       "      <td>2024-05-27 01:35:00</td>\n",
       "      <td>6085.586946</td>\n",
       "      <td>-1487.804688</td>\n",
       "      <td>14204.282034</td>\n",
       "    </tr>\n",
       "    <tr>\n",
       "      <th>...</th>\n",
       "      <td>...</td>\n",
       "      <td>...</td>\n",
       "      <td>...</td>\n",
       "      <td>...</td>\n",
       "    </tr>\n",
       "    <tr>\n",
       "      <th>98</th>\n",
       "      <td>2024-05-29 11:05:00</td>\n",
       "      <td>151217.505320</td>\n",
       "      <td>80953.096462</td>\n",
       "      <td>223099.862824</td>\n",
       "    </tr>\n",
       "    <tr>\n",
       "      <th>99</th>\n",
       "      <td>2024-05-29 12:05:00</td>\n",
       "      <td>155780.913161</td>\n",
       "      <td>80518.269797</td>\n",
       "      <td>230912.433539</td>\n",
       "    </tr>\n",
       "    <tr>\n",
       "      <th>100</th>\n",
       "      <td>2024-05-29 13:05:00</td>\n",
       "      <td>160344.321002</td>\n",
       "      <td>81765.019579</td>\n",
       "      <td>243977.125563</td>\n",
       "    </tr>\n",
       "    <tr>\n",
       "      <th>101</th>\n",
       "      <td>2024-05-29 14:05:00</td>\n",
       "      <td>164907.728844</td>\n",
       "      <td>80431.734116</td>\n",
       "      <td>253815.260115</td>\n",
       "    </tr>\n",
       "    <tr>\n",
       "      <th>102</th>\n",
       "      <td>2024-05-29 15:05:00</td>\n",
       "      <td>169471.136685</td>\n",
       "      <td>77467.956637</td>\n",
       "      <td>261279.925748</td>\n",
       "    </tr>\n",
       "  </tbody>\n",
       "</table>\n",
       "<p>103 rows × 4 columns</p>\n",
       "</div>"
      ],
      "text/plain": [
       "                     ds           yhat    yhat_lower     yhat_upper\n",
       "0   2024-05-26 23:35:00    3160.311000  -4084.375571   10573.765919\n",
       "1   2024-05-27 00:05:00    3891.629987  -3856.474147   11536.826946\n",
       "2   2024-05-27 00:35:00    4622.948975  -2965.879878   11867.388518\n",
       "3   2024-05-27 01:05:00    5354.267961  -2646.738317   13501.626766\n",
       "4   2024-05-27 01:35:00    6085.586946  -1487.804688   14204.282034\n",
       "..                  ...            ...           ...            ...\n",
       "98  2024-05-29 11:05:00  151217.505320  80953.096462  223099.862824\n",
       "99  2024-05-29 12:05:00  155780.913161  80518.269797  230912.433539\n",
       "100 2024-05-29 13:05:00  160344.321002  81765.019579  243977.125563\n",
       "101 2024-05-29 14:05:00  164907.728844  80431.734116  253815.260115\n",
       "102 2024-05-29 15:05:00  169471.136685  77467.956637  261279.925748\n",
       "\n",
       "[103 rows x 4 columns]"
      ]
     },
     "execution_count": 56,
     "metadata": {},
     "output_type": "execute_result"
    }
   ],
   "source": [
    "forecast = m.predict(future_hours)\n",
    "forecast[['ds', 'yhat', 'yhat_lower', 'yhat_upper']]"
   ]
  },
  {
   "cell_type": "code",
   "execution_count": 57,
   "metadata": {},
   "outputs": [
    {
     "name": "stderr",
     "output_type": "stream",
     "text": [
      "c:\\Users\\20061\\OneDrive\\바탕 화면\\model-test\\.venv\\Lib\\site-packages\\prophet\\plot.py:72: FutureWarning: The behavior of DatetimeProperties.to_pydatetime is deprecated, in a future version this will return a Series containing python datetime objects instead of an ndarray. To retain the old behavior, call `np.array` on the result\n",
      "  fcst_t = fcst['ds'].dt.to_pydatetime()\n",
      "c:\\Users\\20061\\OneDrive\\바탕 화면\\model-test\\.venv\\Lib\\site-packages\\prophet\\plot.py:73: FutureWarning: The behavior of DatetimeProperties.to_pydatetime is deprecated, in a future version this will return a Series containing python datetime objects instead of an ndarray. To retain the old behavior, call `np.array` on the result\n",
      "  ax.plot(m.history['ds'].dt.to_pydatetime(), m.history['y'], 'k.',\n"
     ]
    },
    {
     "data": {
      "image/png": "[encoded data removed]",
      "text/plain": [
       "<Figure size 1000x600 with 1 Axes>"
      ]
     },
     "metadata": {},
     "output_type": "display_data"
    }
   ],
   "source": [
    "fig1 = m.plot(forecast)"
   ]
  },
  {
   "cell_type": "code",
   "execution_count": 58,
   "metadata": {},
   "outputs": [
    {
     "name": "stderr",
     "output_type": "stream",
     "text": [
      "c:\\Users\\20061\\OneDrive\\바탕 화면\\model-test\\.venv\\Lib\\site-packages\\prophet\\plot.py:228: FutureWarning: The behavior of DatetimeProperties.to_pydatetime is deprecated, in a future version this will return a Series containing python datetime objects instead of an ndarray. To retain the old behavior, call `np.array` on the result\n",
      "  fcst_t = fcst['ds'].dt.to_pydatetime()\n"
     ]
    },
    {
     "data": {
      "image/png": "[encoded data removed]",
      "text/plain": [
       "<Figure size 900x300 with 1 Axes>"
      ]
     },
     "metadata": {},
     "output_type": "display_data"
    }
   ],
   "source": [
    "fig2 = m.plot_components(forecast)"
   ]
  },
  {
   "cell_type": "code",
   "execution_count": null,
   "metadata": {},
   "outputs": [],
   "source": []
  },
  {
   "cell_type": "markdown",
   "metadata": {},
   "source": [
    "## 가짜 데이터 생성"
   ]
  },
  {
   "cell_type": "code",
   "execution_count": 59,
   "metadata": {},
   "outputs": [],
   "source": [
    "import pandas as pd\n",
    "import numpy as np\n",
    "from datetime import timedelta"
   ]
  },
  {
   "cell_type": "code",
   "execution_count": 60,
   "metadata": {},
   "outputs": [
    {
     "name": "stderr",
     "output_type": "stream",
     "text": [
      "C:\\Users\\20061\\AppData\\Local\\Temp\\ipykernel_27728\\11390676.py:4: SettingWithCopyWarning: \n",
      "A value is trying to be set on a copy of a slice from a DataFrame\n",
      "\n",
      "See the caveats in the documentation: https://pandas.pydata.org/pandas-docs/stable/user_guide/indexing.html#returning-a-view-versus-a-copy\n",
      "  df_result.sort_values('measurement_time', axis=0, ascending=True, inplace=True)\n"
     ]
    },
    {
     "data": {
      "text/html": [
       "<div>\n",
       "<style scoped>\n",
       "    .dataframe tbody tr th:only-of-type {\n",
       "        vertical-align: middle;\n",
       "    }\n",
       "\n",
       "    .dataframe tbody tr th {\n",
       "        vertical-align: top;\n",
       "    }\n",
       "\n",
       "    .dataframe thead th {\n",
       "        text-align: right;\n",
       "    }\n",
       "</style>\n",
       "<table border=\"1\" class=\"dataframe\">\n",
       "  <thead>\n",
       "    <tr style=\"text-align: right;\">\n",
       "      <th></th>\n",
       "      <th>area_search</th>\n",
       "      <th>measurement_time</th>\n",
       "      <th>congest_median</th>\n",
       "    </tr>\n",
       "  </thead>\n",
       "  <tbody>\n",
       "    <tr>\n",
       "      <th>0</th>\n",
       "      <td>교대역</td>\n",
       "      <td>2024-05-26 23:35:00</td>\n",
       "      <td>3250.0</td>\n",
       "    </tr>\n",
       "    <tr>\n",
       "      <th>1</th>\n",
       "      <td>교대역</td>\n",
       "      <td>2024-05-27 00:05:00</td>\n",
       "      <td>2750.0</td>\n",
       "    </tr>\n",
       "    <tr>\n",
       "      <th>2</th>\n",
       "      <td>교대역</td>\n",
       "      <td>2024-05-27 00:35:00</td>\n",
       "      <td>2750.0</td>\n",
       "    </tr>\n",
       "    <tr>\n",
       "      <th>3</th>\n",
       "      <td>교대역</td>\n",
       "      <td>2024-05-27 01:05:00</td>\n",
       "      <td>2250.0</td>\n",
       "    </tr>\n",
       "    <tr>\n",
       "      <th>4</th>\n",
       "      <td>교대역</td>\n",
       "      <td>2024-05-27 01:35:00</td>\n",
       "      <td>2250.0</td>\n",
       "    </tr>\n",
       "    <tr>\n",
       "      <th>...</th>\n",
       "      <td>...</td>\n",
       "      <td>...</td>\n",
       "      <td>...</td>\n",
       "    </tr>\n",
       "    <tr>\n",
       "      <th>73</th>\n",
       "      <td>교대역</td>\n",
       "      <td>2024-05-28 13:10:00</td>\n",
       "      <td>21000.0</td>\n",
       "    </tr>\n",
       "    <tr>\n",
       "      <th>74</th>\n",
       "      <td>교대역</td>\n",
       "      <td>2024-05-28 13:35:00</td>\n",
       "      <td>21000.0</td>\n",
       "    </tr>\n",
       "    <tr>\n",
       "      <th>75</th>\n",
       "      <td>교대역</td>\n",
       "      <td>2024-05-28 14:10:00</td>\n",
       "      <td>21000.0</td>\n",
       "    </tr>\n",
       "    <tr>\n",
       "      <th>76</th>\n",
       "      <td>교대역</td>\n",
       "      <td>2024-05-28 14:35:00</td>\n",
       "      <td>21000.0</td>\n",
       "    </tr>\n",
       "    <tr>\n",
       "      <th>77</th>\n",
       "      <td>교대역</td>\n",
       "      <td>2024-05-28 15:05:00</td>\n",
       "      <td>19000.0</td>\n",
       "    </tr>\n",
       "  </tbody>\n",
       "</table>\n",
       "<p>78 rows × 3 columns</p>\n",
       "</div>"
      ],
      "text/plain": [
       "   area_search    measurement_time  congest_median\n",
       "0          교대역 2024-05-26 23:35:00          3250.0\n",
       "1          교대역 2024-05-27 00:05:00          2750.0\n",
       "2          교대역 2024-05-27 00:35:00          2750.0\n",
       "3          교대역 2024-05-27 01:05:00          2250.0\n",
       "4          교대역 2024-05-27 01:35:00          2250.0\n",
       "..         ...                 ...             ...\n",
       "73         교대역 2024-05-28 13:10:00         21000.0\n",
       "74         교대역 2024-05-28 13:35:00         21000.0\n",
       "75         교대역 2024-05-28 14:10:00         21000.0\n",
       "76         교대역 2024-05-28 14:35:00         21000.0\n",
       "77         교대역 2024-05-28 15:05:00         19000.0\n",
       "\n",
       "[78 rows x 3 columns]"
      ]
     },
     "execution_count": 60,
     "metadata": {},
     "output_type": "execute_result"
    }
   ],
   "source": [
    "last_days_data = get_location_data(\"교대역\")\n",
    "last_days_data['measurement_time'] = pd.to_datetime(data['measurement_time'])\n",
    "last_days_data"
   ]
  },
  {
   "cell_type": "code",
   "execution_count": 61,
   "metadata": {},
   "outputs": [
    {
     "data": {
      "text/html": [
       "<div>\n",
       "<style scoped>\n",
       "    .dataframe tbody tr th:only-of-type {\n",
       "        vertical-align: middle;\n",
       "    }\n",
       "\n",
       "    .dataframe tbody tr th {\n",
       "        vertical-align: top;\n",
       "    }\n",
       "\n",
       "    .dataframe thead th {\n",
       "        text-align: right;\n",
       "    }\n",
       "</style>\n",
       "<table border=\"1\" class=\"dataframe\">\n",
       "  <thead>\n",
       "    <tr style=\"text-align: right;\">\n",
       "      <th></th>\n",
       "      <th>measurement_time</th>\n",
       "      <th>congest_median</th>\n",
       "    </tr>\n",
       "  </thead>\n",
       "  <tbody>\n",
       "    <tr>\n",
       "      <th>0</th>\n",
       "      <td>2024-04-28 15:05:00.000000000</td>\n",
       "      <td>3250.0</td>\n",
       "    </tr>\n",
       "    <tr>\n",
       "      <th>1</th>\n",
       "      <td>2024-04-28 15:14:30.065979858</td>\n",
       "      <td>2750.0</td>\n",
       "    </tr>\n",
       "    <tr>\n",
       "      <th>2</th>\n",
       "      <td>2024-04-28 15:24:00.131959717</td>\n",
       "      <td>2750.0</td>\n",
       "    </tr>\n",
       "    <tr>\n",
       "      <th>3</th>\n",
       "      <td>2024-04-28 15:33:30.197939576</td>\n",
       "      <td>2250.0</td>\n",
       "    </tr>\n",
       "    <tr>\n",
       "      <th>4</th>\n",
       "      <td>2024-04-28 15:43:00.263919435</td>\n",
       "      <td>2250.0</td>\n",
       "    </tr>\n",
       "    <tr>\n",
       "      <th>...</th>\n",
       "      <td>...</td>\n",
       "      <td>...</td>\n",
       "    </tr>\n",
       "    <tr>\n",
       "      <th>8635</th>\n",
       "      <td>2024-06-24 14:26:59.736080564</td>\n",
       "      <td>2750.0</td>\n",
       "    </tr>\n",
       "    <tr>\n",
       "      <th>8636</th>\n",
       "      <td>2024-06-24 14:36:29.802060423</td>\n",
       "      <td>2750.0</td>\n",
       "    </tr>\n",
       "    <tr>\n",
       "      <th>8637</th>\n",
       "      <td>2024-06-24 14:45:59.868040282</td>\n",
       "      <td>2250.0</td>\n",
       "    </tr>\n",
       "    <tr>\n",
       "      <th>8638</th>\n",
       "      <td>2024-06-24 14:55:29.934020141</td>\n",
       "      <td>2250.0</td>\n",
       "    </tr>\n",
       "    <tr>\n",
       "      <th>8639</th>\n",
       "      <td>2024-06-24 15:05:00.000000000</td>\n",
       "      <td>2750.0</td>\n",
       "    </tr>\n",
       "  </tbody>\n",
       "</table>\n",
       "<p>8640 rows × 2 columns</p>\n",
       "</div>"
      ],
      "text/plain": [
       "                  measurement_time  congest_median\n",
       "0    2024-04-28 15:05:00.000000000          3250.0\n",
       "1    2024-04-28 15:14:30.065979858          2750.0\n",
       "2    2024-04-28 15:24:00.131959717          2750.0\n",
       "3    2024-04-28 15:33:30.197939576          2250.0\n",
       "4    2024-04-28 15:43:00.263919435          2250.0\n",
       "...                            ...             ...\n",
       "8635 2024-06-24 14:26:59.736080564          2750.0\n",
       "8636 2024-06-24 14:36:29.802060423          2750.0\n",
       "8637 2024-06-24 14:45:59.868040282          2250.0\n",
       "8638 2024-06-24 14:55:29.934020141          2250.0\n",
       "8639 2024-06-24 15:05:00.000000000          2750.0\n",
       "\n",
       "[8640 rows x 2 columns]"
      ]
     },
     "execution_count": 61,
     "metadata": {},
     "output_type": "execute_result"
    }
   ],
   "source": [
    "# 5분 단위로 데이터가 수집되므로 주기 계산 (하루에 288개 데이터 포인트)\n",
    "freq = '5T'\n",
    "days = 30\n",
    "period = days * 24 * 60 // 5  # 주어진 일수 동안의 5분 단위 수\n",
    "\n",
    "# 지난 3일 간의 데이터 반복하여 한 달 간의 데이터 생성\n",
    "repeated_data = np.tile(last_days_data['congest_median'].values, period // len(last_days_data) + 1)[:period]\n",
    "\n",
    "# 타임스탬프 생성\n",
    "end_date = last_days_data['measurement_time'].max() + timedelta(days=days-3)\n",
    "start_date = last_days_data['measurement_time'].max() + timedelta(days=-30)\n",
    "date_range = pd.date_range(start=start_date, end=end_date, periods=period)\n",
    "\n",
    "\n",
    "fake_data = pd.DataFrame({'measurement_time': date_range, 'congest_median': repeated_data})\n",
    "fake_data\n"
   ]
  },
  {
   "cell_type": "code",
   "execution_count": null,
   "metadata": {},
   "outputs": [],
   "source": []
  },
  {
   "cell_type": "code",
   "execution_count": null,
   "metadata": {},
   "outputs": [],
   "source": []
  },
  {
   "cell_type": "code",
   "execution_count": null,
   "metadata": {},
   "outputs": [],
   "source": [
    "data = pd.read_json('data/crawling_congest/data_2024-05-31_15_37.json')"
   ]
  }
 ],
 "metadata": {
  "kernelspec": {
   "display_name": ".venv",
   "language": "python",
   "name": "python3"
  },
  "language_info": {
   "codemirror_mode": {
    "name": "ipython",
    "version": 3
   },
   "file_extension": ".py",
   "mimetype": "text/x-python",
   "name": "python",
   "nbconvert_exporter": "python",
   "pygments_lexer": "ipython3",
   "version": "3.12.3"
  }
 },
 "nbformat": 4,
 "nbformat_minor": 2
}
