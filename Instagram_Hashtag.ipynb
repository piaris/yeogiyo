{
 "cells": [
  {
   "cell_type": "code",
   "execution_count": null,
   "metadata": {},
   "outputs": [],
   "source": [
    "graph_url = 'https://graph.facebook.com/v19.0/'"
   ]
  },
  {
   "cell_type": "code",
   "execution_count": null,
   "metadata": {},
   "outputs": [],
   "source": [
    "def get_hashtag_id(hashtag=\"\", instagram_account_id=\"\", access_token=\"\"):\n",
    "    url = graph_url + \"ig_hashtag_search\"\n",
    "    param = dict()\n",
    "    param[\"user_id\"] = instagram_account_id\n",
    "    param[\"q\"] = hashtag\n",
    "    param[\"access_token\"] = access_token\n",
    "    response = requests.get(url, param)\n",
    "    response = response.json()\n",
    "    hashtag_id = response[\"data\"][0][\"id\"]\n",
    "    return hashtag_id"
   ]
  }
 ],
 "metadata": {
  "kernelspec": {
   "display_name": "base",
   "language": "python",
   "name": "python3"
  },
  "language_info": {
   "name": "python",
   "version": "3.11.7"
  }
 },
 "nbformat": 4,
 "nbformat_minor": 2
}
