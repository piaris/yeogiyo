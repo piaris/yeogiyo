{
 "cells": [
  {
   "cell_type": "markdown",
   "metadata": {},
   "source": [
    "# 인스타그램 API 이용"
   ]
  },
  {
   "cell_type": "code",
   "execution_count": 6,
   "metadata": {},
   "outputs": [],
   "source": [
    "# 옵션 설정\n",
    "import warnings\n",
    "warnings.filterwarnings(\"ignore\")\n",
    "\n",
    "import matplotlib.pyplot as plt\n",
    "plt.rcParams['font.family'] ='Malgun Gothic'\n",
    "plt.rcParams['axes.unicode_minus'] =False\n",
    "\n",
    "# 필요한 패키지\n",
    "import re\n",
    "import requests\n",
    "import numpy as np\n",
    "import pandas as pd"
   ]
  },
  {
   "cell_type": "code",
   "execution_count": 14,
   "metadata": {},
   "outputs": [],
   "source": [
    "graph_url = \"https://graph.facebook.com/v19.0/\"\n",
    "instagram_account_id = \"17841465954175977\"\n",
    "access_token = \"EABoZCdIXMDLoBOwWQNJWqCbo9Vwy9CthjrHzbZBNhxtp7Y3iEzY2nxdZCMkf1ZCMGDWiv9sZBJhuYXU2ZBTV0IourDZBNOO12W9igN1LACsAXDtsLh7QxFTKYL90YnaT8xr8py2T0q2cxsXKDqYXEWCXrDVC2ql8GOsXaARjPgEZByZCQPsZCCj5XSG6HI5VrRYFnyBcbZAJFRWBGsCG4FIzFWVEvIG5hAiRhdOffwZD\""
   ]
  },
  {
   "cell_type": "code",
   "execution_count": 15,
   "metadata": {},
   "outputs": [],
   "source": [
    "def get_hashtag_id(hashtag=\"\", instagram_account_id=\"\", access_token=\"\"):\n",
    "    url = graph_url + \"ig_hashtag_search\"\n",
    "    param = dict()\n",
    "    param[\"user_id\"] = instagram_account_id\n",
    "    param[\"q\"] = hashtag\n",
    "    param[\"access_token\"] = access_token\n",
    "    response = requests.get(url, param)\n",
    "    response = response.json()\n",
    "    hashtag_id = response[\"data\"][0][\"id\"]\n",
    "    return hashtag_id"
   ]
  },
  {
   "cell_type": "code",
   "execution_count": 16,
   "metadata": {},
   "outputs": [
    {
     "ename": "KeyError",
     "evalue": "'data'",
     "output_type": "error",
     "traceback": [
      "\u001b[1;31m---------------------------------------------------------------------------\u001b[0m",
      "\u001b[1;31mKeyError\u001b[0m                                  Traceback (most recent call last)",
      "Cell \u001b[1;32mIn[16], line 1\u001b[0m\n\u001b[1;32m----> 1\u001b[0m get_hashtag_id(\n\u001b[0;32m      2\u001b[0m     hashtag\u001b[38;5;241m=\u001b[39m\u001b[38;5;124m\"\u001b[39m\u001b[38;5;124m광화문\u001b[39m\u001b[38;5;124m\"\u001b[39m,\n\u001b[0;32m      3\u001b[0m     instagram_account_id\u001b[38;5;241m=\u001b[39minstagram_account_id,\n\u001b[0;32m      4\u001b[0m     access_token\u001b[38;5;241m=\u001b[39maccess_token)\n",
      "Cell \u001b[1;32mIn[15], line 9\u001b[0m, in \u001b[0;36mget_hashtag_id\u001b[1;34m(hashtag, instagram_account_id, access_token)\u001b[0m\n\u001b[0;32m      7\u001b[0m response \u001b[38;5;241m=\u001b[39m requests\u001b[38;5;241m.\u001b[39mget(url, param)\n\u001b[0;32m      8\u001b[0m response \u001b[38;5;241m=\u001b[39m response\u001b[38;5;241m.\u001b[39mjson()\n\u001b[1;32m----> 9\u001b[0m hashtag_id \u001b[38;5;241m=\u001b[39m response[\u001b[38;5;124m\"\u001b[39m\u001b[38;5;124mdata\u001b[39m\u001b[38;5;124m\"\u001b[39m][\u001b[38;5;241m0\u001b[39m][\u001b[38;5;124m\"\u001b[39m\u001b[38;5;124mid\u001b[39m\u001b[38;5;124m\"\u001b[39m]\n\u001b[0;32m     10\u001b[0m \u001b[38;5;28;01mreturn\u001b[39;00m hashtag_id\n",
      "\u001b[1;31mKeyError\u001b[0m: 'data'"
     ]
    }
   ],
   "source": [
    "get_hashtag_id(\n",
    "    hashtag=\"광화문\",\n",
    "    instagram_account_id=instagram_account_id,\n",
    "    access_token=access_token)"
   ]
  },
  {
   "cell_type": "code",
   "execution_count": null,
   "metadata": {},
   "outputs": [],
   "source": []
  },
  {
   "cell_type": "code",
   "execution_count": null,
   "metadata": {},
   "outputs": [],
   "source": []
  },
  {
   "cell_type": "code",
   "execution_count": null,
   "metadata": {},
   "outputs": [],
   "source": []
  },
  {
   "cell_type": "code",
   "execution_count": null,
   "metadata": {},
   "outputs": [],
   "source": []
  },
  {
   "cell_type": "code",
   "execution_count": null,
   "metadata": {},
   "outputs": [],
   "source": []
  }
 ],
 "metadata": {
  "kernelspec": {
   "display_name": "base",
   "language": "python",
   "name": "python3"
  },
  "language_info": {
   "codemirror_mode": {
    "name": "ipython",
    "version": 3
   },
   "file_extension": ".py",
   "mimetype": "text/x-python",
   "name": "python",
   "nbconvert_exporter": "python",
   "pygments_lexer": "ipython3",
   "version": "3.11.7"
  }
 },
 "nbformat": 4,
 "nbformat_minor": 2
}
