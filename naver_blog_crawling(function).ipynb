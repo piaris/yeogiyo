{
 "cells": [
  {
   "cell_type": "markdown",
   "metadata": {},
   "source": [
    "# 수정중"
   ]
  },
  {
   "cell_type": "code",
   "execution_count": null,
   "metadata": {},
   "outputs": [],
   "source": [
    "import os\n",
    "import sys\n",
    "import pandas as pd\n",
    "import time\n",
    "from datetime import datetime, date, timedelta\n",
    "from bs4 import BeautifulSoup\n",
    "\n",
    "\n",
    "from webdriver_manager.chrome import ChromeDriverManager\n",
    "from selenium.webdriver.chrome.service import Service\n",
    "from selenium import webdriver\n",
    "\n",
    "from selenium.webdriver.common.by import By\n",
    "from selenium.webdriver.common.keys import Keys\n",
    "from selenium.webdriver.support.ui import Select\n",
    "\n",
    "from selenium.webdriver.support.ui import WebDriverWait\n",
    "from selenium.webdriver.support import expected_conditions as EC"
   ]
  },
  {
   "cell_type": "markdown",
   "metadata": {},
   "source": [
    "title/URL 가져오기"
   ]
  },
  {
   "cell_type": "code",
   "execution_count": null,
   "metadata": {},
   "outputs": [],
   "source": [
    "def blog_finder(keyword) :\n",
    "    # Chrome 실행\n",
    "    driver = webdriver.Chrome()\n",
    "    # url = \"https://section.blog.naver.com/\" \n",
    "    naver_url = f'https://search.naver.com/search.naver?ssc=tab.blog.all&query={keyword}&sm=tab_opt&nso=so%3Ar%2Cp%3A1w'\n",
    "    driver.get(naver_url)\n",
    "    time.sleep(2)\n",
    "\n",
    "\n",
    "    # Pagedown\n",
    "    n = 0\n",
    "    while n < 200: \n",
    "        try: \n",
    "            element = driver.find_element(By.TAG_NAME,'body')\n",
    "            element.send_keys(Keys.END)\n",
    "            n = n+1\n",
    "        except : \n",
    "            break \n",
    "    \n",
    "    \n",
    "    # 블로그 제목, url 가져오기\n",
    "    articles = \".title_link\"\n",
    "    articles_data = driver.find_elements(By.CSS_SELECTOR, articles)\n",
    "    titles = []\n",
    "    urls = []\n",
    "\n",
    "    for article in articles_data :\n",
    "        title = article.text\n",
    "        url = article.get_attribute('href')\n",
    "        titles.append(title)\n",
    "        urls.append(url)\n",
    "\n",
    "\n",
    "    print('finish')\n",
    "    print(titles)\n",
    "    print(urls)    \n",
    "    driver.close()"
   ]
  },
  {
   "cell_type": "markdown",
   "metadata": {},
   "source": [
    "연관 검색어 가져오기"
   ]
  },
  {
   "cell_type": "code",
   "execution_count": null,
   "metadata": {},
   "outputs": [],
   "source": [
    "def getSubKeyword(keyword) : \n",
    "    # Chrome 실행\n",
    "    driver = webdriver.Chrome()\n",
    "    url = f'https://search.naver.com/search.naver?ssc=tab.blog.all&query={keyword}&sm=tab_opt&nso=so%3Ar%2Cp%3A1w'\n",
    "    driver.get(url)\n",
    "    time.sleep(2)\n",
    "\n",
    "    # 전체 html 가져오기\n",
    "    html = driver.page_source\n",
    "    soup = BeautifulSoup(html,'lxml')\n",
    "    \n",
    "    \n",
    "    # 연관 검색어 태그 가져오기 \n",
    "    sub_keywords_data = soup.select('div.related_srch > ul > li')\n",
    "    sub_keywords = []\n",
    "    for i in sub_keywords_data: \n",
    "        sub_keywords.append(i.get_text())\n",
    "\n",
    "    print(sub_keywords)\n",
    "    driver.close()\n"
   ]
  },
  {
   "cell_type": "markdown",
   "metadata": {},
   "source": []
  }
 ],
 "metadata": {
  "language_info": {
   "name": "python"
  }
 },
 "nbformat": 4,
 "nbformat_minor": 2
}
